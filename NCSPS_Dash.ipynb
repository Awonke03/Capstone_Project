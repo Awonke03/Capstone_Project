{
 "cells": [
  {
   "cell_type": "code",
   "execution_count": 1,
   "metadata": {},
   "outputs": [
    {
     "name": "stderr",
     "output_type": "stream",
     "text": [
      "C:\\Users\\Admin\\AppData\\Roaming\\Python\\Python310\\site-packages\\pandas\\core\\arrays\\masked.py:60: UserWarning: Pandas requires version '1.3.6' or newer of 'bottleneck' (version '1.3.5' currently installed).\n",
      "  from pandas.core import (\n"
     ]
    }
   ],
   "source": [
    "import pandas as pd\n",
    "import plotly.express as px\n",
    "import dash\n",
    "from dash import dcc, html\n",
    "from dash.dependencies import Input, Output\n",
    "import dash_bootstrap_components as dbc\n",
    "import plotly.graph_objs as go\n",
    "from plotly.subplots import make_subplots\n",
    "from jupyter_dash import JupyterDash \n",
    "import statsmodels.api as sm\n",
    "from matplotlib import pyplot as plt\n",
    "\n",
    "import warnings\n",
    "warnings.filterwarnings(\"ignore\")\n",
    "import dash_bootstrap_components as dbc\n",
    "from dash import dcc, html\n",
    "from dash.dependencies import Input, Output"
   ]
  },
  {
   "cell_type": "code",
   "execution_count": 2,
   "metadata": {},
   "outputs": [
    {
     "data": {
      "application/vnd.plotly.v1+json": {
       "config": {
        "plotlyServerURL": "https://plot.ly"
       },
       "data": [
        {
         "alignmentgroup": "True",
         "hovertemplate": "Percentage (%)=%{marker.color}<br>Industry=%{y}<extra></extra>",
         "legendgroup": "",
         "marker": {
          "color": [
           25.7,
           18.2,
           15.4,
           11.1,
           10.7,
           6.3,
           4.3,
           4.3,
           2.8,
           1.2
          ],
          "coloraxis": "coloraxis",
          "pattern": {
           "shape": ""
          }
         },
         "name": "",
         "offsetgroup": "",
         "orientation": "h",
         "showlegend": false,
         "text": [
          25.7,
          18.2,
          15.4,
          11.1,
          10.7,
          6.3,
          4.3,
          4.3,
          2.8,
          1.2
         ],
         "textposition": "auto",
         "type": "bar",
         "x": [
          25.7,
          18.2,
          15.4,
          11.1,
          10.7,
          6.3,
          4.3,
          4.3,
          2.8,
          1.2
         ],
         "xaxis": "x",
         "y": [
          "Manufacturing",
          "Finance and insurance",
          "Professional, business, and consumer services",
          "Energy",
          "Retail and wholesale",
          "Healthcare",
          "Government",
          "Transportation",
          "Education",
          "Media and telecom"
         ],
         "yaxis": "y"
        }
       ],
       "layout": {
        "barmode": "relative",
        "coloraxis": {
         "colorbar": {
          "title": {
           "text": "Percentage (%)"
          }
         },
         "colorscale": [
          [
           0,
           "#440154"
          ],
          [
           0.1111111111111111,
           "#482878"
          ],
          [
           0.2222222222222222,
           "#3e4989"
          ],
          [
           0.3333333333333333,
           "#31688e"
          ],
          [
           0.4444444444444444,
           "#26828e"
          ],
          [
           0.5555555555555556,
           "#1f9e89"
          ],
          [
           0.6666666666666666,
           "#35b779"
          ],
          [
           0.7777777777777778,
           "#6ece58"
          ],
          [
           0.8888888888888888,
           "#b5de2b"
          ],
          [
           1,
           "#fde725"
          ]
         ]
        },
        "height": 500,
        "legend": {
         "tracegroupgap": 0
        },
        "template": {
         "data": {
          "bar": [
           {
            "error_x": {
             "color": "#2a3f5f"
            },
            "error_y": {
             "color": "#2a3f5f"
            },
            "marker": {
             "line": {
              "color": "#E5ECF6",
              "width": 0.5
             },
             "pattern": {
              "fillmode": "overlay",
              "size": 10,
              "solidity": 0.2
             }
            },
            "type": "bar"
           }
          ],
          "barpolar": [
           {
            "marker": {
             "line": {
              "color": "#E5ECF6",
              "width": 0.5
             },
             "pattern": {
              "fillmode": "overlay",
              "size": 10,
              "solidity": 0.2
             }
            },
            "type": "barpolar"
           }
          ],
          "carpet": [
           {
            "aaxis": {
             "endlinecolor": "#2a3f5f",
             "gridcolor": "white",
             "linecolor": "white",
             "minorgridcolor": "white",
             "startlinecolor": "#2a3f5f"
            },
            "baxis": {
             "endlinecolor": "#2a3f5f",
             "gridcolor": "white",
             "linecolor": "white",
             "minorgridcolor": "white",
             "startlinecolor": "#2a3f5f"
            },
            "type": "carpet"
           }
          ],
          "choropleth": [
           {
            "colorbar": {
             "outlinewidth": 0,
             "ticks": ""
            },
            "type": "choropleth"
           }
          ],
          "contour": [
           {
            "colorbar": {
             "outlinewidth": 0,
             "ticks": ""
            },
            "colorscale": [
             [
              0,
              "#0d0887"
             ],
             [
              0.1111111111111111,
              "#46039f"
             ],
             [
              0.2222222222222222,
              "#7201a8"
             ],
             [
              0.3333333333333333,
              "#9c179e"
             ],
             [
              0.4444444444444444,
              "#bd3786"
             ],
             [
              0.5555555555555556,
              "#d8576b"
             ],
             [
              0.6666666666666666,
              "#ed7953"
             ],
             [
              0.7777777777777778,
              "#fb9f3a"
             ],
             [
              0.8888888888888888,
              "#fdca26"
             ],
             [
              1,
              "#f0f921"
             ]
            ],
            "type": "contour"
           }
          ],
          "contourcarpet": [
           {
            "colorbar": {
             "outlinewidth": 0,
             "ticks": ""
            },
            "type": "contourcarpet"
           }
          ],
          "heatmap": [
           {
            "colorbar": {
             "outlinewidth": 0,
             "ticks": ""
            },
            "colorscale": [
             [
              0,
              "#0d0887"
             ],
             [
              0.1111111111111111,
              "#46039f"
             ],
             [
              0.2222222222222222,
              "#7201a8"
             ],
             [
              0.3333333333333333,
              "#9c179e"
             ],
             [
              0.4444444444444444,
              "#bd3786"
             ],
             [
              0.5555555555555556,
              "#d8576b"
             ],
             [
              0.6666666666666666,
              "#ed7953"
             ],
             [
              0.7777777777777778,
              "#fb9f3a"
             ],
             [
              0.8888888888888888,
              "#fdca26"
             ],
             [
              1,
              "#f0f921"
             ]
            ],
            "type": "heatmap"
           }
          ],
          "heatmapgl": [
           {
            "colorbar": {
             "outlinewidth": 0,
             "ticks": ""
            },
            "colorscale": [
             [
              0,
              "#0d0887"
             ],
             [
              0.1111111111111111,
              "#46039f"
             ],
             [
              0.2222222222222222,
              "#7201a8"
             ],
             [
              0.3333333333333333,
              "#9c179e"
             ],
             [
              0.4444444444444444,
              "#bd3786"
             ],
             [
              0.5555555555555556,
              "#d8576b"
             ],
             [
              0.6666666666666666,
              "#ed7953"
             ],
             [
              0.7777777777777778,
              "#fb9f3a"
             ],
             [
              0.8888888888888888,
              "#fdca26"
             ],
             [
              1,
              "#f0f921"
             ]
            ],
            "type": "heatmapgl"
           }
          ],
          "histogram": [
           {
            "marker": {
             "pattern": {
              "fillmode": "overlay",
              "size": 10,
              "solidity": 0.2
             }
            },
            "type": "histogram"
           }
          ],
          "histogram2d": [
           {
            "colorbar": {
             "outlinewidth": 0,
             "ticks": ""
            },
            "colorscale": [
             [
              0,
              "#0d0887"
             ],
             [
              0.1111111111111111,
              "#46039f"
             ],
             [
              0.2222222222222222,
              "#7201a8"
             ],
             [
              0.3333333333333333,
              "#9c179e"
             ],
             [
              0.4444444444444444,
              "#bd3786"
             ],
             [
              0.5555555555555556,
              "#d8576b"
             ],
             [
              0.6666666666666666,
              "#ed7953"
             ],
             [
              0.7777777777777778,
              "#fb9f3a"
             ],
             [
              0.8888888888888888,
              "#fdca26"
             ],
             [
              1,
              "#f0f921"
             ]
            ],
            "type": "histogram2d"
           }
          ],
          "histogram2dcontour": [
           {
            "colorbar": {
             "outlinewidth": 0,
             "ticks": ""
            },
            "colorscale": [
             [
              0,
              "#0d0887"
             ],
             [
              0.1111111111111111,
              "#46039f"
             ],
             [
              0.2222222222222222,
              "#7201a8"
             ],
             [
              0.3333333333333333,
              "#9c179e"
             ],
             [
              0.4444444444444444,
              "#bd3786"
             ],
             [
              0.5555555555555556,
              "#d8576b"
             ],
             [
              0.6666666666666666,
              "#ed7953"
             ],
             [
              0.7777777777777778,
              "#fb9f3a"
             ],
             [
              0.8888888888888888,
              "#fdca26"
             ],
             [
              1,
              "#f0f921"
             ]
            ],
            "type": "histogram2dcontour"
           }
          ],
          "mesh3d": [
           {
            "colorbar": {
             "outlinewidth": 0,
             "ticks": ""
            },
            "type": "mesh3d"
           }
          ],
          "parcoords": [
           {
            "line": {
             "colorbar": {
              "outlinewidth": 0,
              "ticks": ""
             }
            },
            "type": "parcoords"
           }
          ],
          "pie": [
           {
            "automargin": true,
            "type": "pie"
           }
          ],
          "scatter": [
           {
            "fillpattern": {
             "fillmode": "overlay",
             "size": 10,
             "solidity": 0.2
            },
            "type": "scatter"
           }
          ],
          "scatter3d": [
           {
            "line": {
             "colorbar": {
              "outlinewidth": 0,
              "ticks": ""
             }
            },
            "marker": {
             "colorbar": {
              "outlinewidth": 0,
              "ticks": ""
             }
            },
            "type": "scatter3d"
           }
          ],
          "scattercarpet": [
           {
            "marker": {
             "colorbar": {
              "outlinewidth": 0,
              "ticks": ""
             }
            },
            "type": "scattercarpet"
           }
          ],
          "scattergeo": [
           {
            "marker": {
             "colorbar": {
              "outlinewidth": 0,
              "ticks": ""
             }
            },
            "type": "scattergeo"
           }
          ],
          "scattergl": [
           {
            "marker": {
             "colorbar": {
              "outlinewidth": 0,
              "ticks": ""
             }
            },
            "type": "scattergl"
           }
          ],
          "scattermapbox": [
           {
            "marker": {
             "colorbar": {
              "outlinewidth": 0,
              "ticks": ""
             }
            },
            "type": "scattermapbox"
           }
          ],
          "scatterpolar": [
           {
            "marker": {
             "colorbar": {
              "outlinewidth": 0,
              "ticks": ""
             }
            },
            "type": "scatterpolar"
           }
          ],
          "scatterpolargl": [
           {
            "marker": {
             "colorbar": {
              "outlinewidth": 0,
              "ticks": ""
             }
            },
            "type": "scatterpolargl"
           }
          ],
          "scatterternary": [
           {
            "marker": {
             "colorbar": {
              "outlinewidth": 0,
              "ticks": ""
             }
            },
            "type": "scatterternary"
           }
          ],
          "surface": [
           {
            "colorbar": {
             "outlinewidth": 0,
             "ticks": ""
            },
            "colorscale": [
             [
              0,
              "#0d0887"
             ],
             [
              0.1111111111111111,
              "#46039f"
             ],
             [
              0.2222222222222222,
              "#7201a8"
             ],
             [
              0.3333333333333333,
              "#9c179e"
             ],
             [
              0.4444444444444444,
              "#bd3786"
             ],
             [
              0.5555555555555556,
              "#d8576b"
             ],
             [
              0.6666666666666666,
              "#ed7953"
             ],
             [
              0.7777777777777778,
              "#fb9f3a"
             ],
             [
              0.8888888888888888,
              "#fdca26"
             ],
             [
              1,
              "#f0f921"
             ]
            ],
            "type": "surface"
           }
          ],
          "table": [
           {
            "cells": {
             "fill": {
              "color": "#EBF0F8"
             },
             "line": {
              "color": "white"
             }
            },
            "header": {
             "fill": {
              "color": "#C8D4E3"
             },
             "line": {
              "color": "white"
             }
            },
            "type": "table"
           }
          ]
         },
         "layout": {
          "annotationdefaults": {
           "arrowcolor": "#2a3f5f",
           "arrowhead": 0,
           "arrowwidth": 1
          },
          "autotypenumbers": "strict",
          "coloraxis": {
           "colorbar": {
            "outlinewidth": 0,
            "ticks": ""
           }
          },
          "colorscale": {
           "diverging": [
            [
             0,
             "#8e0152"
            ],
            [
             0.1,
             "#c51b7d"
            ],
            [
             0.2,
             "#de77ae"
            ],
            [
             0.3,
             "#f1b6da"
            ],
            [
             0.4,
             "#fde0ef"
            ],
            [
             0.5,
             "#f7f7f7"
            ],
            [
             0.6,
             "#e6f5d0"
            ],
            [
             0.7,
             "#b8e186"
            ],
            [
             0.8,
             "#7fbc41"
            ],
            [
             0.9,
             "#4d9221"
            ],
            [
             1,
             "#276419"
            ]
           ],
           "sequential": [
            [
             0,
             "#0d0887"
            ],
            [
             0.1111111111111111,
             "#46039f"
            ],
            [
             0.2222222222222222,
             "#7201a8"
            ],
            [
             0.3333333333333333,
             "#9c179e"
            ],
            [
             0.4444444444444444,
             "#bd3786"
            ],
            [
             0.5555555555555556,
             "#d8576b"
            ],
            [
             0.6666666666666666,
             "#ed7953"
            ],
            [
             0.7777777777777778,
             "#fb9f3a"
            ],
            [
             0.8888888888888888,
             "#fdca26"
            ],
            [
             1,
             "#f0f921"
            ]
           ],
           "sequentialminus": [
            [
             0,
             "#0d0887"
            ],
            [
             0.1111111111111111,
             "#46039f"
            ],
            [
             0.2222222222222222,
             "#7201a8"
            ],
            [
             0.3333333333333333,
             "#9c179e"
            ],
            [
             0.4444444444444444,
             "#bd3786"
            ],
            [
             0.5555555555555556,
             "#d8576b"
            ],
            [
             0.6666666666666666,
             "#ed7953"
            ],
            [
             0.7777777777777778,
             "#fb9f3a"
            ],
            [
             0.8888888888888888,
             "#fdca26"
            ],
            [
             1,
             "#f0f921"
            ]
           ]
          },
          "colorway": [
           "#636efa",
           "#EF553B",
           "#00cc96",
           "#ab63fa",
           "#FFA15A",
           "#19d3f3",
           "#FF6692",
           "#B6E880",
           "#FF97FF",
           "#FECB52"
          ],
          "font": {
           "color": "#2a3f5f"
          },
          "geo": {
           "bgcolor": "white",
           "lakecolor": "white",
           "landcolor": "#E5ECF6",
           "showlakes": true,
           "showland": true,
           "subunitcolor": "white"
          },
          "hoverlabel": {
           "align": "left"
          },
          "hovermode": "closest",
          "mapbox": {
           "style": "light"
          },
          "paper_bgcolor": "white",
          "plot_bgcolor": "#E5ECF6",
          "polar": {
           "angularaxis": {
            "gridcolor": "white",
            "linecolor": "white",
            "ticks": ""
           },
           "bgcolor": "#E5ECF6",
           "radialaxis": {
            "gridcolor": "white",
            "linecolor": "white",
            "ticks": ""
           }
          },
          "scene": {
           "xaxis": {
            "backgroundcolor": "#E5ECF6",
            "gridcolor": "white",
            "gridwidth": 2,
            "linecolor": "white",
            "showbackground": true,
            "ticks": "",
            "zerolinecolor": "white"
           },
           "yaxis": {
            "backgroundcolor": "#E5ECF6",
            "gridcolor": "white",
            "gridwidth": 2,
            "linecolor": "white",
            "showbackground": true,
            "ticks": "",
            "zerolinecolor": "white"
           },
           "zaxis": {
            "backgroundcolor": "#E5ECF6",
            "gridcolor": "white",
            "gridwidth": 2,
            "linecolor": "white",
            "showbackground": true,
            "ticks": "",
            "zerolinecolor": "white"
           }
          },
          "shapedefaults": {
           "line": {
            "color": "#2a3f5f"
           }
          },
          "ternary": {
           "aaxis": {
            "gridcolor": "white",
            "linecolor": "white",
            "ticks": ""
           },
           "baxis": {
            "gridcolor": "white",
            "linecolor": "white",
            "ticks": ""
           },
           "bgcolor": "#E5ECF6",
           "caxis": {
            "gridcolor": "white",
            "linecolor": "white",
            "ticks": ""
           }
          },
          "title": {
           "x": 0.05
          },
          "xaxis": {
           "automargin": true,
           "gridcolor": "white",
           "linecolor": "white",
           "ticks": "",
           "title": {
            "standoff": 15
           },
           "zerolinecolor": "white",
           "zerolinewidth": 2
          },
          "yaxis": {
           "automargin": true,
           "gridcolor": "white",
           "linecolor": "white",
           "ticks": "",
           "title": {
            "standoff": 15
           },
           "zerolinecolor": "white",
           "zerolinewidth": 2
          }
         }
        },
        "title": {
         "text": "Distribution of Cyberattacks Across Industries in 2023"
        },
        "width": 1250,
        "xaxis": {
         "anchor": "y",
         "domain": [
          0,
          1
         ],
         "title": {
          "text": "Percentage (%)"
         }
        },
        "yaxis": {
         "anchor": "x",
         "domain": [
          0,
          1
         ],
         "title": {
          "text": "Industry"
         }
        }
       }
      }
     },
     "metadata": {},
     "output_type": "display_data"
    }
   ],
   "source": [
    "# Load the dataset\n",
    "df = pd.read_csv(\"cyberattack_distribution_2023.csv\")\n",
    "\n",
    "# Create a bar chart\n",
    "fig3 = px.bar(\n",
    "    df,\n",
    "    x='Percentage',\n",
    "    y='Industry',\n",
    "    title='Distribution of Cyberattacks Across Industries in 2023',\n",
    "    labels={'Percentage': 'Percentage (%)', 'Industry': 'Industry'},\n",
    "    color='Percentage',\n",
    "    text='Percentage',\n",
    "    color_continuous_scale=px.colors.sequential.Viridis\n",
    ")\n",
    "\n",
    "# Update layout for better appearance\n",
    "fig3.update_layout(\n",
    "    xaxis=dict(title='Percentage (%)'),\n",
    "    yaxis=dict(title='Industry'),\n",
    "    width=1250,\n",
    "    height=500\n",
    ")\n",
    "\n",
    "# Show the plot\n",
    "fig3.show()\n"
   ]
  },
  {
   "cell_type": "code",
   "execution_count": 3,
   "metadata": {},
   "outputs": [
    {
     "data": {
      "image/png": "[encoded data removed]",
      "text/plain": [
       "<Figure size 1000x1000 with 2 Axes>"
      ]
     },
     "metadata": {},
     "output_type": "display_data"
    }
   ],
   "source": [
    "import numpy as np\n",
    "lith_dict = {'LITH': ['Shale', 'Sandstone', \n",
    "                      'Sandstone/Shale', 'Chalk', \n",
    "                      'Limestone', 'Marl', 'Tuff'],\n",
    "             'COUNT': [40,65, 40, 35, \n",
    "                            40, 70, 50]}\n",
    "\n",
    "df = pd.DataFrame.from_dict(lith_dict)\n",
    "\n",
    "# Get key properties for colours and labels\n",
    "max_value_full_ring = max(df['COUNT'])\n",
    "\n",
    "ring_colours = ['#2f4b7c', '#665191', '#a05195','#d45087',\n",
    "               '#f95d6a','#ff7c43','#ffa600']\n",
    "\n",
    "ring_labels = [f'   {x} ({v}) ' for x, v in zip(list(df['LITH']), \n",
    "                                                 list(df['COUNT']))]\n",
    "data_len = len(df)\n",
    "\n",
    "# Begin creating the figure\n",
    "fig = plt.figure(figsize=(10,10), linewidth=10,\n",
    "                 edgecolor='#393d5c', \n",
    "                 facecolor='#25253c')\n",
    "\n",
    "rect = [0.1,0.1,0.8,0.8]\n",
    "\n",
    "# Add axis for radial backgrounds\n",
    "ax_polar_bg = fig.add_axes(rect, polar=True, frameon=False)\n",
    "ax_polar_bg.set_theta_zero_location('N')\n",
    "ax_polar_bg.set_theta_direction(1)\n",
    "\n",
    "# Loop through each entry in the dataframe and plot a grey\n",
    "# ring to create the background for each one\n",
    "for i in range(data_len):\n",
    "    ax_polar_bg.barh(i, max_value_full_ring*1.5*np.pi/max_value_full_ring, \n",
    "                     color='grey', \n",
    "                     alpha=0.1)\n",
    "# Hide all axis items\n",
    "ax_polar_bg.axis('off')\n",
    "    \n",
    "# Add axis for radial chart for each entry in the dataframe\n",
    "ax_polar = fig.add_axes(rect, polar=True, frameon=False)\n",
    "ax_polar.set_theta_zero_location('N')\n",
    "ax_polar.set_theta_direction(1)\n",
    "ax_polar.set_rgrids([0, 1, 2, 3, 4, 5, 6], \n",
    "                    labels=ring_labels, \n",
    "                    angle=0, \n",
    "                    fontsize=14, fontweight='bold',\n",
    "                    color='white', verticalalignment='center')\n",
    "\n",
    "# Loop through each entry in the dataframe and create a coloured \n",
    "# ring for each entry\n",
    "for i in range(data_len):\n",
    "    ax_polar.barh(i, list(df['COUNT'])[i]*1.5*np.pi/max_value_full_ring, \n",
    "                  color=ring_colours[i])\n",
    "\n",
    "\n",
    "# Hide all grid elements for the    \n",
    "ax_polar.grid(False)\n",
    "ax_polar.tick_params(axis='both', left=False, bottom=False, \n",
    "                   labelbottom=False, labelleft=True)\n",
    "\n",
    "plt.show()"
   ]
  },
  {
   "cell_type": "code",
   "execution_count": 4,
   "metadata": {},
   "outputs": [
    {
     "data": {
      "application/vnd.plotly.v1+json": {
       "config": {
        "plotlyServerURL": "https://plot.ly"
       },
       "data": [
        {
         "hovertemplate": "%{x:,.0f} losses",
         "marker": {
          "color": "yellow",
          "line": {
           "color": "white",
           "width": 1
          }
         },
         "name": "Hourly Financial Losses",
         "orientation": "h",
         "type": "bar",
         "x": [
          -1175799,
          -787671,
          -479452,
          -399543,
          -308219,
          -159817,
          -171233,
          -125571,
          -91324,
          -89041,
          -60502,
          -55936,
          -58219,
          -63927,
          -29680
         ],
         "y": [
          "2022",
          "2021",
          "2020",
          "2019",
          "2018",
          "2017",
          "2016",
          "2015",
          "2014",
          "2013",
          "2012",
          "2011",
          "2010",
          "2009",
          "2008"
         ]
        },
        {
         "hovertemplate": "%{x} victims",
         "marker": {
          "color": "red",
          "line": {
           "color": "white",
           "width": 1
          }
         },
         "name": "Hourly Count of Victims",
         "orientation": "h",
         "type": "bar",
         "x": [
          105,
          97,
          90,
          53,
          40,
          34,
          34,
          33,
          31,
          30,
          33,
          36,
          35,
          38,
          31
         ],
         "y": [
          "2022",
          "2021",
          "2020",
          "2019",
          "2018",
          "2017",
          "2016",
          "2015",
          "2014",
          "2013",
          "2012",
          "2011",
          "2010",
          "2009",
          "2008"
         ]
        }
       ],
       "layout": {
        "barmode": "overlay",
        "height": 500,
        "hovermode": "y",
        "legend": {
         "orientation": "h",
         "title": {
          "text": "Metrics"
         },
         "x": 1,
         "xanchor": "right",
         "y": 1.02,
         "yanchor": "bottom"
        },
        "template": {
         "data": {
          "bar": [
           {
            "error_x": {
             "color": "#f2f5fa"
            },
            "error_y": {
             "color": "#f2f5fa"
            },
            "marker": {
             "line": {
              "color": "rgb(17,17,17)",
              "width": 0.5
             },
             "pattern": {
              "fillmode": "overlay",
              "size": 10,
              "solidity": 0.2
             }
            },
            "type": "bar"
           }
          ],
          "barpolar": [
           {
            "marker": {
             "line": {
              "color": "rgb(17,17,17)",
              "width": 0.5
             },
             "pattern": {
              "fillmode": "overlay",
              "size": 10,
              "solidity": 0.2
             }
            },
            "type": "barpolar"
           }
          ],
          "carpet": [
           {
            "aaxis": {
             "endlinecolor": "#A2B1C6",
             "gridcolor": "#506784",
             "linecolor": "#506784",
             "minorgridcolor": "#506784",
             "startlinecolor": "#A2B1C6"
            },
            "baxis": {
             "endlinecolor": "#A2B1C6",
             "gridcolor": "#506784",
             "linecolor": "#506784",
             "minorgridcolor": "#506784",
             "startlinecolor": "#A2B1C6"
            },
            "type": "carpet"
           }
          ],
          "choropleth": [
           {
            "colorbar": {
             "outlinewidth": 0,
             "ticks": ""
            },
            "type": "choropleth"
           }
          ],
          "contour": [
           {
            "colorbar": {
             "outlinewidth": 0,
             "ticks": ""
            },
            "colorscale": [
             [
              0,
              "#0d0887"
             ],
             [
              0.1111111111111111,
              "#46039f"
             ],
             [
              0.2222222222222222,
              "#7201a8"
             ],
             [
              0.3333333333333333,
              "#9c179e"
             ],
             [
              0.4444444444444444,
              "#bd3786"
             ],
             [
              0.5555555555555556,
              "#d8576b"
             ],
             [
              0.6666666666666666,
              "#ed7953"
             ],
             [
              0.7777777777777778,
              "#fb9f3a"
             ],
             [
              0.8888888888888888,
              "#fdca26"
             ],
             [
              1,
              "#f0f921"
             ]
            ],
            "type": "contour"
           }
          ],
          "contourcarpet": [
           {
            "colorbar": {
             "outlinewidth": 0,
             "ticks": ""
            },
            "type": "contourcarpet"
           }
          ],
          "heatmap": [
           {
            "colorbar": {
             "outlinewidth": 0,
             "ticks": ""
            },
            "colorscale": [
             [
              0,
              "#0d0887"
             ],
             [
              0.1111111111111111,
              "#46039f"
             ],
             [
              0.2222222222222222,
              "#7201a8"
             ],
             [
              0.3333333333333333,
              "#9c179e"
             ],
             [
              0.4444444444444444,
              "#bd3786"
             ],
             [
              0.5555555555555556,
              "#d8576b"
             ],
             [
              0.6666666666666666,
              "#ed7953"
             ],
             [
              0.7777777777777778,
              "#fb9f3a"
             ],
             [
              0.8888888888888888,
              "#fdca26"
             ],
             [
              1,
              "#f0f921"
             ]
            ],
            "type": "heatmap"
           }
          ],
          "heatmapgl": [
           {
            "colorbar": {
             "outlinewidth": 0,
             "ticks": ""
            },
            "colorscale": [
             [
              0,
              "#0d0887"
             ],
             [
              0.1111111111111111,
              "#46039f"
             ],
             [
              0.2222222222222222,
              "#7201a8"
             ],
             [
              0.3333333333333333,
              "#9c179e"
             ],
             [
              0.4444444444444444,
              "#bd3786"
             ],
             [
              0.5555555555555556,
              "#d8576b"
             ],
             [
              0.6666666666666666,
              "#ed7953"
             ],
             [
              0.7777777777777778,
              "#fb9f3a"
             ],
             [
              0.8888888888888888,
              "#fdca26"
             ],
             [
              1,
              "#f0f921"
             ]
            ],
            "type": "heatmapgl"
           }
          ],
          "histogram": [
           {
            "marker": {
             "pattern": {
              "fillmode": "overlay",
              "size": 10,
              "solidity": 0.2
             }
            },
            "type": "histogram"
           }
          ],
          "histogram2d": [
           {
            "colorbar": {
             "outlinewidth": 0,
             "ticks": ""
            },
            "colorscale": [
             [
              0,
              "#0d0887"
             ],
             [
              0.1111111111111111,
              "#46039f"
             ],
             [
              0.2222222222222222,
              "#7201a8"
             ],
             [
              0.3333333333333333,
              "#9c179e"
             ],
             [
              0.4444444444444444,
              "#bd3786"
             ],
             [
              0.5555555555555556,
              "#d8576b"
             ],
             [
              0.6666666666666666,
              "#ed7953"
             ],
             [
              0.7777777777777778,
              "#fb9f3a"
             ],
             [
              0.8888888888888888,
              "#fdca26"
             ],
             [
              1,
              "#f0f921"
             ]
            ],
            "type": "histogram2d"
           }
          ],
          "histogram2dcontour": [
           {
            "colorbar": {
             "outlinewidth": 0,
             "ticks": ""
            },
            "colorscale": [
             [
              0,
              "#0d0887"
             ],
             [
              0.1111111111111111,
              "#46039f"
             ],
             [
              0.2222222222222222,
              "#7201a8"
             ],
             [
              0.3333333333333333,
              "#9c179e"
             ],
             [
              0.4444444444444444,
              "#bd3786"
             ],
             [
              0.5555555555555556,
              "#d8576b"
             ],
             [
              0.6666666666666666,
              "#ed7953"
             ],
             [
              0.7777777777777778,
              "#fb9f3a"
             ],
             [
              0.8888888888888888,
              "#fdca26"
             ],
             [
              1,
              "#f0f921"
             ]
            ],
            "type": "histogram2dcontour"
           }
          ],
          "mesh3d": [
           {
            "colorbar": {
             "outlinewidth": 0,
             "ticks": ""
            },
            "type": "mesh3d"
           }
          ],
          "parcoords": [
           {
            "line": {
             "colorbar": {
              "outlinewidth": 0,
              "ticks": ""
             }
            },
            "type": "parcoords"
           }
          ],
          "pie": [
           {
            "automargin": true,
            "type": "pie"
           }
          ],
          "scatter": [
           {
            "marker": {
             "line": {
              "color": "#283442"
             }
            },
            "type": "scatter"
           }
          ],
          "scatter3d": [
           {
            "line": {
             "colorbar": {
              "outlinewidth": 0,
              "ticks": ""
             }
            },
            "marker": {
             "colorbar": {
              "outlinewidth": 0,
              "ticks": ""
             }
            },
            "type": "scatter3d"
           }
          ],
          "scattercarpet": [
           {
            "marker": {
             "colorbar": {
              "outlinewidth": 0,
              "ticks": ""
             }
            },
            "type": "scattercarpet"
           }
          ],
          "scattergeo": [
           {
            "marker": {
             "colorbar": {
              "outlinewidth": 0,
              "ticks": ""
             }
            },
            "type": "scattergeo"
           }
          ],
          "scattergl": [
           {
            "marker": {
             "line": {
              "color": "#283442"
             }
            },
            "type": "scattergl"
           }
          ],
          "scattermapbox": [
           {
            "marker": {
             "colorbar": {
              "outlinewidth": 0,
              "ticks": ""
             }
            },
            "type": "scattermapbox"
           }
          ],
          "scatterpolar": [
           {
            "marker": {
             "colorbar": {
              "outlinewidth": 0,
              "ticks": ""
             }
            },
            "type": "scatterpolar"
           }
          ],
          "scatterpolargl": [
           {
            "marker": {
             "colorbar": {
              "outlinewidth": 0,
              "ticks": ""
             }
            },
            "type": "scatterpolargl"
           }
          ],
          "scatterternary": [
           {
            "marker": {
             "colorbar": {
              "outlinewidth": 0,
              "ticks": ""
             }
            },
            "type": "scatterternary"
           }
          ],
          "surface": [
           {
            "colorbar": {
             "outlinewidth": 0,
             "ticks": ""
            },
            "colorscale": [
             [
              0,
              "#0d0887"
             ],
             [
              0.1111111111111111,
              "#46039f"
             ],
             [
              0.2222222222222222,
              "#7201a8"
             ],
             [
              0.3333333333333333,
              "#9c179e"
             ],
             [
              0.4444444444444444,
              "#bd3786"
             ],
             [
              0.5555555555555556,
              "#d8576b"
             ],
             [
              0.6666666666666666,
              "#ed7953"
             ],
             [
              0.7777777777777778,
              "#fb9f3a"
             ],
             [
              0.8888888888888888,
              "#fdca26"
             ],
             [
              1,
              "#f0f921"
             ]
            ],
            "type": "surface"
           }
          ],
          "table": [
           {
            "cells": {
             "fill": {
              "color": "#506784"
             },
             "line": {
              "color": "rgb(17,17,17)"
             }
            },
            "header": {
             "fill": {
              "color": "#2a3f5f"
             },
             "line": {
              "color": "rgb(17,17,17)"
             }
            },
            "type": "table"
           }
          ]
         },
         "layout": {
          "annotationdefaults": {
           "arrowcolor": "#f2f5fa",
           "arrowhead": 0,
           "arrowwidth": 1
          },
          "autotypenumbers": "strict",
          "coloraxis": {
           "colorbar": {
            "outlinewidth": 0,
            "ticks": ""
           }
          },
          "colorscale": {
           "diverging": [
            [
             0,
             "#8e0152"
            ],
            [
             0.1,
             "#c51b7d"
            ],
            [
             0.2,
             "#de77ae"
            ],
            [
             0.3,
             "#f1b6da"
            ],
            [
             0.4,
             "#fde0ef"
            ],
            [
             0.5,
             "#f7f7f7"
            ],
            [
             0.6,
             "#e6f5d0"
            ],
            [
             0.7,
             "#b8e186"
            ],
            [
             0.8,
             "#7fbc41"
            ],
            [
             0.9,
             "#4d9221"
            ],
            [
             1,
             "#276419"
            ]
           ],
           "sequential": [
            [
             0,
             "#0d0887"
            ],
            [
             0.1111111111111111,
             "#46039f"
            ],
            [
             0.2222222222222222,
             "#7201a8"
            ],
            [
             0.3333333333333333,
             "#9c179e"
            ],
            [
             0.4444444444444444,
             "#bd3786"
            ],
            [
             0.5555555555555556,
             "#d8576b"
            ],
            [
             0.6666666666666666,
             "#ed7953"
            ],
            [
             0.7777777777777778,
             "#fb9f3a"
            ],
            [
             0.8888888888888888,
             "#fdca26"
            ],
            [
             1,
             "#f0f921"
            ]
           ],
           "sequentialminus": [
            [
             0,
             "#0d0887"
            ],
            [
             0.1111111111111111,
             "#46039f"
            ],
            [
             0.2222222222222222,
             "#7201a8"
            ],
            [
             0.3333333333333333,
             "#9c179e"
            ],
            [
             0.4444444444444444,
             "#bd3786"
            ],
            [
             0.5555555555555556,
             "#d8576b"
            ],
            [
             0.6666666666666666,
             "#ed7953"
            ],
            [
             0.7777777777777778,
             "#fb9f3a"
            ],
            [
             0.8888888888888888,
             "#fdca26"
            ],
            [
             1,
             "#f0f921"
            ]
           ]
          },
          "colorway": [
           "#636efa",
           "#EF553B",
           "#00cc96",
           "#ab63fa",
           "#FFA15A",
           "#19d3f3",
           "#FF6692",
           "#B6E880",
           "#FF97FF",
           "#FECB52"
          ],
          "font": {
           "color": "#f2f5fa"
          },
          "geo": {
           "bgcolor": "rgb(17,17,17)",
           "lakecolor": "rgb(17,17,17)",
           "landcolor": "rgb(17,17,17)",
           "showlakes": true,
           "showland": true,
           "subunitcolor": "#506784"
          },
          "hoverlabel": {
           "align": "left"
          },
          "hovermode": "closest",
          "mapbox": {
           "style": "dark"
          },
          "paper_bgcolor": "rgb(17,17,17)",
          "plot_bgcolor": "rgb(17,17,17)",
          "polar": {
           "angularaxis": {
            "gridcolor": "#506784",
            "linecolor": "#506784",
            "ticks": ""
           },
           "bgcolor": "rgb(17,17,17)",
           "radialaxis": {
            "gridcolor": "#506784",
            "linecolor": "#506784",
            "ticks": ""
           }
          },
          "scene": {
           "xaxis": {
            "backgroundcolor": "rgb(17,17,17)",
            "gridcolor": "#506784",
            "gridwidth": 2,
            "linecolor": "#506784",
            "showbackground": true,
            "ticks": "",
            "zerolinecolor": "#C8D4E3"
           },
           "yaxis": {
            "backgroundcolor": "rgb(17,17,17)",
            "gridcolor": "#506784",
            "gridwidth": 2,
            "linecolor": "#506784",
            "showbackground": true,
            "ticks": "",
            "zerolinecolor": "#C8D4E3"
           },
           "zaxis": {
            "backgroundcolor": "rgb(17,17,17)",
            "gridcolor": "#506784",
            "gridwidth": 2,
            "linecolor": "#506784",
            "showbackground": true,
            "ticks": "",
            "zerolinecolor": "#C8D4E3"
           }
          },
          "shapedefaults": {
           "line": {
            "color": "#f2f5fa"
           }
          },
          "sliderdefaults": {
           "bgcolor": "#C8D4E3",
           "bordercolor": "rgb(17,17,17)",
           "borderwidth": 1,
           "tickwidth": 0
          },
          "ternary": {
           "aaxis": {
            "gridcolor": "#506784",
            "linecolor": "#506784",
            "ticks": ""
           },
           "baxis": {
            "gridcolor": "#506784",
            "linecolor": "#506784",
            "ticks": ""
           },
           "bgcolor": "rgb(17,17,17)",
           "caxis": {
            "gridcolor": "#506784",
            "linecolor": "#506784",
            "ticks": ""
           }
          },
          "title": {
           "x": 0.05
          },
          "updatemenudefaults": {
           "bgcolor": "#506784",
           "borderwidth": 0
          },
          "xaxis": {
           "automargin": true,
           "gridcolor": "#283442",
           "linecolor": "#506784",
           "ticks": "",
           "title": {
            "standoff": 15
           },
           "zerolinecolor": "#283442",
           "zerolinewidth": 2
          },
          "yaxis": {
           "automargin": true,
           "gridcolor": "#283442",
           "linecolor": "#506784",
           "ticks": "",
           "title": {
            "standoff": 15
           },
           "zerolinecolor": "#283442",
           "zerolinewidth": 2
          }
         }
        },
        "title": {
         "text": "Yearly Growth of Cybercrime Costs"
        },
        "width": 1250,
        "xaxis": {
         "showgrid": true,
         "title": {
          "text": "Hourly Financial Losses / Count of Victims"
         }
        },
        "yaxis": {
         "autorange": "reversed",
         "title": {
          "text": "Year"
         }
        }
       }
      }
     },
     "metadata": {},
     "output_type": "display_data"
    }
   ],
   "source": [
    "import pandas as pd\n",
    "import plotly.graph_objects as go\n",
    "\n",
    "df = pd.read_csv(\"cybercrime_costs.csv\")\n",
    "\n",
    "# Filter the DataFrame to only include years from 2008 onwards\n",
    "df_filtered = df[df['Year'] >= 2008]\n",
    "\n",
    "fig5 = go.Figure()\n",
    "\n",
    "fig5.add_trace(go.Bar(\n",
    "    y=df_filtered['Year'].astype(str),\n",
    "    x=-df_filtered['Hourly Financial Losses'],\n",
    "    name='Hourly Financial Losses',\n",
    "    marker_color='yellow',\n",
    "    orientation='h',\n",
    "    hovertemplate='%{x:,.0f} losses',\n",
    "    marker=dict(line=dict(width=1, color='white')),\n",
    "))\n",
    "\n",
    "fig5.add_trace(go.Bar(\n",
    "    y=df_filtered['Year'].astype(str),\n",
    "    x=df_filtered['Hourly Count of Victims'],\n",
    "    name='Hourly Count of Victims',\n",
    "    marker_color='red',\n",
    "    orientation='h',\n",
    "    hovertemplate='%{x} victims',\n",
    "    marker=dict(line=dict(width=1, color='white')),\n",
    "))\n",
    "\n",
    "fig5.update_layout(\n",
    "    title='Yearly Growth of Cybercrime Costs',\n",
    "    barmode='overlay',\n",
    "    xaxis_title='Hourly Financial Losses / Count of Victims',\n",
    "    yaxis_title='Year',\n",
    "    xaxis=dict(showgrid=True),\n",
    "    yaxis=dict(autorange=\"reversed\"),  # Automatically reverse the order of years\n",
    "    template='plotly_dark',\n",
    "    hovermode='y',\n",
    "    width=1250,\n",
    "    height=500,\n",
    "    legend=dict(title_text='Metrics', orientation='h', yanchor='bottom', y=1.02, xanchor='right', x=1),\n",
    ")\n",
    "\n",
    "fig5.show()\n"
   ]
  },
  {
   "cell_type": "code",
   "execution_count": 5,
   "metadata": {},
   "outputs": [
    {
     "data": {
      "application/vnd.plotly.v1+json": {
       "config": {
        "plotlyServerURL": "https://plot.ly"
       },
       "data": [
        {
         "coloraxis": "coloraxis",
         "geo": "geo",
         "hovertemplate": "<b>%{hovertext}</b><br><br>Year=2015<br>Country Code=%{location}<br>Cyber Threat Rate=%{z}<extra></extra>",
         "hovertext": [
          "Africa Eastern and Southern",
          "Afghanistan",
          "Africa Western and Central",
          "Angola",
          "Albania",
          "Arab World",
          "United Arab Emirates",
          "Argentina",
          "Armenia",
          "Australia",
          "Austria",
          "Azerbaijan",
          "Burundi",
          "Belgium",
          "Benin",
          "Burkina Faso",
          "Bangladesh",
          "Bulgaria",
          "Bahrain",
          "Bahamas",
          "Bosnia and Herzegovina",
          "Belarus",
          "Belize",
          "Bolivia",
          "Brazil",
          "Barbados",
          "Brunei Darussalam",
          "Bhutan",
          "Botswana",
          "Central African Republic",
          "Canada",
          "Central Europe and the Baltics",
          "Switzerland",
          "Channel Islands",
          "Chile",
          "China",
          "Cote d'Ivoire",
          "Cameroon",
          "Congo, Dem. Rep.",
          "Congo, Rep.",
          "Colombia",
          "Comoros",
          "Cabo Verde",
          "Costa Rica",
          "Caribbean small states",
          "Cuba",
          "Cyprus",
          "Czech Republic",
          "Germany",
          "Djibouti",
          "Denmark",
          "Dominican Republic",
          "Algeria",
          "East Asia and Pacific",
          "Early-demographic dividend",
          "East Asia & Pacific (excluding high income)",
          "Europe and Central Asia",
          "Europe & Central Asia (excluding high income)",
          "Ecuador",
          "Egypt",
          "Euro area",
          "Eritrea",
          "Spain",
          "Estonia",
          "Ethiopia",
          "European Union",
          "Fragile and conflict affected situations",
          "Finland",
          "Fiji",
          "France",
          "Gabon",
          "United Kingdom",
          "Georgia",
          "Ghana",
          "Guinea",
          "Gambia, The",
          "Guinea-Bissau",
          "Equatorial Guinea",
          "Greece",
          "Guatemala",
          "Guam",
          "Guyana",
          "High income",
          "Hong Kong SAR, China",
          "Honduras",
          "Heavily indebted poor countries (HIPC)",
          "Croatia",
          "Haiti",
          "Hungary",
          "IBRD only",
          "IDA & IBRD total",
          "IDA only",
          "Indonesia",
          "Indonesia",
          "East Asia & Pacific (IDA & IBRD countries)",
          "India",
          "Ireland",
          "Iran, Islamic Rep.",
          "Iraq",
          "Iceland",
          "Israel",
          "Italy",
          "Jamaica",
          "Jordan",
          "Japan",
          "Kazakhstan",
          "Kenya",
          "Kyrgyz Republic",
          "Cambodia",
          "Korea, Rep.",
          "Kuwait",
          "Latin America & Caribbean",
          "Lao PDR",
          "Lebanon",
          "Liberia",
          "Libya",
          "St. Lucia",
          "Latin America & the Caribbean (excluding high income)",
          "Least developed countries: UN classification",
          "Low income",
          "Sri Lanka",
          "Lower middle income",
          "Low & middle income",
          "Lesotho",
          "Late-demographic dividend",
          "Lithuania",
          "Luxembourg",
          "Latvia",
          "Macao SAR, China",
          "Morocco",
          "Moldova",
          "Madagascar",
          "Maldives",
          "Middle East & North Africa",
          "Mexico",
          "Middle income",
          "North Macedonia",
          "Mali",
          "Malta",
          "Myanmar",
          "Middle East & North Africa (excluding high income)",
          "Montenegro",
          "Mongolia",
          "Mozambique",
          "Mauritania",
          "Mauritius",
          "Malawi",
          "Malaysia",
          "North America",
          "Namibia",
          "New Caledonia",
          "Niger",
          "Nigeria",
          "Nicaragua",
          "Netherlands",
          "Norway",
          "Nepal",
          "New Zealand",
          "OECD members",
          "Oman",
          "Other small states",
          "Pakistan",
          "Panama",
          "Peru",
          "Philippines",
          "Papua New Guinea",
          "Poland",
          "Pre-demographic dividend",
          "Puerto Rico",
          "Korea, Dem. People’s Rep.",
          "Portugal",
          "Paraguay",
          "West Bank and Gaza",
          "Pacific island small states",
          "Post-demographic dividend",
          "French Polynesia",
          "Qatar",
          "Romania",
          "Russian Federation",
          "Rwanda",
          "South Asia",
          "Saudi Arabia",
          "Sudan",
          "Senegal",
          "Singapore",
          "Solomon Islands",
          "Sierra Leone",
          "El Salvador",
          "Somalia",
          "Serbia",
          "Sub-Saharan Africa",
          "South Sudan",
          "Sub-Saharan Africa (IDA & IBRD countries)",
          "Small states",
          "Sao Tome and Principe",
          "Suriname",
          "Slovak Republic",
          "Slovenia",
          "Sweden",
          "Eswatini",
          "Syrian Arab Republic",
          "Chad",
          "East Asia & Pacific (IDA & IBRD countries)",
          "Europe & Central Asia (IDA & IBRD countries)",
          "Togo",
          "Thailand",
          "Tajikistan",
          "Turkmenistan",
          "Latin America & the Caribbean (IDA & IBRD countries)",
          "Timor-Leste",
          "Middle East & North Africa (IDA & IBRD countries)",
          "Tonga",
          "South Asia (IDA & IBRD)",
          "Sub-Saharan Africa (IDA & IBRD)",
          "Trinidad and Tobago",
          "Tunisia",
          "Turkey",
          "Tanzania",
          "Uganda",
          "Ukraine",
          "Upper middle income",
          "Uruguay",
          "United States",
          "Uzbekistan",
          "St. Vincent and the Grenadines",
          "Venezuela, RB",
          "Virgin Islands (U.S.)",
          "Vietnam",
          "Vanuatu",
          "World",
          "Samoa",
          "Yemen, Rep.",
          "South Africa",
          "Zambia",
          "Zimbabwe"
         ],
         "locations": [
          "AFE",
          "AFG",
          "AFW",
          "AGO",
          "ALB",
          "ARB",
          "ARE",
          "ARG",
          "ARM",
          "AUS",
          "AUT",
          "AZE",
          "BDI",
          "BEL",
          "BEN",
          "BFA",
          "BGD",
          "BGR",
          "BHR",
          "BHS",
          "BIH",
          "BLR",
          "BLZ",
          "BOL",
          "BRA",
          "BRB",
          "BRN",
          "BTN",
          "BWA",
          "CAF",
          "CAN",
          "CEB",
          "CHE",
          "CHI",
          "CHL",
          "CHN",
          "CIV",
          "CMR",
          "COD",
          "COG",
          "COL",
          "COM",
          "CPV",
          "CRI",
          "CSS",
          "CUB",
          "CYP",
          "CZE",
          "DEU",
          "DJI",
          "DNK",
          "DOM",
          "DZA",
          "EAP",
          "EAR",
          "EAS",
          "ECA",
          "ECS",
          "ECU",
          "EGY",
          "EMU",
          "ERI",
          "ESP",
          "EST",
          "ETH",
          "EUU",
          "FCS",
          "FIN",
          "FJI",
          "FRA",
          "GAB",
          "GBR",
          "GEO",
          "GHA",
          "GIN",
          "GMB",
          "GNB",
          "GNQ",
          "GRC",
          "GTM",
          "GUM",
          "GUY",
          "HIC",
          "HKG",
          "HND",
          "HPC",
          "HRV",
          "HTI",
          "HUN",
          "IBD",
          "IBT",
          "IDA",
          "IDB",
          "IDN",
          "IDX",
          "IND",
          "IRL",
          "IRN",
          "IRQ",
          "ISL",
          "ISR",
          "ITA",
          "JAM",
          "JOR",
          "JPN",
          "KAZ",
          "KEN",
          "KGZ",
          "KHM",
          "KOR",
          "KWT",
          "LAC",
          "LAO",
          "LBN",
          "LBR",
          "LBY",
          "LCA",
          "LCN",
          "LDC",
          "LIC",
          "LKA",
          "LMC",
          "LMY",
          "LSO",
          "LTE",
          "LTU",
          "LUX",
          "LVA",
          "MAC",
          "MAR",
          "MDA",
          "MDG",
          "MDV",
          "MEA",
          "MEX",
          "MIC",
          "MKD",
          "MLI",
          "MLT",
          "MMR",
          "MNA",
          "MNE",
          "MNG",
          "MOZ",
          "MRT",
          "MUS",
          "MWI",
          "MYS",
          "NAC",
          "NAM",
          "NCL",
          "NER",
          "NGA",
          "NIC",
          "NLD",
          "NOR",
          "NPL",
          "NZL",
          "OED",
          "OMN",
          "OSS",
          "PAK",
          "PAN",
          "PER",
          "PHL",
          "PNG",
          "POL",
          "PRE",
          "PRI",
          "PRK",
          "PRT",
          "PRY",
          "PSE",
          "PSS",
          "PST",
          "PYF",
          "QAT",
          "ROU",
          "RUS",
          "RWA",
          "SAS",
          "SAU",
          "SDN",
          "SEN",
          "SGP",
          "SLB",
          "SLE",
          "SLV",
          "SOM",
          "SRB",
          "SSA",
          "SSD",
          "SSF",
          "SST",
          "STP",
          "SUR",
          "SVK",
          "SVN",
          "SWE",
          "SWZ",
          "SYR",
          "TCD",
          "TEA",
          "TEC",
          "TGO",
          "THA",
          "TJK",
          "TKM",
          "TLA",
          "TLS",
          "TMN",
          "TON",
          "TSA",
          "TSS",
          "TTO",
          "TUN",
          "TUR",
          "TZA",
          "UGA",
          "UKR",
          "UMC",
          "URY",
          "USA",
          "UZB",
          "VCT",
          "VEN",
          "VIR",
          "VNM",
          "VUT",
          "WLD",
          "WSM",
          "YEM",
          "ZAF",
          "ZMB",
          "ZWE"
         ],
         "name": "",
         "type": "choropleth",
         "z": [
          12.8743192327329,
          12.495,
          8.86058618801941,
          16.437,
          39.874,
          28.245064973934,
          5.008,
          20.148,
          22.125,
          13.107,
          10.566,
          13.208,
          2.673,
          22.12,
          4.618,
          7.222,
          10.666,
          21.669,
          5.488,
          25.001,
          63.15,
          10.837,
          16.507,
          6.806,
          19.454,
          28.65,
          26.258,
          10.114,
          35.723,
          10.267,
          13.208,
          20.7341222453033,
          8.822,
          20.061,
          16.085,
          10.714,
          3.477,
          6.236,
          8.444,
          39.704,
          16.695,
          19.06,
          28.543,
          22.427,
          21.6354105075814,
          6.203,
          32.349,
          12.596,
          7.212,
          72.208,
          12.151,
          16.467,
          30.258,
          10.5759329377844,
          18.5405541672136,
          10.4219030080107,
          17.3247927300299,
          19.9359961344165,
          8.84,
          34.188,
          25.352796200453,
          10.179,
          48.356,
          14.333,
          4.012,
          24.0903012830636,
          12.1695335544327,
          22.343,
          14.555,
          24.675,
          36.177,
          14.508,
          36.424,
          14.283,
          6.652,
          10.149,
          4.15,
          15.934,
          49.679,
          5.621,
          15.627,
          24.804,
          15.9844205633528,
          10.454,
          11.09,
          9.09868402208819,
          42.396,
          32.615,
          17.234,
          17.9992489254814,
          15.5736356858378,
          9.72714517264253,
          8.78989815699773,
          17.274,
          10.1974645730154,
          23.374,
          20.257,
          25.994,
          21.199,
          8.595,
          9.306,
          40.37,
          25.919,
          30.917,
          5.473,
          3.794,
          7.338,
          6.623,
          0.773,
          9.912,
          16.196,
          14.6503765701395,
          4.555,
          20.408,
          1.927,
          50.255,
          46.621,
          14.6979063912061,
          10.0067113612712,
          10.1240041645064,
          19.261,
          17.6304655080499,
          15.5094576858924,
          24.782,
          12.689101764914,
          16.34,
          17.357,
          16.312,
          4.322,
          20.864,
          12.353,
          3.339,
          16.858,
          27.0687850419274,
          8.55,
          16.1773379114935,
          47.745,
          2.158,
          11.614,
          1.595,
          28.2102801802453,
          37.741,
          12.751,
          7.231,
          18.57,
          25.577,
          6.853,
          11.261,
          11.7554817875666,
          41.308,
          37.203,
          0.694,
          10.817,
          8.81,
          11.237,
          9.89,
          19.656,
          13.917,
          15.0113587782294,
          10.23,
          24.2976155108436,
          6.676,
          11.683,
          6.87,
          8.688,
          4.555,
          20.778,
          10.3400437044922,
          26.24,
          6.823,
          31.964,
          10.911,
          37.115,
          9.0393731393433,
          15.7373458574878,
          34.243,
          0.574,
          21.635,
          16.327,
          16.644,
          19.7210405296765,
          28.979,
          32.363,
          8.044,
          9.363,
          1.322,
          8.087,
          8.68,
          33.416,
          43.234,
          11.2842114257378,
          18.969,
          11.2842114257378,
          22.9707029469586,
          20.617,
          13.068,
          26.52,
          16.274,
          20.293,
          47.971,
          21.821,
          1.54,
          10.6267921613249,
          17.9320333474645,
          4.289,
          3.151,
          18.066,
          9.478,
          14.7517235934438,
          12.537,
          28.088737874814,
          5.716,
          19.7210405296765,
          11.2842114257378,
          5.833,
          35.052,
          18.133,
          3.803,
          4.091,
          22.581,
          14.1687464441588,
          22.856,
          11.606,
          12.485,
          37.516,
          13.235,
          26.595,
          6.351,
          4.41,
          15.557597838566,
          17.533,
          24.997,
          41.999,
          17.206,
          7.862
         ]
        }
       ],
       "frames": [
        {
         "data": [
          {
           "coloraxis": "coloraxis",
           "geo": "geo",
           "hovertemplate": "<b>%{hovertext}</b><br><br>Year=2015<br>Country Code=%{location}<br>Cyber Threat Rate=%{z}<extra></extra>",
           "hovertext": [
            "Africa Eastern and Southern",
            "Afghanistan",
            "Africa Western and Central",
            "Angola",
            "Albania",
            "Arab World",
            "United Arab Emirates",
            "Argentina",
            "Armenia",
            "Australia",
            "Austria",
            "Azerbaijan",
            "Burundi",
            "Belgium",
            "Benin",
            "Burkina Faso",
            "Bangladesh",
            "Bulgaria",
            "Bahrain",
            "Bahamas",
            "Bosnia and Herzegovina",
            "Belarus",
            "Belize",
            "Bolivia",
            "Brazil",
            "Barbados",
            "Brunei Darussalam",
            "Bhutan",
            "Botswana",
            "Central African Republic",
            "Canada",
            "Central Europe and the Baltics",
            "Switzerland",
            "Channel Islands",
            "Chile",
            "China",
            "Cote d'Ivoire",
            "Cameroon",
            "Congo, Dem. Rep.",
            "Congo, Rep.",
            "Colombia",
            "Comoros",
            "Cabo Verde",
            "Costa Rica",
            "Caribbean small states",
            "Cuba",
            "Cyprus",
            "Czech Republic",
            "Germany",
            "Djibouti",
            "Denmark",
            "Dominican Republic",
            "Algeria",
            "East Asia and Pacific",
            "Early-demographic dividend",
            "East Asia & Pacific (excluding high income)",
            "Europe and Central Asia",
            "Europe & Central Asia (excluding high income)",
            "Ecuador",
            "Egypt",
            "Euro area",
            "Eritrea",
            "Spain",
            "Estonia",
            "Ethiopia",
            "European Union",
            "Fragile and conflict affected situations",
            "Finland",
            "Fiji",
            "France",
            "Gabon",
            "United Kingdom",
            "Georgia",
            "Ghana",
            "Guinea",
            "Gambia, The",
            "Guinea-Bissau",
            "Equatorial Guinea",
            "Greece",
            "Guatemala",
            "Guam",
            "Guyana",
            "High income",
            "Hong Kong SAR, China",
            "Honduras",
            "Heavily indebted poor countries (HIPC)",
            "Croatia",
            "Haiti",
            "Hungary",
            "IBRD only",
            "IDA & IBRD total",
            "IDA only",
            "Indonesia",
            "Indonesia",
            "East Asia & Pacific (IDA & IBRD countries)",
            "India",
            "Ireland",
            "Iran, Islamic Rep.",
            "Iraq",
            "Iceland",
            "Israel",
            "Italy",
            "Jamaica",
            "Jordan",
            "Japan",
            "Kazakhstan",
            "Kenya",
            "Kyrgyz Republic",
            "Cambodia",
            "Korea, Rep.",
            "Kuwait",
            "Latin America & Caribbean",
            "Lao PDR",
            "Lebanon",
            "Liberia",
            "Libya",
            "St. Lucia",
            "Latin America & the Caribbean (excluding high income)",
            "Least developed countries: UN classification",
            "Low income",
            "Sri Lanka",
            "Lower middle income",
            "Low & middle income",
            "Lesotho",
            "Late-demographic dividend",
            "Lithuania",
            "Luxembourg",
            "Latvia",
            "Macao SAR, China",
            "Morocco",
            "Moldova",
            "Madagascar",
            "Maldives",
            "Middle East & North Africa",
            "Mexico",
            "Middle income",
            "North Macedonia",
            "Mali",
            "Malta",
            "Myanmar",
            "Middle East & North Africa (excluding high income)",
            "Montenegro",
            "Mongolia",
            "Mozambique",
            "Mauritania",
            "Mauritius",
            "Malawi",
            "Malaysia",
            "North America",
            "Namibia",
            "New Caledonia",
            "Niger",
            "Nigeria",
            "Nicaragua",
            "Netherlands",
            "Norway",
            "Nepal",
            "New Zealand",
            "OECD members",
            "Oman",
            "Other small states",
            "Pakistan",
            "Panama",
            "Peru",
            "Philippines",
            "Papua New Guinea",
            "Poland",
            "Pre-demographic dividend",
            "Puerto Rico",
            "Korea, Dem. People’s Rep.",
            "Portugal",
            "Paraguay",
            "West Bank and Gaza",
            "Pacific island small states",
            "Post-demographic dividend",
            "French Polynesia",
            "Qatar",
            "Romania",
            "Russian Federation",
            "Rwanda",
            "South Asia",
            "Saudi Arabia",
            "Sudan",
            "Senegal",
            "Singapore",
            "Solomon Islands",
            "Sierra Leone",
            "El Salvador",
            "Somalia",
            "Serbia",
            "Sub-Saharan Africa",
            "South Sudan",
            "Sub-Saharan Africa (IDA & IBRD countries)",
            "Small states",
            "Sao Tome and Principe",
            "Suriname",
            "Slovak Republic",
            "Slovenia",
            "Sweden",
            "Eswatini",
            "Syrian Arab Republic",
            "Chad",
            "East Asia & Pacific (IDA & IBRD countries)",
            "Europe & Central Asia (IDA & IBRD countries)",
            "Togo",
            "Thailand",
            "Tajikistan",
            "Turkmenistan",
            "Latin America & the Caribbean (IDA & IBRD countries)",
            "Timor-Leste",
            "Middle East & North Africa (IDA & IBRD countries)",
            "Tonga",
            "South Asia (IDA & IBRD)",
            "Sub-Saharan Africa (IDA & IBRD)",
            "Trinidad and Tobago",
            "Tunisia",
            "Turkey",
            "Tanzania",
            "Uganda",
            "Ukraine",
            "Upper middle income",
            "Uruguay",
            "United States",
            "Uzbekistan",
            "St. Vincent and the Grenadines",
            "Venezuela, RB",
            "Virgin Islands (U.S.)",
            "Vietnam",
            "Vanuatu",
            "World",
            "Samoa",
            "Yemen, Rep.",
            "South Africa",
            "Zambia",
            "Zimbabwe"
           ],
           "locations": [
            "AFE",
            "AFG",
            "AFW",
            "AGO",
            "ALB",
            "ARB",
            "ARE",
            "ARG",
            "ARM",
            "AUS",
            "AUT",
            "AZE",
            "BDI",
            "BEL",
            "BEN",
            "BFA",
            "BGD",
            "BGR",
            "BHR",
            "BHS",
            "BIH",
            "BLR",
            "BLZ",
            "BOL",
            "BRA",
            "BRB",
            "BRN",
            "BTN",
            "BWA",
            "CAF",
            "CAN",
            "CEB",
            "CHE",
            "CHI",
            "CHL",
            "CHN",
            "CIV",
            "CMR",
            "COD",
            "COG",
            "COL",
            "COM",
            "CPV",
            "CRI",
            "CSS",
            "CUB",
            "CYP",
            "CZE",
            "DEU",
            "DJI",
            "DNK",
            "DOM",
            "DZA",
            "EAP",
            "EAR",
            "EAS",
            "ECA",
            "ECS",
            "ECU",
            "EGY",
            "EMU",
            "ERI",
            "ESP",
            "EST",
            "ETH",
            "EUU",
            "FCS",
            "FIN",
            "FJI",
            "FRA",
            "GAB",
            "GBR",
            "GEO",
            "GHA",
            "GIN",
            "GMB",
            "GNB",
            "GNQ",
            "GRC",
            "GTM",
            "GUM",
            "GUY",
            "HIC",
            "HKG",
            "HND",
            "HPC",
            "HRV",
            "HTI",
            "HUN",
            "IBD",
            "IBT",
            "IDA",
            "IDB",
            "IDN",
            "IDX",
            "IND",
            "IRL",
            "IRN",
            "IRQ",
            "ISL",
            "ISR",
            "ITA",
            "JAM",
            "JOR",
            "JPN",
            "KAZ",
            "KEN",
            "KGZ",
            "KHM",
            "KOR",
            "KWT",
            "LAC",
            "LAO",
            "LBN",
            "LBR",
            "LBY",
            "LCA",
            "LCN",
            "LDC",
            "LIC",
            "LKA",
            "LMC",
            "LMY",
            "LSO",
            "LTE",
            "LTU",
            "LUX",
            "LVA",
            "MAC",
            "MAR",
            "MDA",
            "MDG",
            "MDV",
            "MEA",
            "MEX",
            "MIC",
            "MKD",
            "MLI",
            "MLT",
            "MMR",
            "MNA",
            "MNE",
            "MNG",
            "MOZ",
            "MRT",
            "MUS",
            "MWI",
            "MYS",
            "NAC",
            "NAM",
            "NCL",
            "NER",
            "NGA",
            "NIC",
            "NLD",
            "NOR",
            "NPL",
            "NZL",
            "OED",
            "OMN",
            "OSS",
            "PAK",
            "PAN",
            "PER",
            "PHL",
            "PNG",
            "POL",
            "PRE",
            "PRI",
            "PRK",
            "PRT",
            "PRY",
            "PSE",
            "PSS",
            "PST",
            "PYF",
            "QAT",
            "ROU",
            "RUS",
            "RWA",
            "SAS",
            "SAU",
            "SDN",
            "SEN",
            "SGP",
            "SLB",
            "SLE",
            "SLV",
            "SOM",
            "SRB",
            "SSA",
            "SSD",
            "SSF",
            "SST",
            "STP",
            "SUR",
            "SVK",
            "SVN",
            "SWE",
            "SWZ",
            "SYR",
            "TCD",
            "TEA",
            "TEC",
            "TGO",
            "THA",
            "TJK",
            "TKM",
            "TLA",
            "TLS",
            "TMN",
            "TON",
            "TSA",
            "TSS",
            "TTO",
            "TUN",
            "TUR",
            "TZA",
            "UGA",
            "UKR",
            "UMC",
            "URY",
            "USA",
            "UZB",
            "VCT",
            "VEN",
            "VIR",
            "VNM",
            "VUT",
            "WLD",
            "WSM",
            "YEM",
            "ZAF",
            "ZMB",
            "ZWE"
           ],
           "name": "",
           "type": "choropleth",
           "z": [
            12.8743192327329,
            12.495,
            8.86058618801941,
            16.437,
            39.874,
            28.245064973934,
            5.008,
            20.148,
            22.125,
            13.107,
            10.566,
            13.208,
            2.673,
            22.12,
            4.618,
            7.222,
            10.666,
            21.669,
            5.488,
            25.001,
            63.15,
            10.837,
            16.507,
            6.806,
            19.454,
            28.65,
            26.258,
            10.114,
            35.723,
            10.267,
            13.208,
            20.7341222453033,
            8.822,
            20.061,
            16.085,
            10.714,
            3.477,
            6.236,
            8.444,
            39.704,
            16.695,
            19.06,
            28.543,
            22.427,
            21.6354105075814,
            6.203,
            32.349,
            12.596,
            7.212,
            72.208,
            12.151,
            16.467,
            30.258,
            10.5759329377844,
            18.5405541672136,
            10.4219030080107,
            17.3247927300299,
            19.9359961344165,
            8.84,
            34.188,
            25.352796200453,
            10.179,
            48.356,
            14.333,
            4.012,
            24.0903012830636,
            12.1695335544327,
            22.343,
            14.555,
            24.675,
            36.177,
            14.508,
            36.424,
            14.283,
            6.652,
            10.149,
            4.15,
            15.934,
            49.679,
            5.621,
            15.627,
            24.804,
            15.9844205633528,
            10.454,
            11.09,
            9.09868402208819,
            42.396,
            32.615,
            17.234,
            17.9992489254814,
            15.5736356858378,
            9.72714517264253,
            8.78989815699773,
            17.274,
            10.1974645730154,
            23.374,
            20.257,
            25.994,
            21.199,
            8.595,
            9.306,
            40.37,
            25.919,
            30.917,
            5.473,
            3.794,
            7.338,
            6.623,
            0.773,
            9.912,
            16.196,
            14.6503765701395,
            4.555,
            20.408,
            1.927,
            50.255,
            46.621,
            14.6979063912061,
            10.0067113612712,
            10.1240041645064,
            19.261,
            17.6304655080499,
            15.5094576858924,
            24.782,
            12.689101764914,
            16.34,
            17.357,
            16.312,
            4.322,
            20.864,
            12.353,
            3.339,
            16.858,
            27.0687850419274,
            8.55,
            16.1773379114935,
            47.745,
            2.158,
            11.614,
            1.595,
            28.2102801802453,
            37.741,
            12.751,
            7.231,
            18.57,
            25.577,
            6.853,
            11.261,
            11.7554817875666,
            41.308,
            37.203,
            0.694,
            10.817,
            8.81,
            11.237,
            9.89,
            19.656,
            13.917,
            15.0113587782294,
            10.23,
            24.2976155108436,
            6.676,
            11.683,
            6.87,
            8.688,
            4.555,
            20.778,
            10.3400437044922,
            26.24,
            6.823,
            31.964,
            10.911,
            37.115,
            9.0393731393433,
            15.7373458574878,
            34.243,
            0.574,
            21.635,
            16.327,
            16.644,
            19.7210405296765,
            28.979,
            32.363,
            8.044,
            9.363,
            1.322,
            8.087,
            8.68,
            33.416,
            43.234,
            11.2842114257378,
            18.969,
            11.2842114257378,
            22.9707029469586,
            20.617,
            13.068,
            26.52,
            16.274,
            20.293,
            47.971,
            21.821,
            1.54,
            10.6267921613249,
            17.9320333474645,
            4.289,
            3.151,
            18.066,
            9.478,
            14.7517235934438,
            12.537,
            28.088737874814,
            5.716,
            19.7210405296765,
            11.2842114257378,
            5.833,
            35.052,
            18.133,
            3.803,
            4.091,
            22.581,
            14.1687464441588,
            22.856,
            11.606,
            12.485,
            37.516,
            13.235,
            26.595,
            6.351,
            4.41,
            15.557597838566,
            17.533,
            24.997,
            41.999,
            17.206,
            7.862
           ]
          }
         ],
         "name": "2015"
        },
        {
         "data": [
          {
           "coloraxis": "coloraxis",
           "geo": "geo",
           "hovertemplate": "<b>%{hovertext}</b><br><br>Year=2016<br>Country Code=%{location}<br>Cyber Threat Rate=%{z}<extra></extra>",
           "hovertext": [
            "Africa Eastern and Southern",
            "Afghanistan",
            "Africa Western and Central",
            "Angola",
            "Albania",
            "Arab World",
            "United Arab Emirates",
            "Argentina",
            "Armenia",
            "Australia",
            "Austria",
            "Azerbaijan",
            "Burundi",
            "Belgium",
            "Benin",
            "Burkina Faso",
            "Bangladesh",
            "Bulgaria",
            "Bahrain",
            "Bahamas",
            "Bosnia and Herzegovina",
            "Belarus",
            "Belize",
            "Bolivia",
            "Brazil",
            "Barbados",
            "Brunei Darussalam",
            "Bhutan",
            "Botswana",
            "Central African Republic",
            "Canada",
            "Central Europe and the Baltics",
            "Switzerland",
            "Channel Islands",
            "Chile",
            "China",
            "Cote d'Ivoire",
            "Cameroon",
            "Congo, Dem. Rep.",
            "Congo, Rep.",
            "Colombia",
            "Comoros",
            "Cabo Verde",
            "Costa Rica",
            "Caribbean small states",
            "Cuba",
            "Cyprus",
            "Czech Republic",
            "Germany",
            "Djibouti",
            "Denmark",
            "Dominican Republic",
            "Algeria",
            "East Asia and Pacific",
            "Early-demographic dividend",
            "East Asia & Pacific (excluding high income)",
            "Europe and Central Asia",
            "Europe & Central Asia (excluding high income)",
            "Ecuador",
            "Egypt",
            "Euro area",
            "Eritrea",
            "Spain",
            "Estonia",
            "Ethiopia",
            "European Union",
            "Fragile and conflict affected situations",
            "Finland",
            "Fiji",
            "France",
            "Gabon",
            "United Kingdom",
            "Georgia",
            "Ghana",
            "Guinea",
            "Gambia, The",
            "Guinea-Bissau",
            "Equatorial Guinea",
            "Greece",
            "Guatemala",
            "Guam",
            "Guyana",
            "High income",
            "Hong Kong SAR, China",
            "Honduras",
            "Heavily indebted poor countries (HIPC)",
            "Croatia",
            "Haiti",
            "Hungary",
            "IBRD only",
            "IDA & IBRD total",
            "IDA only",
            "Indonesia",
            "Indonesia",
            "East Asia & Pacific (IDA & IBRD countries)",
            "India",
            "Ireland",
            "Iran, Islamic Rep.",
            "Iraq",
            "Iceland",
            "Israel",
            "Italy",
            "Jamaica",
            "Jordan",
            "Japan",
            "Kazakhstan",
            "Kenya",
            "Kyrgyz Republic",
            "Cambodia",
            "Korea, Rep.",
            "Kuwait",
            "Latin America & Caribbean",
            "Lao PDR",
            "Lebanon",
            "Liberia",
            "Libya",
            "St. Lucia",
            "Latin America & the Caribbean (excluding high income)",
            "Least developed countries: UN classification",
            "Low income",
            "Sri Lanka",
            "Lower middle income",
            "Low & middle income",
            "Lesotho",
            "Late-demographic dividend",
            "Lithuania",
            "Luxembourg",
            "Latvia",
            "Macao SAR, China",
            "Morocco",
            "Moldova",
            "Madagascar",
            "Maldives",
            "Middle East & North Africa",
            "Mexico",
            "Middle income",
            "North Macedonia",
            "Mali",
            "Malta",
            "Myanmar",
            "Middle East & North Africa (excluding high income)",
            "Montenegro",
            "Mongolia",
            "Mozambique",
            "Mauritania",
            "Mauritius",
            "Malawi",
            "Malaysia",
            "North America",
            "Namibia",
            "New Caledonia",
            "Niger",
            "Nigeria",
            "Nicaragua",
            "Netherlands",
            "Norway",
            "Nepal",
            "New Zealand",
            "OECD members",
            "Oman",
            "Other small states",
            "Pakistan",
            "Panama",
            "Peru",
            "Philippines",
            "Papua New Guinea",
            "Poland",
            "Pre-demographic dividend",
            "Puerto Rico",
            "Korea, Dem. People’s Rep.",
            "Portugal",
            "Paraguay",
            "West Bank and Gaza",
            "Pacific island small states",
            "Post-demographic dividend",
            "French Polynesia",
            "Qatar",
            "Romania",
            "Russian Federation",
            "Rwanda",
            "South Asia",
            "Saudi Arabia",
            "Sudan",
            "Senegal",
            "Singapore",
            "Solomon Islands",
            "Sierra Leone",
            "El Salvador",
            "Somalia",
            "Serbia",
            "Sub-Saharan Africa",
            "South Sudan",
            "Sub-Saharan Africa (IDA & IBRD countries)",
            "Small states",
            "Sao Tome and Principe",
            "Suriname",
            "Slovak Republic",
            "Slovenia",
            "Sweden",
            "Eswatini",
            "Syrian Arab Republic",
            "Chad",
            "East Asia & Pacific (IDA & IBRD countries)",
            "Europe & Central Asia (IDA & IBRD countries)",
            "Togo",
            "Thailand",
            "Tajikistan",
            "Turkmenistan",
            "Latin America & the Caribbean (IDA & IBRD countries)",
            "Timor-Leste",
            "Middle East & North Africa (IDA & IBRD countries)",
            "Tonga",
            "South Asia (IDA & IBRD)",
            "Sub-Saharan Africa (IDA & IBRD)",
            "Trinidad and Tobago",
            "Tunisia",
            "Turkey",
            "Tanzania",
            "Uganda",
            "Ukraine",
            "Upper middle income",
            "Uruguay",
            "United States",
            "Uzbekistan",
            "St. Vincent and the Grenadines",
            "Venezuela, RB",
            "Virgin Islands (U.S.)",
            "Vietnam",
            "Vanuatu",
            "World",
            "Samoa",
            "Yemen, Rep.",
            "South Africa",
            "Zambia",
            "Zimbabwe"
           ],
           "locations": [
            "AFE",
            "AFG",
            "AFW",
            "AGO",
            "ALB",
            "ARB",
            "ARE",
            "ARG",
            "ARM",
            "AUS",
            "AUT",
            "AZE",
            "BDI",
            "BEL",
            "BEN",
            "BFA",
            "BGD",
            "BGR",
            "BHR",
            "BHS",
            "BIH",
            "BLR",
            "BLZ",
            "BOL",
            "BRA",
            "BRB",
            "BRN",
            "BTN",
            "BWA",
            "CAF",
            "CAN",
            "CEB",
            "CHE",
            "CHI",
            "CHL",
            "CHN",
            "CIV",
            "CMR",
            "COD",
            "COG",
            "COL",
            "COM",
            "CPV",
            "CRI",
            "CSS",
            "CUB",
            "CYP",
            "CZE",
            "DEU",
            "DJI",
            "DNK",
            "DOM",
            "DZA",
            "EAP",
            "EAR",
            "EAS",
            "ECA",
            "ECS",
            "ECU",
            "EGY",
            "EMU",
            "ERI",
            "ESP",
            "EST",
            "ETH",
            "EUU",
            "FCS",
            "FIN",
            "FJI",
            "FRA",
            "GAB",
            "GBR",
            "GEO",
            "GHA",
            "GIN",
            "GMB",
            "GNB",
            "GNQ",
            "GRC",
            "GTM",
            "GUM",
            "GUY",
            "HIC",
            "HKG",
            "HND",
            "HPC",
            "HRV",
            "HTI",
            "HUN",
            "IBD",
            "IBT",
            "IDA",
            "IDB",
            "IDN",
            "IDX",
            "IND",
            "IRL",
            "IRN",
            "IRQ",
            "ISL",
            "ISR",
            "ITA",
            "JAM",
            "JOR",
            "JPN",
            "KAZ",
            "KEN",
            "KGZ",
            "KHM",
            "KOR",
            "KWT",
            "LAC",
            "LAO",
            "LBN",
            "LBR",
            "LBY",
            "LCA",
            "LCN",
            "LDC",
            "LIC",
            "LKA",
            "LMC",
            "LMY",
            "LSO",
            "LTE",
            "LTU",
            "LUX",
            "LVA",
            "MAC",
            "MAR",
            "MDA",
            "MDG",
            "MDV",
            "MEA",
            "MEX",
            "MIC",
            "MKD",
            "MLI",
            "MLT",
            "MMR",
            "MNA",
            "MNE",
            "MNG",
            "MOZ",
            "MRT",
            "MUS",
            "MWI",
            "MYS",
            "NAC",
            "NAM",
            "NCL",
            "NER",
            "NGA",
            "NIC",
            "NLD",
            "NOR",
            "NPL",
            "NZL",
            "OED",
            "OMN",
            "OSS",
            "PAK",
            "PAN",
            "PER",
            "PHL",
            "PNG",
            "POL",
            "PRE",
            "PRI",
            "PRK",
            "PRT",
            "PRY",
            "PSE",
            "PSS",
            "PST",
            "PYF",
            "QAT",
            "ROU",
            "RUS",
            "RWA",
            "SAS",
            "SAU",
            "SDN",
            "SEN",
            "SGP",
            "SLB",
            "SLE",
            "SLV",
            "SOM",
            "SRB",
            "SSA",
            "SSD",
            "SSF",
            "SST",
            "STP",
            "SUR",
            "SVK",
            "SVN",
            "SWE",
            "SWZ",
            "SYR",
            "TCD",
            "TEA",
            "TEC",
            "TGO",
            "THA",
            "TJK",
            "TKM",
            "TLA",
            "TLS",
            "TMN",
            "TON",
            "TSA",
            "TSS",
            "TTO",
            "TUN",
            "TUR",
            "TZA",
            "UGA",
            "UKR",
            "UMC",
            "URY",
            "USA",
            "UZB",
            "VCT",
            "VEN",
            "VIR",
            "VNM",
            "VUT",
            "WLD",
            "WSM",
            "YEM",
            "ZAF",
            "ZMB",
            "ZWE"
           ],
           "name": "",
           "type": "choropleth",
           "z": [
            13.0076500023729,
            14.902,
            8.69028626350967,
            16.436,
            36.172,
            27.8765743933314,
            4.813,
            21.827,
            23.558,
            12.634,
            11.228,
            13.224,
            2.343,
            20.095,
            4.369,
            7.387,
            11.051,
            17.234,
            5.57,
            25.944,
            55.099,
            10.759,
            16.591,
            6.761,
            26.697,
            26.124,
            27.812,
            11.629,
            35.36,
            10.234,
            13.111,
            17.7026464763653,
            8.581,
            18.598,
            16.009,
            10.612,
            2.036,
            6.308,
            8.486,
            39.817,
            17.586,
            18.932,
            29.8,
            21.561,
            22.5601570037947,
            5.201,
            28.735,
            10.497,
            7.032,
            73.052,
            12.153,
            16.766,
            26.168,
            10.3625319107511,
            18.8733489596585,
            10.2080650885846,
            17.3631449720175,
            19.1173770682368,
            10.37,
            33.689,
            23.9100268251635,
            10.162,
            44.471,
            14.118,
            4.305,
            22.3437630967743,
            12.4784012782702,
            20.062,
            14.927,
            24.468,
            36.188,
            12.89,
            35.667,
            10.362,
            6.617,
            9.203,
            4.109,
            16.003,
            47.104,
            5.603,
            12.202,
            25.192,
            14.782239889756,
            9.749,
            12.625,
            9.09610047698022,
            31.291,
            32.533,
            12.884,
            18.6975096599257,
            16.0634441221077,
            9.90627112787473,
            9.16155953044523,
            16.021,
            10.2774913038313,
            24.358,
            16.793,
            29.063,
            22.443,
            6.34,
            8.64,
            37.786,
            24.747,
            35.617,
            5.117,
            3.832,
            7.374,
            6.855,
            1.163,
            10.155,
            15.176,
            17.2998585526724,
            5.168,
            21.203,
            2.298,
            50.086,
            45.541,
            17.0279468402354,
            10.2484218746471,
            10.3706404519547,
            20.074,
            18.1262048174269,
            16.0328022383191,
            24.829,
            13.5147823038873,
            14.485,
            18.886,
            17.282,
            4.975,
            22.317,
            10.961,
            3.378,
            15.316,
            27.1673784567911,
            7.668,
            16.758204214456,
            48.957,
            2.142,
            10.674,
            2.526,
            28.6830530377416,
            36.1,
            20.188,
            7.27,
            19.855,
            22.951,
            6.887,
            11.097,
            10.6615664459471,
            44.138,
            36.15,
            0.713,
            11.344,
            7.394,
            10.822,
            11.126,
            19.47,
            13.525,
            14.1803056017857,
            9.658,
            24.0996641248677,
            7.069,
            12.3,
            8.272,
            7.77,
            4.615,
            17.669,
            10.5879779226029,
            25.948,
            6.983,
            27.956,
            11.497,
            38.391,
            9.12030895437076,
            14.6640307424505,
            34.3,
            0.484,
            20.604,
            16.655,
            16.681,
            20.5798139642657,
            24.495,
            32.383,
            6.369,
            9.14,
            1.326,
            6.441,
            9.519,
            33.598,
            34.953,
            11.2923736149113,
            19.021,
            11.2923736149113,
            22.9913721063277,
            20.789,
            25.217,
            22.253,
            15.221,
            18.839,
            46.959,
            21.669,
            1.537,
            10.4091288628144,
            17.6142648283568,
            6.788,
            3.795,
            16.196,
            9.334,
            17.1410127315749,
            13.076,
            28.5488247132052,
            5.761,
            20.5798139642657,
            11.2923736149113,
            8.631,
            35.245,
            19.126,
            3.824,
            4.816,
            23.091,
            14.8089409560103,
            24.129,
            10.409,
            12.271,
            37.628,
            11.673,
            27.849,
            6.788,
            4.294,
            15.8601002161789,
            17.934,
            24.64,
            43.936,
            17.146,
            8.781
           ]
          }
         ],
         "name": "2016"
        },
        {
         "data": [
          {
           "coloraxis": "coloraxis",
           "geo": "geo",
           "hovertemplate": "<b>%{hovertext}</b><br><br>Year=2017<br>Country Code=%{location}<br>Cyber Threat Rate=%{z}<extra></extra>",
           "hovertext": [
            "Africa Eastern and Southern",
            "Afghanistan",
            "Africa Western and Central",
            "Angola",
            "Albania",
            "Arab World",
            "United Arab Emirates",
            "Argentina",
            "Armenia",
            "Australia",
            "Austria",
            "Azerbaijan",
            "Burundi",
            "Belgium",
            "Benin",
            "Burkina Faso",
            "Bangladesh",
            "Bulgaria",
            "Bahrain",
            "Bahamas",
            "Bosnia and Herzegovina",
            "Belarus",
            "Belize",
            "Bolivia",
            "Brazil",
            "Barbados",
            "Brunei Darussalam",
            "Bhutan",
            "Botswana",
            "Central African Republic",
            "Canada",
            "Central Europe and the Baltics",
            "Switzerland",
            "Channel Islands",
            "Chile",
            "China",
            "Cote d'Ivoire",
            "Cameroon",
            "Congo, Dem. Rep.",
            "Congo, Rep.",
            "Colombia",
            "Comoros",
            "Cabo Verde",
            "Costa Rica",
            "Caribbean small states",
            "Cuba",
            "Cyprus",
            "Czech Republic",
            "Germany",
            "Djibouti",
            "Denmark",
            "Dominican Republic",
            "Algeria",
            "East Asia and Pacific",
            "Early-demographic dividend",
            "East Asia & Pacific (excluding high income)",
            "Europe and Central Asia",
            "Europe & Central Asia (excluding high income)",
            "Ecuador",
            "Egypt",
            "Euro area",
            "Eritrea",
            "Spain",
            "Estonia",
            "Ethiopia",
            "European Union",
            "Fragile and conflict affected situations",
            "Finland",
            "Fiji",
            "France",
            "Gabon",
            "United Kingdom",
            "Georgia",
            "Ghana",
            "Guinea",
            "Gambia, The",
            "Guinea-Bissau",
            "Equatorial Guinea",
            "Greece",
            "Guatemala",
            "Guam",
            "Guyana",
            "High income",
            "Hong Kong SAR, China",
            "Honduras",
            "Heavily indebted poor countries (HIPC)",
            "Croatia",
            "Haiti",
            "Hungary",
            "IBRD only",
            "IDA & IBRD total",
            "IDA only",
            "Indonesia",
            "Indonesia",
            "East Asia & Pacific (IDA & IBRD countries)",
            "India",
            "Ireland",
            "Iran, Islamic Rep.",
            "Iraq",
            "Iceland",
            "Israel",
            "Italy",
            "Jamaica",
            "Jordan",
            "Japan",
            "Kazakhstan",
            "Kenya",
            "Kyrgyz Republic",
            "Cambodia",
            "Korea, Rep.",
            "Kuwait",
            "Latin America & Caribbean",
            "Lao PDR",
            "Lebanon",
            "Liberia",
            "Libya",
            "St. Lucia",
            "Latin America & the Caribbean (excluding high income)",
            "Least developed countries: UN classification",
            "Low income",
            "Sri Lanka",
            "Lower middle income",
            "Low & middle income",
            "Lesotho",
            "Late-demographic dividend",
            "Lithuania",
            "Luxembourg",
            "Latvia",
            "Macao SAR, China",
            "Morocco",
            "Moldova",
            "Madagascar",
            "Maldives",
            "Middle East & North Africa",
            "Mexico",
            "Middle income",
            "North Macedonia",
            "Mali",
            "Malta",
            "Myanmar",
            "Middle East & North Africa (excluding high income)",
            "Montenegro",
            "Mongolia",
            "Mozambique",
            "Mauritania",
            "Mauritius",
            "Malawi",
            "Malaysia",
            "North America",
            "Namibia",
            "New Caledonia",
            "Niger",
            "Nigeria",
            "Nicaragua",
            "Netherlands",
            "Norway",
            "Nepal",
            "New Zealand",
            "OECD members",
            "Oman",
            "Other small states",
            "Pakistan",
            "Panama",
            "Peru",
            "Philippines",
            "Papua New Guinea",
            "Poland",
            "Pre-demographic dividend",
            "Puerto Rico",
            "Korea, Dem. People’s Rep.",
            "Portugal",
            "Paraguay",
            "West Bank and Gaza",
            "Pacific island small states",
            "Post-demographic dividend",
            "French Polynesia",
            "Qatar",
            "Romania",
            "Russian Federation",
            "Rwanda",
            "South Asia",
            "Saudi Arabia",
            "Sudan",
            "Senegal",
            "Singapore",
            "Solomon Islands",
            "Sierra Leone",
            "El Salvador",
            "Somalia",
            "Serbia",
            "Sub-Saharan Africa",
            "South Sudan",
            "Sub-Saharan Africa (IDA & IBRD countries)",
            "Small states",
            "Sao Tome and Principe",
            "Suriname",
            "Slovak Republic",
            "Slovenia",
            "Sweden",
            "Eswatini",
            "Syrian Arab Republic",
            "Chad",
            "East Asia & Pacific (IDA & IBRD countries)",
            "Europe & Central Asia (IDA & IBRD countries)",
            "Togo",
            "Thailand",
            "Tajikistan",
            "Turkmenistan",
            "Latin America & the Caribbean (IDA & IBRD countries)",
            "Timor-Leste",
            "Middle East & North Africa (IDA & IBRD countries)",
            "Tonga",
            "South Asia (IDA & IBRD)",
            "Sub-Saharan Africa (IDA & IBRD)",
            "Trinidad and Tobago",
            "Tunisia",
            "Turkey",
            "Tanzania",
            "Uganda",
            "Ukraine",
            "Upper middle income",
            "Uruguay",
            "United States",
            "Uzbekistan",
            "St. Vincent and the Grenadines",
            "Venezuela, RB",
            "Virgin Islands (U.S.)",
            "Vietnam",
            "Vanuatu",
            "World",
            "Samoa",
            "Yemen, Rep.",
            "South Africa",
            "Zambia",
            "Zimbabwe"
           ],
           "locations": [
            "AFE",
            "AFG",
            "AFW",
            "AGO",
            "ALB",
            "ARB",
            "ARE",
            "ARG",
            "ARM",
            "AUS",
            "AUT",
            "AZE",
            "BDI",
            "BEL",
            "BEN",
            "BFA",
            "BGD",
            "BGR",
            "BHR",
            "BHS",
            "BIH",
            "BLR",
            "BLZ",
            "BOL",
            "BRA",
            "BRB",
            "BRN",
            "BTN",
            "BWA",
            "CAF",
            "CAN",
            "CEB",
            "CHE",
            "CHI",
            "CHL",
            "CHN",
            "CIV",
            "CMR",
            "COD",
            "COG",
            "COL",
            "COM",
            "CPV",
            "CRI",
            "CSS",
            "CUB",
            "CYP",
            "CZE",
            "DEU",
            "DJI",
            "DNK",
            "DOM",
            "DZA",
            "EAP",
            "EAR",
            "EAS",
            "ECA",
            "ECS",
            "ECU",
            "EGY",
            "EMU",
            "ERI",
            "ESP",
            "EST",
            "ETH",
            "EUU",
            "FCS",
            "FIN",
            "FJI",
            "FRA",
            "GAB",
            "GBR",
            "GEO",
            "GHA",
            "GIN",
            "GMB",
            "GNB",
            "GNQ",
            "GRC",
            "GTM",
            "GUM",
            "GUY",
            "HIC",
            "HKG",
            "HND",
            "HPC",
            "HRV",
            "HTI",
            "HUN",
            "IBD",
            "IBT",
            "IDA",
            "IDB",
            "IDN",
            "IDX",
            "IND",
            "IRL",
            "IRN",
            "IRQ",
            "ISL",
            "ISR",
            "ITA",
            "JAM",
            "JOR",
            "JPN",
            "KAZ",
            "KEN",
            "KGZ",
            "KHM",
            "KOR",
            "KWT",
            "LAC",
            "LAO",
            "LBN",
            "LBR",
            "LBY",
            "LCA",
            "LCN",
            "LDC",
            "LIC",
            "LKA",
            "LMC",
            "LMY",
            "LSO",
            "LTE",
            "LTU",
            "LUX",
            "LVA",
            "MAC",
            "MAR",
            "MDA",
            "MDG",
            "MDV",
            "MEA",
            "MEX",
            "MIC",
            "MKD",
            "MLI",
            "MLT",
            "MMR",
            "MNA",
            "MNE",
            "MNG",
            "MOZ",
            "MRT",
            "MUS",
            "MWI",
            "MYS",
            "NAC",
            "NAM",
            "NCL",
            "NER",
            "NGA",
            "NIC",
            "NLD",
            "NOR",
            "NPL",
            "NZL",
            "OED",
            "OMN",
            "OSS",
            "PAK",
            "PAN",
            "PER",
            "PHL",
            "PNG",
            "POL",
            "PRE",
            "PRI",
            "PRK",
            "PRT",
            "PRY",
            "PSE",
            "PSS",
            "PST",
            "PYF",
            "QAT",
            "ROU",
            "RUS",
            "RWA",
            "SAS",
            "SAU",
            "SDN",
            "SEN",
            "SGP",
            "SLB",
            "SLE",
            "SLV",
            "SOM",
            "SRB",
            "SSA",
            "SSD",
            "SSF",
            "SST",
            "STP",
            "SUR",
            "SVK",
            "SVN",
            "SWE",
            "SWZ",
            "SYR",
            "TCD",
            "TEA",
            "TEC",
            "TGO",
            "THA",
            "TJK",
            "TKM",
            "TLA",
            "TLS",
            "TMN",
            "TON",
            "TSA",
            "TSS",
            "TTO",
            "TUN",
            "TUR",
            "TZA",
            "UGA",
            "UKR",
            "UMC",
            "URY",
            "USA",
            "UZB",
            "VCT",
            "VEN",
            "VIR",
            "VNM",
            "VUT",
            "WLD",
            "WSM",
            "YEM",
            "ZAF",
            "ZMB",
            "ZWE"
           ],
           "name": "",
           "type": "choropleth",
           "z": [
            12.9736528640868,
            17.303,
            8.78593200122265,
            16.363,
            31.403,
            28.5542791408119,
            7.156,
            22.831,
            25.43,
            12.591,
            9.777,
            12.917,
            2.018,
            19.277,
            4.107,
            7.587,
            12.219,
            12.932,
            5.702,
            21.561,
            46.518,
            9.37,
            15.736,
            6.637,
            28.661,
            26.033,
            29.652,
            13.104,
            35.398,
            10.237,
            11.606,
            14.9921181012507,
            8.062,
            16.854,
            17.139,
            10.474,
            5.172,
            6.379,
            8.479,
            39.552,
            17.879,
            18.889,
            31.25,
            20.804,
            21.0011994701472,
            4.531,
            24.558,
            7.945,
            6.758,
            74.036,
            12.392,
            13.462,
            26.61,
            10.1096671303468,
            19.1881704598566,
            9.94263620747043,
            17.021343844163,
            17.8957818698324,
            8.483,
            32.703,
            21.5961169261717,
            10.142,
            38.574,
            12.18,
            4.6,
            20.0407659413017,
            12.8076249650613,
            20.042,
            14.911,
            22.15,
            36.194,
            11.99,
            28.995,
            6.333,
            6.718,
            8.184,
            4.071,
            16.129,
            43.393,
            4.955,
            12.282,
            25.706,
            13.8041612573156,
            8.548,
            10.79,
            9.22618728393283,
            27.398,
            32.409,
            10.69,
            18.9485917781205,
            16.2945085890083,
            10.2650879718301,
            9.71445153001608,
            14.571,
            10.5380674581809,
            25.304,
            14.392,
            28.206,
            25.266,
            7.563,
            7.266,
            34.741,
            21.799,
            35.391,
            4.602,
            3.78,
            9.048,
            7.091,
            0.38,
            9.774,
            15.13,
            17.6380812813268,
            5.786,
            21.948,
            2.343,
            49.497,
            44.659,
            17.4103017528234,
            10.6438016490874,
            10.6278923463815,
            17.399,
            18.5800773449169,
            16.2772050207969,
            25.106,
            13.6181606997274,
            13.279,
            15.402,
            16.981,
            5.049,
            22.251,
            11.849,
            3.424,
            14.923,
            27.6063297720794,
            6.88,
            17.0232012900208,
            47.26,
            2.233,
            10.544,
            3.6,
            28.6487158072654,
            31.892,
            17.476,
            7.276,
            20.976,
            24.197,
            6.902,
            11.611,
            9.46665247416784,
            41.283,
            34.64,
            0.735,
            11.742,
            6.334,
            8.858,
            10.337,
            19.794,
            13.014,
            13.1610346618239,
            7.609,
            23.6519808069456,
            7.455,
            14.826,
            8.303,
            7.482,
            4.682,
            14.816,
            11.1124565167593,
            23.842,
            6.836,
            23.873,
            10.848,
            41.709,
            9.1569186151282,
            13.1800568750536,
            34.074,
            0.505,
            18.367,
            16.41,
            16.691,
            21.4508084640555,
            31.27,
            32.503,
            5.838,
            9.686,
            1.356,
            5.001,
            9.768,
            33.779,
            31.87,
            11.3040326400883,
            18.905,
            11.3040326400883,
            22.381512797736,
            20.921,
            25.044,
            18.974,
            11.204,
            17.876,
            47.075,
            21.325,
            1.521,
            10.1550117826175,
            16.9961202139903,
            9.254,
            4.469,
            15.868,
            9.068,
            17.5503865703391,
            13.108,
            28.4668621726977,
            6.212,
            21.4508084640555,
            11.3040326400883,
            8.741,
            35.466,
            20.111,
            3.857,
            5.567,
            18.929,
            14.7516564530466,
            25.233,
            9.244,
            13.557,
            37.829,
            12.336,
            26.931,
            7.016,
            4.285,
            15.9596256308386,
            19.095,
            24.583,
            42.811,
            17.051,
            9.67
           ]
          }
         ],
         "name": "2017"
        },
        {
         "data": [
          {
           "coloraxis": "coloraxis",
           "geo": "geo",
           "hovertemplate": "<b>%{hovertext}</b><br><br>Year=2018<br>Country Code=%{location}<br>Cyber Threat Rate=%{z}<extra></extra>",
           "hovertext": [
            "Africa Eastern and Southern",
            "Afghanistan",
            "Africa Western and Central",
            "Angola",
            "Albania",
            "Arab World",
            "United Arab Emirates",
            "Argentina",
            "Armenia",
            "Australia",
            "Austria",
            "Azerbaijan",
            "Burundi",
            "Belgium",
            "Benin",
            "Burkina Faso",
            "Bangladesh",
            "Bulgaria",
            "Bahrain",
            "Bahamas",
            "Bosnia and Herzegovina",
            "Belarus",
            "Belize",
            "Bolivia",
            "Brazil",
            "Barbados",
            "Brunei Darussalam",
            "Bhutan",
            "Botswana",
            "Central African Republic",
            "Canada",
            "Central Europe and the Baltics",
            "Switzerland",
            "Channel Islands",
            "Chile",
            "China",
            "Cote d'Ivoire",
            "Cameroon",
            "Congo, Dem. Rep.",
            "Congo, Rep.",
            "Colombia",
            "Comoros",
            "Cabo Verde",
            "Costa Rica",
            "Caribbean small states",
            "Cuba",
            "Cyprus",
            "Czech Republic",
            "Germany",
            "Djibouti",
            "Denmark",
            "Dominican Republic",
            "Algeria",
            "East Asia and Pacific",
            "Early-demographic dividend",
            "East Asia & Pacific (excluding high income)",
            "Europe and Central Asia",
            "Europe & Central Asia (excluding high income)",
            "Ecuador",
            "Egypt",
            "Euro area",
            "Eritrea",
            "Spain",
            "Estonia",
            "Ethiopia",
            "European Union",
            "Fragile and conflict affected situations",
            "Finland",
            "Fiji",
            "France",
            "Gabon",
            "United Kingdom",
            "Georgia",
            "Ghana",
            "Guinea",
            "Gambia, The",
            "Guinea-Bissau",
            "Equatorial Guinea",
            "Greece",
            "Guatemala",
            "Guam",
            "Guyana",
            "High income",
            "Hong Kong SAR, China",
            "Honduras",
            "Heavily indebted poor countries (HIPC)",
            "Croatia",
            "Haiti",
            "Hungary",
            "IBRD only",
            "IDA & IBRD total",
            "IDA only",
            "Indonesia",
            "Indonesia",
            "East Asia & Pacific (IDA & IBRD countries)",
            "India",
            "Ireland",
            "Iran, Islamic Rep.",
            "Iraq",
            "Iceland",
            "Israel",
            "Italy",
            "Jamaica",
            "Jordan",
            "Japan",
            "Kazakhstan",
            "Kenya",
            "Kyrgyz Republic",
            "Cambodia",
            "Korea, Rep.",
            "Kuwait",
            "Latin America & Caribbean",
            "Lao PDR",
            "Lebanon",
            "Liberia",
            "Libya",
            "St. Lucia",
            "Latin America & the Caribbean (excluding high income)",
            "Least developed countries: UN classification",
            "Low income",
            "Sri Lanka",
            "Lower middle income",
            "Low & middle income",
            "Lesotho",
            "Late-demographic dividend",
            "Lithuania",
            "Luxembourg",
            "Latvia",
            "Macao SAR, China",
            "Morocco",
            "Moldova",
            "Madagascar",
            "Maldives",
            "Middle East & North Africa",
            "Mexico",
            "Middle income",
            "North Macedonia",
            "Mali",
            "Malta",
            "Myanmar",
            "Middle East & North Africa (excluding high income)",
            "Montenegro",
            "Mongolia",
            "Mozambique",
            "Mauritania",
            "Mauritius",
            "Malawi",
            "Malaysia",
            "North America",
            "Namibia",
            "New Caledonia",
            "Niger",
            "Nigeria",
            "Nicaragua",
            "Netherlands",
            "Norway",
            "Nepal",
            "New Zealand",
            "OECD members",
            "Oman",
            "Other small states",
            "Pakistan",
            "Panama",
            "Peru",
            "Philippines",
            "Papua New Guinea",
            "Poland",
            "Pre-demographic dividend",
            "Puerto Rico",
            "Korea, Dem. People’s Rep.",
            "Portugal",
            "Paraguay",
            "West Bank and Gaza",
            "Pacific island small states",
            "Post-demographic dividend",
            "French Polynesia",
            "Qatar",
            "Romania",
            "Russian Federation",
            "Rwanda",
            "South Asia",
            "Saudi Arabia",
            "Sudan",
            "Senegal",
            "Singapore",
            "Solomon Islands",
            "Sierra Leone",
            "El Salvador",
            "Somalia",
            "Serbia",
            "Sub-Saharan Africa",
            "South Sudan",
            "Sub-Saharan Africa (IDA & IBRD countries)",
            "Small states",
            "Sao Tome and Principe",
            "Suriname",
            "Slovak Republic",
            "Slovenia",
            "Sweden",
            "Eswatini",
            "Syrian Arab Republic",
            "Chad",
            "East Asia & Pacific (IDA & IBRD countries)",
            "Europe & Central Asia (IDA & IBRD countries)",
            "Togo",
            "Thailand",
            "Tajikistan",
            "Turkmenistan",
            "Latin America & the Caribbean (IDA & IBRD countries)",
            "Timor-Leste",
            "Middle East & North Africa (IDA & IBRD countries)",
            "Tonga",
            "South Asia (IDA & IBRD)",
            "Sub-Saharan Africa (IDA & IBRD)",
            "Trinidad and Tobago",
            "Tunisia",
            "Turkey",
            "Tanzania",
            "Uganda",
            "Ukraine",
            "Upper middle income",
            "Uruguay",
            "United States",
            "Uzbekistan",
            "St. Vincent and the Grenadines",
            "Venezuela, RB",
            "Virgin Islands (U.S.)",
            "Vietnam",
            "Vanuatu",
            "World",
            "Samoa",
            "Yemen, Rep.",
            "South Africa",
            "Zambia",
            "Zimbabwe"
           ],
           "locations": [
            "AFE",
            "AFG",
            "AFW",
            "AGO",
            "ALB",
            "ARB",
            "ARE",
            "ARG",
            "ARM",
            "AUS",
            "AUT",
            "AZE",
            "BDI",
            "BEL",
            "BEN",
            "BFA",
            "BGD",
            "BGR",
            "BHR",
            "BHS",
            "BIH",
            "BLR",
            "BLZ",
            "BOL",
            "BRA",
            "BRB",
            "BRN",
            "BTN",
            "BWA",
            "CAF",
            "CAN",
            "CEB",
            "CHE",
            "CHI",
            "CHL",
            "CHN",
            "CIV",
            "CMR",
            "COD",
            "COG",
            "COL",
            "COM",
            "CPV",
            "CRI",
            "CSS",
            "CUB",
            "CYP",
            "CZE",
            "DEU",
            "DJI",
            "DNK",
            "DOM",
            "DZA",
            "EAP",
            "EAR",
            "EAS",
            "ECA",
            "ECS",
            "ECU",
            "EGY",
            "EMU",
            "ERI",
            "ESP",
            "EST",
            "ETH",
            "EUU",
            "FCS",
            "FIN",
            "FJI",
            "FRA",
            "GAB",
            "GBR",
            "GEO",
            "GHA",
            "GIN",
            "GMB",
            "GNB",
            "GNQ",
            "GRC",
            "GTM",
            "GUM",
            "GUY",
            "HIC",
            "HKG",
            "HND",
            "HPC",
            "HRV",
            "HTI",
            "HUN",
            "IBD",
            "IBT",
            "IDA",
            "IDB",
            "IDN",
            "IDX",
            "IND",
            "IRL",
            "IRN",
            "IRQ",
            "ISL",
            "ISR",
            "ITA",
            "JAM",
            "JOR",
            "JPN",
            "KAZ",
            "KEN",
            "KGZ",
            "KHM",
            "KOR",
            "KWT",
            "LAC",
            "LAO",
            "LBN",
            "LBR",
            "LBY",
            "LCA",
            "LCN",
            "LDC",
            "LIC",
            "LKA",
            "LMC",
            "LMY",
            "LSO",
            "LTE",
            "LTU",
            "LUX",
            "LVA",
            "MAC",
            "MAR",
            "MDA",
            "MDG",
            "MDV",
            "MEA",
            "MEX",
            "MIC",
            "MKD",
            "MLI",
            "MLT",
            "MMR",
            "MNA",
            "MNE",
            "MNG",
            "MOZ",
            "MRT",
            "MUS",
            "MWI",
            "MYS",
            "NAC",
            "NAM",
            "NCL",
            "NER",
            "NGA",
            "NIC",
            "NLD",
            "NOR",
            "NPL",
            "NZL",
            "OED",
            "OMN",
            "OSS",
            "PAK",
            "PAN",
            "PER",
            "PHL",
            "PNG",
            "POL",
            "PRE",
            "PRI",
            "PRK",
            "PRT",
            "PRY",
            "PSE",
            "PSS",
            "PST",
            "PYF",
            "QAT",
            "ROU",
            "RUS",
            "RWA",
            "SAS",
            "SAU",
            "SDN",
            "SEN",
            "SGP",
            "SLB",
            "SLE",
            "SLV",
            "SOM",
            "SRB",
            "SSA",
            "SSD",
            "SSF",
            "SST",
            "STP",
            "SUR",
            "SVK",
            "SVN",
            "SWE",
            "SWZ",
            "SYR",
            "TCD",
            "TEA",
            "TEC",
            "TGO",
            "THA",
            "TJK",
            "TKM",
            "TLA",
            "TLS",
            "TMN",
            "TON",
            "TSA",
            "TSS",
            "TTO",
            "TUN",
            "TUR",
            "TZA",
            "UGA",
            "UKR",
            "UMC",
            "URY",
            "USA",
            "UZB",
            "VCT",
            "VEN",
            "VIR",
            "VNM",
            "VUT",
            "WLD",
            "WSM",
            "YEM",
            "ZAF",
            "ZMB",
            "ZWE"
           ],
           "name": "",
           "type": "choropleth",
           "z": [
            12.887711304244,
            17.292,
            8.91015862820802,
            16.343,
            28.305,
            27.5446870548967,
            6.662,
            23.83,
            26.981,
            11.786,
            9.363,
            12.717,
            1.688,
            15.767,
            3.867,
            7.781,
            12.293,
            12.685,
            5.867,
            24.25,
            39.453,
            10.661,
            18.055,
            6.753,
            28.028,
            24.046,
            31.453,
            14.681,
            35.339,
            10.002,
            11.078,
            12.6924775135243,
            7.927,
            14.968,
            18.036,
            9.714,
            4.56,
            6.432,
            8.468,
            39.465,
            18.618,
            18.899,
            27.104,
            25.126,
            19.6403727500222,
            4.535,
            20.114,
            6.714,
            6.184,
            73.893,
            10.513,
            14.881,
            26.924,
            9.69697029083835,
            19.5614200002889,
            9.51764162335494,
            16.9081536054907,
            16.9148045651214,
            7.964,
            26.323,
            19.621733864187,
            9.824,
            34.352,
            12.063,
            4.899,
            18.092074189536,
            13.0201301735817,
            16.943,
            15.145,
            20.763,
            36.131,
            11.19,
            29.64,
            6.451,
            6.883,
            7.18,
            4.05,
            15.811,
            39.686,
            4.687,
            12.493,
            26.156,
            12.7812640923757,
            8.743,
            10.463,
            9.09276643790545,
            23.752,
            32.33,
            10.159,
            19.096808525734,
            16.3704268618184,
            10.3467229678199,
            10.1971459050858,
            16.413,
            10.4206158387783,
            26.353,
            13.747,
            27.541,
            29.555,
            5.891,
            7.162,
            32.201,
            18.176,
            38.88,
            3.671,
            3.841,
            10.689,
            7.274,
            0.405,
            10.101,
            15.077,
            17.6157800085788,
            5.853,
            22.642,
            2.395,
            49.597,
            41.623,
            17.4190912754209,
            10.4526757039865,
            10.6694324776593,
            20.489,
            18.7492483951848,
            16.3675936500543,
            25.097,
            13.0280138306015,
            11.13,
            14.211,
            12.192,
            5.064,
            22.433,
            7.106,
            3.478,
            14.463,
            26.4658194652565,
            6.846,
            17.1422780912414,
            46.409,
            2.322,
            9.058,
            1.851,
            27.4730862443095,
            29.66,
            16.459,
            7.29,
            21.017,
            24.198,
            6.933,
            11.736,
            8.84827531230252,
            37.989,
            33.612,
            0.753,
            12.159,
            10.003,
            7.171,
            9.665,
            19.829,
            11.844,
            12.4136216980449,
            5.382,
            23.0208001309497,
            7.842,
            14.088,
            8.333,
            6.702,
            4.768,
            11.764,
            11.272749543037,
            20.395,
            6.692,
            20.282,
            14.47,
            42.06,
            9.22248851807788,
            12.1787230827202,
            34.33,
            0.441,
            16.304,
            17.008,
            17.737,
            22.280032651571,
            29.491,
            32.653,
            5.962,
            8.684,
            1.392,
            3.571,
            9.301,
            33.782,
            29.652,
            11.2973356594249,
            18.764,
            11.2973356594249,
            21.6627399392561,
            21.078,
            25.037,
            14.988,
            8.797,
            17.387,
            47.176,
            21.018,
            1.501,
            9.73851135070339,
            16.5792767760305,
            9.248,
            4.139,
            15.943,
            9.079,
            17.5709894114775,
            12.936,
            27.268345322723,
            6.675,
            22.280032651571,
            11.2973356594249,
            8.824,
            35.976,
            19.804,
            3.913,
            5.539,
            17.933,
            14.7493046464398,
            26.54,
            8.613,
            13.592,
            37.956,
            12.446,
            26.988,
            4.505,
            4.449,
            15.9190897217266,
            19.22,
            24.508,
            43.761,
            8.726,
            10.592
           ]
          }
         ],
         "name": "2018"
        },
        {
         "data": [
          {
           "coloraxis": "coloraxis",
           "geo": "geo",
           "hovertemplate": "<b>%{hovertext}</b><br><br>Year=2019<br>Country Code=%{location}<br>Cyber Threat Rate=%{z}<extra></extra>",
           "hovertext": [
            "Africa Eastern and Southern",
            "Afghanistan",
            "Africa Western and Central",
            "Angola",
            "Albania",
            "Arab World",
            "United Arab Emirates",
            "Argentina",
            "Armenia",
            "Australia",
            "Austria",
            "Azerbaijan",
            "Burundi",
            "Belgium",
            "Benin",
            "Burkina Faso",
            "Bangladesh",
            "Bulgaria",
            "Bahrain",
            "Bahamas",
            "Bosnia and Herzegovina",
            "Belarus",
            "Belize",
            "Bolivia",
            "Brazil",
            "Barbados",
            "Brunei Darussalam",
            "Bhutan",
            "Botswana",
            "Central African Republic",
            "Canada",
            "Central Europe and the Baltics",
            "Switzerland",
            "Channel Islands",
            "Chile",
            "China",
            "Cote d'Ivoire",
            "Cameroon",
            "Congo, Dem. Rep.",
            "Congo, Rep.",
            "Colombia",
            "Comoros",
            "Cabo Verde",
            "Costa Rica",
            "Caribbean small states",
            "Cuba",
            "Cyprus",
            "Czech Republic",
            "Germany",
            "Djibouti",
            "Denmark",
            "Dominican Republic",
            "Algeria",
            "East Asia and Pacific",
            "Early-demographic dividend",
            "East Asia & Pacific (excluding high income)",
            "Europe and Central Asia",
            "Europe & Central Asia (excluding high income)",
            "Ecuador",
            "Egypt",
            "Euro area",
            "Eritrea",
            "Spain",
            "Estonia",
            "Ethiopia",
            "European Union",
            "Fragile and conflict affected situations",
            "Finland",
            "Fiji",
            "France",
            "Gabon",
            "United Kingdom",
            "Georgia",
            "Ghana",
            "Guinea",
            "Gambia, The",
            "Guinea-Bissau",
            "Equatorial Guinea",
            "Greece",
            "Guatemala",
            "Guam",
            "Guyana",
            "High income",
            "Hong Kong SAR, China",
            "Honduras",
            "Heavily indebted poor countries (HIPC)",
            "Croatia",
            "Haiti",
            "Hungary",
            "IBRD only",
            "IDA & IBRD total",
            "IDA only",
            "Indonesia",
            "Indonesia",
            "East Asia & Pacific (IDA & IBRD countries)",
            "India",
            "Ireland",
            "Iran, Islamic Rep.",
            "Iraq",
            "Iceland",
            "Israel",
            "Italy",
            "Jamaica",
            "Jordan",
            "Japan",
            "Kazakhstan",
            "Kenya",
            "Kyrgyz Republic",
            "Cambodia",
            "Korea, Rep.",
            "Kuwait",
            "Latin America & Caribbean",
            "Lao PDR",
            "Lebanon",
            "Liberia",
            "Libya",
            "St. Lucia",
            "Latin America & the Caribbean (excluding high income)",
            "Least developed countries: UN classification",
            "Low income",
            "Sri Lanka",
            "Lower middle income",
            "Low & middle income",
            "Lesotho",
            "Late-demographic dividend",
            "Lithuania",
            "Luxembourg",
            "Latvia",
            "Macao SAR, China",
            "Morocco",
            "Moldova",
            "Madagascar",
            "Maldives",
            "Middle East & North Africa",
            "Mexico",
            "Middle income",
            "North Macedonia",
            "Mali",
            "Malta",
            "Myanmar",
            "Middle East & North Africa (excluding high income)",
            "Montenegro",
            "Mongolia",
            "Mozambique",
            "Mauritania",
            "Mauritius",
            "Malawi",
            "Malaysia",
            "North America",
            "Namibia",
            "New Caledonia",
            "Niger",
            "Nigeria",
            "Nicaragua",
            "Netherlands",
            "Norway",
            "Nepal",
            "New Zealand",
            "OECD members",
            "Oman",
            "Other small states",
            "Pakistan",
            "Panama",
            "Peru",
            "Philippines",
            "Papua New Guinea",
            "Poland",
            "Pre-demographic dividend",
            "Puerto Rico",
            "Korea, Dem. People’s Rep.",
            "Portugal",
            "Paraguay",
            "West Bank and Gaza",
            "Pacific island small states",
            "Post-demographic dividend",
            "French Polynesia",
            "Qatar",
            "Romania",
            "Russian Federation",
            "Rwanda",
            "South Asia",
            "Saudi Arabia",
            "Sudan",
            "Senegal",
            "Singapore",
            "Solomon Islands",
            "Sierra Leone",
            "El Salvador",
            "Somalia",
            "Serbia",
            "Sub-Saharan Africa",
            "South Sudan",
            "Sub-Saharan Africa (IDA & IBRD countries)",
            "Small states",
            "Sao Tome and Principe",
            "Suriname",
            "Slovak Republic",
            "Slovenia",
            "Sweden",
            "Eswatini",
            "Syrian Arab Republic",
            "Chad",
            "East Asia & Pacific (IDA & IBRD countries)",
            "Europe & Central Asia (IDA & IBRD countries)",
            "Togo",
            "Thailand",
            "Tajikistan",
            "Turkmenistan",
            "Latin America & the Caribbean (IDA & IBRD countries)",
            "Timor-Leste",
            "Middle East & North Africa (IDA & IBRD countries)",
            "Tonga",
            "South Asia (IDA & IBRD)",
            "Sub-Saharan Africa (IDA & IBRD)",
            "Trinidad and Tobago",
            "Tunisia",
            "Turkey",
            "Tanzania",
            "Uganda",
            "Ukraine",
            "Upper middle income",
            "Uruguay",
            "United States",
            "Uzbekistan",
            "St. Vincent and the Grenadines",
            "Venezuela, RB",
            "Virgin Islands (U.S.)",
            "Vietnam",
            "Vanuatu",
            "World",
            "Samoa",
            "Yemen, Rep.",
            "South Africa",
            "Zambia",
            "Zimbabwe"
           ],
           "locations": [
            "AFE",
            "AFG",
            "AFW",
            "AGO",
            "ALB",
            "ARB",
            "ARE",
            "ARG",
            "ARM",
            "AUS",
            "AUT",
            "AZE",
            "BDI",
            "BEL",
            "BEN",
            "BFA",
            "BGD",
            "BGR",
            "BHR",
            "BHS",
            "BIH",
            "BLR",
            "BLZ",
            "BOL",
            "BRA",
            "BRB",
            "BRN",
            "BTN",
            "BWA",
            "CAF",
            "CAN",
            "CEB",
            "CHE",
            "CHI",
            "CHL",
            "CHN",
            "CIV",
            "CMR",
            "COD",
            "COG",
            "COL",
            "COM",
            "CPV",
            "CRI",
            "CSS",
            "CUB",
            "CYP",
            "CZE",
            "DEU",
            "DJI",
            "DNK",
            "DOM",
            "DZA",
            "EAP",
            "EAR",
            "EAS",
            "ECA",
            "ECS",
            "ECU",
            "EGY",
            "EMU",
            "ERI",
            "ESP",
            "EST",
            "ETH",
            "EUU",
            "FCS",
            "FIN",
            "FJI",
            "FRA",
            "GAB",
            "GBR",
            "GEO",
            "GHA",
            "GIN",
            "GMB",
            "GNB",
            "GNQ",
            "GRC",
            "GTM",
            "GUM",
            "GUY",
            "HIC",
            "HKG",
            "HND",
            "HPC",
            "HRV",
            "HTI",
            "HUN",
            "IBD",
            "IBT",
            "IDA",
            "IDB",
            "IDN",
            "IDX",
            "IND",
            "IRL",
            "IRN",
            "IRQ",
            "ISL",
            "ISR",
            "ITA",
            "JAM",
            "JOR",
            "JPN",
            "KAZ",
            "KEN",
            "KGZ",
            "KHM",
            "KOR",
            "KWT",
            "LAC",
            "LAO",
            "LBN",
            "LBR",
            "LBY",
            "LCA",
            "LCN",
            "LDC",
            "LIC",
            "LKA",
            "LMC",
            "LMY",
            "LSO",
            "LTE",
            "LTU",
            "LUX",
            "LVA",
            "MAC",
            "MAR",
            "MDA",
            "MDG",
            "MDV",
            "MEA",
            "MEX",
            "MIC",
            "MKD",
            "MLI",
            "MLT",
            "MMR",
            "MNA",
            "MNE",
            "MNG",
            "MOZ",
            "MRT",
            "MUS",
            "MWI",
            "MYS",
            "NAC",
            "NAM",
            "NCL",
            "NER",
            "NGA",
            "NIC",
            "NLD",
            "NOR",
            "NPL",
            "NZL",
            "OED",
            "OMN",
            "OSS",
            "PAK",
            "PAN",
            "PER",
            "PHL",
            "PNG",
            "POL",
            "PRE",
            "PRI",
            "PRK",
            "PRT",
            "PRY",
            "PSE",
            "PSS",
            "PST",
            "PYF",
            "QAT",
            "ROU",
            "RUS",
            "RWA",
            "SAS",
            "SAU",
            "SDN",
            "SEN",
            "SGP",
            "SLB",
            "SLE",
            "SLV",
            "SOM",
            "SRB",
            "SSA",
            "SSD",
            "SSF",
            "SST",
            "STP",
            "SUR",
            "SVK",
            "SVN",
            "SWE",
            "SWZ",
            "SYR",
            "TCD",
            "TEA",
            "TEC",
            "TGO",
            "THA",
            "TJK",
            "TKM",
            "TLA",
            "TLS",
            "TMN",
            "TON",
            "TSA",
            "TSS",
            "TTO",
            "TUN",
            "TUR",
            "TZA",
            "UGA",
            "UKR",
            "UMC",
            "URY",
            "USA",
            "UZB",
            "VCT",
            "VEN",
            "VIR",
            "VNM",
            "VUT",
            "WLD",
            "WSM",
            "YEM",
            "ZAF",
            "ZMB",
            "ZWE"
           ],
           "name": "",
           "type": "choropleth",
           "z": [
            13.2810048837064,
            17.339,
            9.0055646827141,
            16.283,
            27.161,
            26.3739319290541,
            7.405,
            25.812,
            24.609,
            11.753,
            8.514,
            12.406,
            1.354,
            14.265,
            3.89,
            7.811,
            12.366,
            8.897,
            5.991,
            24.434,
            34.102,
            10.212,
            20.424,
            6.976,
            27.181,
            25.516,
            21.513,
            11.06,
            35.285,
            10.068,
            10.985,
            11.6366578974143,
            7.986,
            14.728,
            19.529,
            10.73,
            3.949,
            6.495,
            8.494,
            39.24,
            20.046,
            18.967,
            27.649,
            31.282,
            18.9571111200141,
            3.245,
            16.497,
            5.615,
            5.77,
            73.91,
            10.047,
            15.578,
            27.187,
            9.89013869057047,
            17.9724314647729,
            9.69588008745004,
            17.3260029995787,
            16.5872286682801,
            8.73,
            20.707,
            18.277420716304,
            9.805,
            32.531,
            11.619,
            5.201,
            16.8941395289379,
            13.278280297047,
            17.084,
            15.455,
            19.509,
            35.976,
            11.039,
            30.011,
            6.532,
            6.992,
            7.272,
            4.085,
            15.939,
            35.038,
            4.466,
            12.424,
            27.005,
            12.2336731720516,
            8.521,
            10.457,
            9.11277832905295,
            16.676,
            32.271,
            11.383,
            17.9814516512187,
            15.6690506123827,
            10.6949544795991,
            11.2320186185571,
            13.588,
            10.4304278227893,
            22.885,
            12.464,
            25.963,
            33.989,
            8.461,
            6.672,
            29.166,
            16.046,
            37.122,
            3.935,
            3.899,
            12.43,
            9.023,
            0.431,
            9.844,
            15.031,
            17.6508166745734,
            5.927,
            23.316,
            2.449,
            49.716,
            35.533,
            17.5340094302322,
            10.4614208436396,
            10.7261272313279,
            20.375,
            17.1231272866157,
            15.6569757528487,
            25.116,
            13.5210403575911,
            11.87,
            16.989,
            12.419,
            4.654,
            22.579,
            10.379,
            3.518,
            13.926,
            25.0238112991984,
            7.217,
            16.3470329816739,
            35.481,
            2.347,
            9.323,
            1.322,
            26.1465749435498,
            25.355,
            16.091,
            7.319,
            20.994,
            22.072,
            6.958,
            11.27,
            8.62280425658743,
            38.162,
            32.415,
            0.776,
            12.588,
            10.106,
            6.747,
            9.927,
            19.907,
            11.327,
            12.6026717587921,
            5.393,
            22.6288757012329,
            9.57,
            17.138,
            7.38,
            6.776,
            4.734,
            9.858,
            11.6217126747935,
            18.508,
            6.618,
            18.256,
            15.222,
            39.983,
            9.22494387279713,
            11.5799883843833,
            34.457,
            0.421,
            16.773,
            15.148,
            17.242,
            19.9664547878769,
            24.809,
            32.73,
            4.046,
            7.683,
            1.434,
            3.632,
            9.614,
            33.91,
            27.461,
            11.567414188367,
            18.584,
            11.567414188367,
            21.242898290716,
            21.232,
            25.125,
            16.111,
            8.132,
            20.086,
            47.262,
            20.773,
            1.53,
            9.93509453821264,
            16.784163470879,
            9.248,
            4.344,
            15.916,
            9.08,
            17.7098365011386,
            12.523,
            25.9513980278657,
            6.674,
            19.9664547878769,
            11.567414188367,
            9.026,
            35.339,
            24.804,
            3.939,
            5.571,
            15.435,
            15.170839946974,
            28.142,
            8.371,
            13.44,
            38.203,
            12.712,
            27.412,
            5.501,
            4.443,
            15.2361700411705,
            18.789,
            24.524,
            47.406,
            10.325,
            11.616
           ]
          }
         ],
         "name": "2019"
        },
        {
         "data": [
          {
           "coloraxis": "coloraxis",
           "geo": "geo",
           "hovertemplate": "<b>%{hovertext}</b><br><br>Year=2020<br>Country Code=%{location}<br>Cyber Threat Rate=%{z}<extra></extra>",
           "hovertext": [
            "Africa Eastern and Southern",
            "Afghanistan",
            "Africa Western and Central",
            "Angola",
            "Albania",
            "Arab World",
            "United Arab Emirates",
            "Argentina",
            "Armenia",
            "Australia",
            "Austria",
            "Azerbaijan",
            "Burundi",
            "Belgium",
            "Benin",
            "Burkina Faso",
            "Bangladesh",
            "Bulgaria",
            "Bahrain",
            "Bahamas",
            "Bosnia and Herzegovina",
            "Belarus",
            "Belize",
            "Bolivia",
            "Brazil",
            "Barbados",
            "Brunei Darussalam",
            "Bhutan",
            "Botswana",
            "Central African Republic",
            "Canada",
            "Central Europe and the Baltics",
            "Switzerland",
            "Channel Islands",
            "Chile",
            "China",
            "Cote d'Ivoire",
            "Cameroon",
            "Congo, Dem. Rep.",
            "Congo, Rep.",
            "Colombia",
            "Comoros",
            "Cabo Verde",
            "Costa Rica",
            "Caribbean small states",
            "Cuba",
            "Cyprus",
            "Czech Republic",
            "Germany",
            "Djibouti",
            "Denmark",
            "Dominican Republic",
            "Algeria",
            "East Asia and Pacific",
            "Early-demographic dividend",
            "East Asia & Pacific (excluding high income)",
            "Europe and Central Asia",
            "Europe & Central Asia (excluding high income)",
            "Ecuador",
            "Egypt",
            "Euro area",
            "Eritrea",
            "Spain",
            "Estonia",
            "Ethiopia",
            "European Union",
            "Fragile and conflict affected situations",
            "Finland",
            "Fiji",
            "France",
            "Gabon",
            "United Kingdom",
            "Georgia",
            "Ghana",
            "Guinea",
            "Gambia, The",
            "Guinea-Bissau",
            "Equatorial Guinea",
            "Greece",
            "Guatemala",
            "Guam",
            "Guyana",
            "High income",
            "Hong Kong SAR, China",
            "Honduras",
            "Heavily indebted poor countries (HIPC)",
            "Croatia",
            "Haiti",
            "Hungary",
            "IBRD only",
            "IDA & IBRD total",
            "IDA only",
            "Indonesia",
            "Indonesia",
            "East Asia & Pacific (IDA & IBRD countries)",
            "India",
            "Ireland",
            "Iran, Islamic Rep.",
            "Iraq",
            "Iceland",
            "Israel",
            "Italy",
            "Jamaica",
            "Jordan",
            "Japan",
            "Kazakhstan",
            "Kenya",
            "Kyrgyz Republic",
            "Cambodia",
            "Korea, Rep.",
            "Kuwait",
            "Latin America & Caribbean",
            "Lao PDR",
            "Lebanon",
            "Liberia",
            "Libya",
            "St. Lucia",
            "Latin America & the Caribbean (excluding high income)",
            "Least developed countries: UN classification",
            "Low income",
            "Sri Lanka",
            "Lower middle income",
            "Low & middle income",
            "Lesotho",
            "Late-demographic dividend",
            "Lithuania",
            "Luxembourg",
            "Latvia",
            "Macao SAR, China",
            "Morocco",
            "Moldova",
            "Madagascar",
            "Maldives",
            "Middle East & North Africa",
            "Mexico",
            "Middle income",
            "North Macedonia",
            "Mali",
            "Malta",
            "Myanmar",
            "Middle East & North Africa (excluding high income)",
            "Montenegro",
            "Mongolia",
            "Mozambique",
            "Mauritania",
            "Mauritius",
            "Malawi",
            "Malaysia",
            "North America",
            "Namibia",
            "New Caledonia",
            "Niger",
            "Nigeria",
            "Nicaragua",
            "Netherlands",
            "Norway",
            "Nepal",
            "New Zealand",
            "OECD members",
            "Oman",
            "Other small states",
            "Pakistan",
            "Panama",
            "Peru",
            "Philippines",
            "Papua New Guinea",
            "Poland",
            "Pre-demographic dividend",
            "Puerto Rico",
            "Korea, Dem. People’s Rep.",
            "Portugal",
            "Paraguay",
            "West Bank and Gaza",
            "Pacific island small states",
            "Post-demographic dividend",
            "French Polynesia",
            "Qatar",
            "Romania",
            "Russian Federation",
            "Rwanda",
            "South Asia",
            "Saudi Arabia",
            "Sudan",
            "Senegal",
            "Singapore",
            "Solomon Islands",
            "Sierra Leone",
            "El Salvador",
            "Somalia",
            "Serbia",
            "Sub-Saharan Africa",
            "South Sudan",
            "Sub-Saharan Africa (IDA & IBRD countries)",
            "Small states",
            "Sao Tome and Principe",
            "Suriname",
            "Slovak Republic",
            "Slovenia",
            "Sweden",
            "Eswatini",
            "Syrian Arab Republic",
            "Chad",
            "East Asia & Pacific (IDA & IBRD countries)",
            "Europe & Central Asia (IDA & IBRD countries)",
            "Togo",
            "Thailand",
            "Tajikistan",
            "Turkmenistan",
            "Latin America & the Caribbean (IDA & IBRD countries)",
            "Timor-Leste",
            "Middle East & North Africa (IDA & IBRD countries)",
            "Tonga",
            "South Asia (IDA & IBRD)",
            "Sub-Saharan Africa (IDA & IBRD)",
            "Trinidad and Tobago",
            "Tunisia",
            "Turkey",
            "Tanzania",
            "Uganda",
            "Ukraine",
            "Upper middle income",
            "Uruguay",
            "United States",
            "Uzbekistan",
            "St. Vincent and the Grenadines",
            "Venezuela, RB",
            "Virgin Islands (U.S.)",
            "Vietnam",
            "Vanuatu",
            "World",
            "Samoa",
            "Yemen, Rep.",
            "South Africa",
            "Zambia",
            "Zimbabwe"
           ],
           "locations": [
            "AFE",
            "AFG",
            "AFW",
            "AGO",
            "ALB",
            "ARB",
            "ARE",
            "ARG",
            "ARM",
            "AUS",
            "AUT",
            "AZE",
            "BDI",
            "BEL",
            "BEN",
            "BFA",
            "BGD",
            "BGR",
            "BHR",
            "BHS",
            "BIH",
            "BLR",
            "BLZ",
            "BOL",
            "BRA",
            "BRB",
            "BRN",
            "BTN",
            "BWA",
            "CAF",
            "CAN",
            "CEB",
            "CHE",
            "CHI",
            "CHL",
            "CHN",
            "CIV",
            "CMR",
            "COD",
            "COG",
            "COL",
            "COM",
            "CPV",
            "CRI",
            "CSS",
            "CUB",
            "CYP",
            "CZE",
            "DEU",
            "DJI",
            "DNK",
            "DOM",
            "DZA",
            "EAP",
            "EAR",
            "EAS",
            "ECA",
            "ECS",
            "ECU",
            "EGY",
            "EMU",
            "ERI",
            "ESP",
            "EST",
            "ETH",
            "EUU",
            "FCS",
            "FIN",
            "FJI",
            "FRA",
            "GAB",
            "GBR",
            "GEO",
            "GHA",
            "GIN",
            "GMB",
            "GNB",
            "GNQ",
            "GRC",
            "GTM",
            "GUM",
            "GUY",
            "HIC",
            "HKG",
            "HND",
            "HPC",
            "HRV",
            "HTI",
            "HUN",
            "IBD",
            "IBT",
            "IDA",
            "IDB",
            "IDN",
            "IDX",
            "IND",
            "IRL",
            "IRN",
            "IRQ",
            "ISL",
            "ISR",
            "ITA",
            "JAM",
            "JOR",
            "JPN",
            "KAZ",
            "KEN",
            "KGZ",
            "KHM",
            "KOR",
            "KWT",
            "LAC",
            "LAO",
            "LBN",
            "LBR",
            "LBY",
            "LCA",
            "LCN",
            "LDC",
            "LIC",
            "LKA",
            "LMC",
            "LMY",
            "LSO",
            "LTE",
            "LTU",
            "LUX",
            "LVA",
            "MAC",
            "MAR",
            "MDA",
            "MDG",
            "MDV",
            "MEA",
            "MEX",
            "MIC",
            "MKD",
            "MLI",
            "MLT",
            "MMR",
            "MNA",
            "MNE",
            "MNG",
            "MOZ",
            "MRT",
            "MUS",
            "MWI",
            "MYS",
            "NAC",
            "NAM",
            "NCL",
            "NER",
            "NGA",
            "NIC",
            "NLD",
            "NOR",
            "NPL",
            "NZL",
            "OED",
            "OMN",
            "OSS",
            "PAK",
            "PAN",
            "PER",
            "PHL",
            "PNG",
            "POL",
            "PRE",
            "PRI",
            "PRK",
            "PRT",
            "PRY",
            "PSE",
            "PSS",
            "PST",
            "PYF",
            "QAT",
            "ROU",
            "RUS",
            "RWA",
            "SAS",
            "SAU",
            "SDN",
            "SEN",
            "SGP",
            "SLB",
            "SLE",
            "SLV",
            "SOM",
            "SRB",
            "SSA",
            "SSD",
            "SSF",
            "SST",
            "STP",
            "SUR",
            "SVK",
            "SVN",
            "SWE",
            "SWZ",
            "SYR",
            "TCD",
            "TEA",
            "TEC",
            "TGO",
            "THA",
            "TJK",
            "TKM",
            "TLA",
            "TLS",
            "TMN",
            "TON",
            "TSA",
            "TSS",
            "TTO",
            "TUN",
            "TUR",
            "TZA",
            "UGA",
            "UKR",
            "UMC",
            "URY",
            "USA",
            "UZB",
            "VCT",
            "VEN",
            "VIR",
            "VNM",
            "VUT",
            "WLD",
            "WSM",
            "YEM",
            "ZAF",
            "ZMB",
            "ZWE"
           ],
           "name": "",
           "type": "choropleth",
           "z": [
            14.1386435764394,
            16.053,
            10.4448332916934,
            17.967,
            30.846,
            28.2557167612628,
            14.119,
            30.407,
            23.76,
            14.211,
            10.438,
            17.404,
            1.723,
            15.329,
            4.47,
            8.607,
            14.383,
            14.205,
            7.774,
            29.898,
            36.892,
            12.031,
            24,
            15.376,
            30.498,
            29.562,
            27.129,
            21.216,
            41.654,
            11.205,
            20.113,
            13.6089464015948,
            8.603,
            16.925,
            24.756,
            12.688,
            4.544,
            7.261,
            9.871,
            42.8,
            25.926,
            21.253,
            32.924,
            40.16,
            22.9439956167659,
            3.553,
            18.109,
            7.946,
            7.132,
            78.778,
            11.591,
            14.807,
            31.113,
            11.5004606669104,
            22.0877175343049,
            11.2526613130074,
            18.3886021557608,
            18.1224137139098,
            11.079,
            18.423,
            20.2563296721392,
            12.264,
            38.28,
            18.422,
            6.647,
            18.8470853453223,
            14.9870769232218,
            21.216,
            16.628,
            20.161,
            38.517,
            13.438,
            30.784,
            7.341,
            8.529,
            8.851,
            4.898,
            18.117,
            34.821,
            6.521,
            14.762,
            30.905,
            15.8335618009477,
            15.521,
            16.909,
            10.3752170843716,
            21.152,
            35.265,
            12.747,
            21.8840077186769,
            18.7849942381369,
            12.2878276278203,
            13.0134679731463,
            14.772,
            11.9310102489788,
            30.896,
            15.24,
            23.714,
            36.842,
            9.875,
            7.931,
            29.383,
            20.219,
            42.349,
            4.639,
            3.765,
            13.83,
            8.57,
            0.785,
            10.144,
            19.315,
            20.7894601002312,
            6.676,
            26.56,
            3.505,
            52.241,
            43.885,
            20.7192476963242,
            11.9560406027142,
            12.0429626026436,
            20.967,
            21.4699763259177,
            18.7674893497653,
            27.866,
            15.7451094691519,
            19.588,
            23.239,
            14.863,
            7.696,
            26.501,
            10.771,
            4.48,
            16.33,
            26.1214872220377,
            8.092,
            19.7343818280416,
            35.537,
            6.737,
            10.891,
            4.964,
            26.8756366259638,
            36.333,
            15.882,
            8.049,
            22.727,
            24.364,
            8.09,
            12.613,
            15.3729983419293,
            41.013,
            46.144,
            1.04,
            14.352,
            11.674,
            9.129,
            11.294,
            24.084,
            12.435,
            15.7365006432179,
            13.564,
            25.9604395554776,
            11.894,
            32.019,
            12.642,
            7.045,
            5.359,
            10.806,
            12.9312217807915,
            18.937,
            7.43,
            22.554,
            17.084,
            41.868,
            9.9976120194991,
            15.288916575318,
            38.178,
            0.494,
            17.323,
            16.91,
            17.19,
            26.2871888608789,
            27.513,
            35.983,
            5.149,
            10.67,
            1.766,
            4.361,
            11.356,
            35.763,
            26.615,
            12.6545115097714,
            20.877,
            12.6545115097715,
            24.5302671725832,
            23.759,
            28.931,
            19.354,
            14.16,
            23.886,
            51.861,
            23.412,
            2.352,
            11.555820713125,
            17.8531165374968,
            10.181,
            5.309,
            17.125,
            10.373,
            20.9388176597229,
            13.508,
            26.66292467321,
            7.744,
            26.2871888608789,
            12.6545115097715,
            11.634,
            38.509,
            24.689,
            3.81,
            7.083,
            19.328,
            17.0630727726692,
            33.928,
            14.873,
            12.795,
            41.58,
            13.8,
            29.674,
            6.422,
            5.078,
            18.4011516868811,
            20.284,
            26.077,
            43.499,
            11.022,
            12.7
           ]
          }
         ],
         "name": "2020"
        },
        {
         "data": [
          {
           "coloraxis": "coloraxis",
           "geo": "geo",
           "hovertemplate": "<b>%{hovertext}</b><br><br>Year=2021<br>Country Code=%{location}<br>Cyber Threat Rate=%{z}<extra></extra>",
           "hovertext": [
            "Africa Eastern and Southern",
            "Afghanistan",
            "Africa Western and Central",
            "Angola",
            "Albania",
            "Arab World",
            "United Arab Emirates",
            "Argentina",
            "Armenia",
            "Australia",
            "Austria",
            "Azerbaijan",
            "Burundi",
            "Belgium",
            "Benin",
            "Burkina Faso",
            "Bangladesh",
            "Bulgaria",
            "Bahrain",
            "Bahamas",
            "Bosnia and Herzegovina",
            "Belarus",
            "Belize",
            "Bolivia",
            "Brazil",
            "Barbados",
            "Brunei Darussalam",
            "Bhutan",
            "Botswana",
            "Central African Republic",
            "Canada",
            "Central Europe and the Baltics",
            "Switzerland",
            "Channel Islands",
            "Chile",
            "China",
            "Cote d'Ivoire",
            "Cameroon",
            "Congo, Dem. Rep.",
            "Congo, Rep.",
            "Colombia",
            "Comoros",
            "Cabo Verde",
            "Costa Rica",
            "Caribbean small states",
            "Cuba",
            "Cyprus",
            "Czech Republic",
            "Germany",
            "Djibouti",
            "Denmark",
            "Dominican Republic",
            "Algeria",
            "East Asia and Pacific",
            "Early-demographic dividend",
            "East Asia & Pacific (excluding high income)",
            "Europe and Central Asia",
            "Europe & Central Asia (excluding high income)",
            "Ecuador",
            "Egypt",
            "Euro area",
            "Eritrea",
            "Spain",
            "Estonia",
            "Ethiopia",
            "European Union",
            "Fragile and conflict affected situations",
            "Finland",
            "Fiji",
            "France",
            "Gabon",
            "United Kingdom",
            "Georgia",
            "Ghana",
            "Guinea",
            "Gambia, The",
            "Guinea-Bissau",
            "Equatorial Guinea",
            "Greece",
            "Guatemala",
            "Guam",
            "Guyana",
            "High income",
            "Hong Kong SAR, China",
            "Honduras",
            "Heavily indebted poor countries (HIPC)",
            "Croatia",
            "Haiti",
            "Hungary",
            "IBRD only",
            "IDA & IBRD total",
            "IDA only",
            "Indonesia",
            "Indonesia",
            "East Asia & Pacific (IDA & IBRD countries)",
            "India",
            "Ireland",
            "Iran, Islamic Rep.",
            "Iraq",
            "Iceland",
            "Israel",
            "Italy",
            "Jamaica",
            "Jordan",
            "Japan",
            "Kazakhstan",
            "Kenya",
            "Kyrgyz Republic",
            "Cambodia",
            "Korea, Rep.",
            "Kuwait",
            "Latin America & Caribbean",
            "Lao PDR",
            "Lebanon",
            "Liberia",
            "Libya",
            "St. Lucia",
            "Latin America & the Caribbean (excluding high income)",
            "Least developed countries: UN classification",
            "Low income",
            "Sri Lanka",
            "Lower middle income",
            "Low & middle income",
            "Lesotho",
            "Late-demographic dividend",
            "Lithuania",
            "Luxembourg",
            "Latvia",
            "Macao SAR, China",
            "Morocco",
            "Moldova",
            "Madagascar",
            "Maldives",
            "Middle East & North Africa",
            "Mexico",
            "Middle income",
            "North Macedonia",
            "Mali",
            "Malta",
            "Myanmar",
            "Middle East & North Africa (excluding high income)",
            "Montenegro",
            "Mongolia",
            "Mozambique",
            "Mauritania",
            "Mauritius",
            "Malawi",
            "Malaysia",
            "North America",
            "Namibia",
            "New Caledonia",
            "Niger",
            "Nigeria",
            "Nicaragua",
            "Netherlands",
            "Norway",
            "Nepal",
            "New Zealand",
            "OECD members",
            "Oman",
            "Other small states",
            "Pakistan",
            "Panama",
            "Peru",
            "Philippines",
            "Papua New Guinea",
            "Poland",
            "Pre-demographic dividend",
            "Puerto Rico",
            "Korea, Dem. People’s Rep.",
            "Portugal",
            "Paraguay",
            "West Bank and Gaza",
            "Pacific island small states",
            "Post-demographic dividend",
            "French Polynesia",
            "Qatar",
            "Romania",
            "Russian Federation",
            "Rwanda",
            "South Asia",
            "Saudi Arabia",
            "Sudan",
            "Senegal",
            "Singapore",
            "Solomon Islands",
            "Sierra Leone",
            "El Salvador",
            "Somalia",
            "Serbia",
            "Sub-Saharan Africa",
            "South Sudan",
            "Sub-Saharan Africa (IDA & IBRD countries)",
            "Small states",
            "Sao Tome and Principe",
            "Suriname",
            "Slovak Republic",
            "Slovenia",
            "Sweden",
            "Eswatini",
            "Syrian Arab Republic",
            "Chad",
            "East Asia & Pacific (IDA & IBRD countries)",
            "Europe & Central Asia (IDA & IBRD countries)",
            "Togo",
            "Thailand",
            "Tajikistan",
            "Turkmenistan",
            "Latin America & the Caribbean (IDA & IBRD countries)",
            "Timor-Leste",
            "Middle East & North Africa (IDA & IBRD countries)",
            "Tonga",
            "South Asia (IDA & IBRD)",
            "Sub-Saharan Africa (IDA & IBRD)",
            "Trinidad and Tobago",
            "Tunisia",
            "Turkey",
            "Tanzania",
            "Uganda",
            "Ukraine",
            "Upper middle income",
            "Uruguay",
            "United States",
            "Uzbekistan",
            "St. Vincent and the Grenadines",
            "Venezuela, RB",
            "Virgin Islands (U.S.)",
            "Vietnam",
            "Vanuatu",
            "World",
            "Samoa",
            "Yemen, Rep.",
            "South Africa",
            "Zambia",
            "Zimbabwe"
           ],
           "locations": [
            "AFE",
            "AFG",
            "AFW",
            "AGO",
            "ALB",
            "ARB",
            "ARE",
            "ARG",
            "ARM",
            "AUS",
            "AUT",
            "AZE",
            "BDI",
            "BEL",
            "BEN",
            "BFA",
            "BGD",
            "BGR",
            "BHR",
            "BHS",
            "BIH",
            "BLR",
            "BLZ",
            "BOL",
            "BRA",
            "BRB",
            "BRN",
            "BTN",
            "BWA",
            "CAF",
            "CAN",
            "CEB",
            "CHE",
            "CHI",
            "CHL",
            "CHN",
            "CIV",
            "CMR",
            "COD",
            "COG",
            "COL",
            "COM",
            "CPV",
            "CRI",
            "CSS",
            "CUB",
            "CYP",
            "CZE",
            "DEU",
            "DJI",
            "DNK",
            "DOM",
            "DZA",
            "EAP",
            "EAR",
            "EAS",
            "ECA",
            "ECS",
            "ECU",
            "EGY",
            "EMU",
            "ERI",
            "ESP",
            "EST",
            "ETH",
            "EUU",
            "FCS",
            "FIN",
            "FJI",
            "FRA",
            "GAB",
            "GBR",
            "GEO",
            "GHA",
            "GIN",
            "GMB",
            "GNB",
            "GNQ",
            "GRC",
            "GTM",
            "GUM",
            "GUY",
            "HIC",
            "HKG",
            "HND",
            "HPC",
            "HRV",
            "HTI",
            "HUN",
            "IBD",
            "IBT",
            "IDA",
            "IDB",
            "IDN",
            "IDX",
            "IND",
            "IRL",
            "IRN",
            "IRQ",
            "ISL",
            "ISR",
            "ITA",
            "JAM",
            "JOR",
            "JPN",
            "KAZ",
            "KEN",
            "KGZ",
            "KHM",
            "KOR",
            "KWT",
            "LAC",
            "LAO",
            "LBN",
            "LBR",
            "LBY",
            "LCA",
            "LCN",
            "LDC",
            "LIC",
            "LKA",
            "LMC",
            "LMY",
            "LSO",
            "LTE",
            "LTU",
            "LUX",
            "LVA",
            "MAC",
            "MAR",
            "MDA",
            "MDG",
            "MDV",
            "MEA",
            "MEX",
            "MIC",
            "MKD",
            "MLI",
            "MLT",
            "MMR",
            "MNA",
            "MNE",
            "MNG",
            "MOZ",
            "MRT",
            "MUS",
            "MWI",
            "MYS",
            "NAC",
            "NAM",
            "NCL",
            "NER",
            "NGA",
            "NIC",
            "NLD",
            "NOR",
            "NPL",
            "NZL",
            "OED",
            "OMN",
            "OSS",
            "PAK",
            "PAN",
            "PER",
            "PHL",
            "PNG",
            "POL",
            "PRE",
            "PRI",
            "PRK",
            "PRT",
            "PRY",
            "PSE",
            "PSS",
            "PST",
            "PYF",
            "QAT",
            "ROU",
            "RUS",
            "RWA",
            "SAS",
            "SAU",
            "SDN",
            "SEN",
            "SGP",
            "SLB",
            "SLE",
            "SLV",
            "SOM",
            "SRB",
            "SSA",
            "SSD",
            "SSF",
            "SST",
            "STP",
            "SUR",
            "SVK",
            "SVN",
            "SWE",
            "SWZ",
            "SYR",
            "TCD",
            "TEA",
            "TEC",
            "TGO",
            "THA",
            "TJK",
            "TKM",
            "TLA",
            "TLS",
            "TMN",
            "TON",
            "TSA",
            "TSS",
            "TTO",
            "TUN",
            "TUR",
            "TZA",
            "UGA",
            "UKR",
            "UMC",
            "URY",
            "USA",
            "UZB",
            "VCT",
            "VEN",
            "VIR",
            "VNM",
            "VUT",
            "WLD",
            "WSM",
            "YEM",
            "ZAF",
            "ZMB",
            "ZWE"
           ],
           "name": "",
           "type": "choropleth",
           "z": [
            14.1374656285462,
            16.39,
            9.87478674828848,
            17.523,
            29.505,
            27.2768239318598,
            10.493,
            23.37,
            24.754,
            11.24,
            10.942,
            14.28,
            1.658,
            18.208,
            4.325,
            8.504,
            13.772,
            15.847,
            7.15,
            27.21,
            35.332,
            10.447,
            22.738,
            8.451,
            28.496,
            27.62,
            24.265,
            15.469,
            38.596,
            10.989,
            13.53,
            14.8680654082536,
            8.828,
            15.916,
            20.561,
            12.437,
            4.451,
            7.128,
            9.424,
            41.415,
            24.801,
            20.411,
            30.615,
            39.27,
            21.8239640460949,
            3.646,
            17.089,
            8.166,
            6.898,
            77.034,
            10.814,
            16.906,
            29.341,
            11.4387269743013,
            18.9597013377761,
            11.0985993482165,
            17.4451149064286,
            17.5586148208904,
            9.146,
            17.817,
            19.626195998819,
            11.305,
            34.8,
            16.64,
            6.135,
            18.6738166048,
            14.8271369199364,
            17.031,
            16.469,
            18.862,
            37.523,
            12.774,
            30.858,
            7.16,
            7.931,
            8.325,
            4.671,
            17.177,
            35.274,
            5.653,
            13.805,
            29.457,
            13.5537779560547,
            12.769,
            13.524,
            9.52539468223825,
            21.947,
            34.132,
            13.492,
            19.0627455232142,
            16.7730763895939,
            11.841229793251,
            12.402761328576,
            13.818,
            11.5428493642731,
            23.893,
            14.461,
            25.609,
            35.604,
            11.774,
            7.402,
            29.707,
            18.607,
            40.28,
            4.559,
            3.999,
            13.475,
            9.161,
            0.679,
            8.055,
            17.136,
            18.8749121208604,
            6.502,
            25.152,
            3.085,
            51.356,
            43.569,
            18.7685760920655,
            11.5832532027144,
            11.267830526589,
            21.121,
            18.2339496542385,
            16.7471968789629,
            26.907,
            15.2058312641371,
            14.316,
            16.981,
            14.774,
            6.015,
            24.888,
            9.133,
            4.188,
            16.053,
            25.5404303524623,
            7.867,
            17.5109108727773,
            36.147,
            4.19,
            9.508,
            17.510008582473837,
            26.3573984592944,
            30.322,
            17.435,
            8.034,
            22.146,
            23.604,
            7.745,
            12.442,
            10.0656787168379,
            40.149,
            38.191,
            0.868,
            13.649,
            11.273,
            9.592,
            12.5,
            22.323,
            10.471,
            13.6484169926897,
            7.748,
            25.031147722925,
            11.029,
            22.535,
            9.562,
            7.304,
            5.262,
            11.918,
            12.2679372406871,
            16.85,
            7.378,
            23.421,
            16.126,
            41.446,
            9.84295099516001,
            12.8670171899558,
            36.59,
            0.514,
            21.004,
            16.144,
            17.728,
            21.1145692869246,
            26.589,
            34.81,
            4.805,
            7.427,
            1.785,
            4.193,
            10.159,
            35.352,
            25.806,
            12.4201087854189,
            19.907,
            12.4201087854189,
            23.5994589907786,
            22.753,
            27.315,
            20.663,
            12.838,
            24.559,
            50.002,
            22.362,
            2.021,
            11.4950452346954,
            17.2371208494318,
            9.928,
            4.949,
            17.011,
            9.992,
            18.9592666092179,
            13.445,
            26.1419605154341,
            7.381,
            21.1145692869246,
            12.4201087854189,
            12.934,
            37.312,
            22.376,
            4.184,
            6.541,
            19.11,
            16.4013699819297,
            31.674,
            9.706,
            13.627,
            40.43,
            13.445,
            28.567,
            6.805,
            5.069,
            16.356035193514,
            20.035,
            25.981,
            49.864,
            11.101,
            12.519
           ]
          }
         ],
         "name": "2021"
        },
        {
         "data": [
          {
           "coloraxis": "coloraxis",
           "geo": "geo",
           "hovertemplate": "<b>%{hovertext}</b><br><br>Year=2022<br>Country Code=%{location}<br>Cyber Threat Rate=%{z}<extra></extra>",
           "hovertext": [
            "Africa Eastern and Southern",
            "Afghanistan",
            "Africa Western and Central",
            "Angola",
            "Albania",
            "Arab World",
            "United Arab Emirates",
            "Argentina",
            "Armenia",
            "Australia",
            "Austria",
            "Azerbaijan",
            "Burundi",
            "Belgium",
            "Benin",
            "Burkina Faso",
            "Bangladesh",
            "Bulgaria",
            "Bahrain",
            "Bahamas",
            "Bosnia and Herzegovina",
            "Belarus",
            "Belize",
            "Bolivia",
            "Brazil",
            "Barbados",
            "Brunei Darussalam",
            "Bhutan",
            "Botswana",
            "Central African Republic",
            "Canada",
            "Central Europe and the Baltics",
            "Switzerland",
            "Channel Islands",
            "Chile",
            "China",
            "Cote d'Ivoire",
            "Cameroon",
            "Congo, Dem. Rep.",
            "Congo, Rep.",
            "Colombia",
            "Comoros",
            "Cabo Verde",
            "Costa Rica",
            "Caribbean small states",
            "Cuba",
            "Cyprus",
            "Czech Republic",
            "Germany",
            "Djibouti",
            "Denmark",
            "Dominican Republic",
            "Algeria",
            "East Asia and Pacific",
            "Early-demographic dividend",
            "East Asia & Pacific (excluding high income)",
            "Europe and Central Asia",
            "Europe & Central Asia (excluding high income)",
            "Ecuador",
            "Egypt",
            "Euro area",
            "Eritrea",
            "Spain",
            "Estonia",
            "Ethiopia",
            "European Union",
            "Fragile and conflict affected situations",
            "Finland",
            "Fiji",
            "France",
            "Gabon",
            "United Kingdom",
            "Georgia",
            "Ghana",
            "Guinea",
            "Gambia, The",
            "Guinea-Bissau",
            "Equatorial Guinea",
            "Greece",
            "Guatemala",
            "Guam",
            "Guyana",
            "High income",
            "Hong Kong SAR, China",
            "Honduras",
            "Heavily indebted poor countries (HIPC)",
            "Croatia",
            "Haiti",
            "Hungary",
            "IBRD only",
            "IDA & IBRD total",
            "IDA only",
            "Indonesia",
            "Indonesia",
            "East Asia & Pacific (IDA & IBRD countries)",
            "India",
            "Ireland",
            "Iran, Islamic Rep.",
            "Iraq",
            "Iceland",
            "Israel",
            "Italy",
            "Jamaica",
            "Jordan",
            "Japan",
            "Kazakhstan",
            "Kenya",
            "Kyrgyz Republic",
            "Cambodia",
            "Korea, Rep.",
            "Kuwait",
            "Latin America & Caribbean",
            "Lao PDR",
            "Lebanon",
            "Liberia",
            "Libya",
            "St. Lucia",
            "Latin America & the Caribbean (excluding high income)",
            "Least developed countries: UN classification",
            "Low income",
            "Sri Lanka",
            "Lower middle income",
            "Low & middle income",
            "Lesotho",
            "Late-demographic dividend",
            "Lithuania",
            "Luxembourg",
            "Latvia",
            "Macao SAR, China",
            "Morocco",
            "Moldova",
            "Madagascar",
            "Maldives",
            "Middle East & North Africa",
            "Mexico",
            "Middle income",
            "North Macedonia",
            "Mali",
            "Malta",
            "Myanmar",
            "Middle East & North Africa (excluding high income)",
            "Montenegro",
            "Mongolia",
            "Mozambique",
            "Mauritania",
            "Mauritius",
            "Malawi",
            "Malaysia",
            "North America",
            "Namibia",
            "New Caledonia",
            "Niger",
            "Nigeria",
            "Nicaragua",
            "Netherlands",
            "Norway",
            "Nepal",
            "New Zealand",
            "OECD members",
            "Oman",
            "Other small states",
            "Pakistan",
            "Panama",
            "Peru",
            "Philippines",
            "Papua New Guinea",
            "Poland",
            "Pre-demographic dividend",
            "Puerto Rico",
            "Korea, Dem. People’s Rep.",
            "Portugal",
            "Paraguay",
            "West Bank and Gaza",
            "Pacific island small states",
            "Post-demographic dividend",
            "French Polynesia",
            "Qatar",
            "Romania",
            "Russian Federation",
            "Rwanda",
            "South Asia",
            "Saudi Arabia",
            "Sudan",
            "Senegal",
            "Singapore",
            "Solomon Islands",
            "Sierra Leone",
            "El Salvador",
            "Somalia",
            "Serbia",
            "Sub-Saharan Africa",
            "South Sudan",
            "Sub-Saharan Africa (IDA & IBRD countries)",
            "Small states",
            "Sao Tome and Principe",
            "Suriname",
            "Slovak Republic",
            "Slovenia",
            "Sweden",
            "Eswatini",
            "Syrian Arab Republic",
            "Chad",
            "East Asia & Pacific (IDA & IBRD countries)",
            "Europe & Central Asia (IDA & IBRD countries)",
            "Togo",
            "Thailand",
            "Tajikistan",
            "Turkmenistan",
            "Latin America & the Caribbean (IDA & IBRD countries)",
            "Timor-Leste",
            "Middle East & North Africa (IDA & IBRD countries)",
            "Tonga",
            "South Asia (IDA & IBRD)",
            "Sub-Saharan Africa (IDA & IBRD)",
            "Trinidad and Tobago",
            "Tunisia",
            "Turkey",
            "Tanzania",
            "Uganda",
            "Ukraine",
            "Upper middle income",
            "Uruguay",
            "United States",
            "Uzbekistan",
            "St. Vincent and the Grenadines",
            "Venezuela, RB",
            "Virgin Islands (U.S.)",
            "Vietnam",
            "Vanuatu",
            "World",
            "Samoa",
            "Yemen, Rep.",
            "South Africa",
            "Zambia",
            "Zimbabwe"
           ],
           "locations": [
            "AFE",
            "AFG",
            "AFW",
            "AGO",
            "ALB",
            "ARB",
            "ARE",
            "ARG",
            "ARM",
            "AUS",
            "AUT",
            "AZE",
            "BDI",
            "BEL",
            "BEN",
            "BFA",
            "BGD",
            "BGR",
            "BHR",
            "BHS",
            "BIH",
            "BLR",
            "BLZ",
            "BOL",
            "BRA",
            "BRB",
            "BRN",
            "BTN",
            "BWA",
            "CAF",
            "CAN",
            "CEB",
            "CHE",
            "CHI",
            "CHL",
            "CHN",
            "CIV",
            "CMR",
            "COD",
            "COG",
            "COL",
            "COM",
            "CPV",
            "CRI",
            "CSS",
            "CUB",
            "CYP",
            "CZE",
            "DEU",
            "DJI",
            "DNK",
            "DOM",
            "DZA",
            "EAP",
            "EAR",
            "EAS",
            "ECA",
            "ECS",
            "ECU",
            "EGY",
            "EMU",
            "ERI",
            "ESP",
            "EST",
            "ETH",
            "EUU",
            "FCS",
            "FIN",
            "FJI",
            "FRA",
            "GAB",
            "GBR",
            "GEO",
            "GHA",
            "GIN",
            "GMB",
            "GNB",
            "GNQ",
            "GRC",
            "GTM",
            "GUM",
            "GUY",
            "HIC",
            "HKG",
            "HND",
            "HPC",
            "HRV",
            "HTI",
            "HUN",
            "IBD",
            "IBT",
            "IDA",
            "IDB",
            "IDN",
            "IDX",
            "IND",
            "IRL",
            "IRN",
            "IRQ",
            "ISL",
            "ISR",
            "ITA",
            "JAM",
            "JOR",
            "JPN",
            "KAZ",
            "KEN",
            "KGZ",
            "KHM",
            "KOR",
            "KWT",
            "LAC",
            "LAO",
            "LBN",
            "LBR",
            "LBY",
            "LCA",
            "LCN",
            "LDC",
            "LIC",
            "LKA",
            "LMC",
            "LMY",
            "LSO",
            "LTE",
            "LTU",
            "LUX",
            "LVA",
            "MAC",
            "MAR",
            "MDA",
            "MDG",
            "MDV",
            "MEA",
            "MEX",
            "MIC",
            "MKD",
            "MLI",
            "MLT",
            "MMR",
            "MNA",
            "MNE",
            "MNG",
            "MOZ",
            "MRT",
            "MUS",
            "MWI",
            "MYS",
            "NAC",
            "NAM",
            "NCL",
            "NER",
            "NGA",
            "NIC",
            "NLD",
            "NOR",
            "NPL",
            "NZL",
            "OED",
            "OMN",
            "OSS",
            "PAK",
            "PAN",
            "PER",
            "PHL",
            "PNG",
            "POL",
            "PRE",
            "PRI",
            "PRK",
            "PRT",
            "PRY",
            "PSE",
            "PSS",
            "PST",
            "PYF",
            "QAT",
            "ROU",
            "RUS",
            "RWA",
            "SAS",
            "SAU",
            "SDN",
            "SEN",
            "SGP",
            "SLB",
            "SLE",
            "SLV",
            "SOM",
            "SRB",
            "SSA",
            "SSD",
            "SSF",
            "SST",
            "STP",
            "SUR",
            "SVK",
            "SVN",
            "SWE",
            "SWZ",
            "SYR",
            "TCD",
            "TEA",
            "TEC",
            "TGO",
            "THA",
            "TJK",
            "TKM",
            "TLA",
            "TLS",
            "TMN",
            "TON",
            "TSA",
            "TSS",
            "TTO",
            "TUN",
            "TUR",
            "TZA",
            "UGA",
            "UKR",
            "UMC",
            "URY",
            "USA",
            "UZB",
            "VCT",
            "VEN",
            "VIR",
            "VNM",
            "VUT",
            "WLD",
            "WSM",
            "YEM",
            "ZAF",
            "ZMB",
            "ZWE"
           ],
           "name": "",
           "type": "choropleth",
           "z": [
            14.134125491122,
            17.75,
            9.72614815973133,
            17.279,
            27.788,
            26.6823737788474,
            9.288,
            18.569,
            24.565,
            8.287,
            9.396,
            13.398,
            1.554,
            16.266,
            4.179,
            8.469,
            12.928,
            12.227,
            6.629,
            23.854,
            33.469,
            11.222,
            21.805,
            7.629,
            21.359,
            24.486,
            23.887,
            14.67,
            37.847,
            10.9,
            10.007,
            12.8262540729459,
            7.368,
            14.792,
            17.247,
            13.165,
            4.195,
            6.995,
            9.29,
            40.767,
            21.608,
            20.273,
            30.191,
            31.89,
            18.8335761598593,
            3.474,
            18.691,
            7.079,
            5.753,
            77.194,
            8.782,
            16.173,
            29.026,
            11.6581220811768,
            18.2456770472458,
            11.2287181497984,
            16.488693677509787,
            15.2873401886484,
            8.649,
            17.103,
            16.6554217919669,
            11.09,
            28.339,
            20.154,
            6.327,
            15.8189284343187,
            14.493792742768,
            14.471,
            14.896,
            17.751,
            36.89,
            9.944,
            29.069,
            7.137,
            7.893,
            8.062,
            4.569,
            16.512,
            30.048,
            5.048,
            13.635,
            25.404,
            11.4188330354719,
            12.963,
            12.266,
            9.43301559580293,
            17.563,
            34.027,
            10.222,
            18.3323230163647,
            16.1662683705433,
            11.7204142432117,
            12.42348435599,
            13.016,
            11.3464577463437,
            23.224,
            9.147,
            26.002,
            34.592,
            10.729,
            6.031,
            23.93,
            14.577,
            39.424,
            4.234,
            3.846,
            13.352,
            8.875,
            0.849,
            6.879,
            15.384,
            15.1294341407776,
            4.784,
            25.504,
            3.084,
            51.471,
            40.02,
            15.1134573639541,
            11.3046293254902,
            11.2001520069804,
            26.123,
            17.7729134662387,
            16.16932272719,
            26.657,
            14.505185739378,
            11.045,
            17.538,
            13.196,
            7.046,
            24.938,
            8.11,
            3.949,
            15.126,
            24.9910766961799,
            6.357,
            16.8930506502039,
            34.905,
            4.489,
            8.273,
            16.488693677509787,
            25.986581868965,
            28.259,
            19.371,
            8.052,
            21.899,
            22.859,
            7.73,
            11.7,
            8.09112811952013,
            39.777,
            38.023,
            0.708,
            13.442,
            10.71,
            7.789,
            9.644,
            20.598,
            9.228,
            11.3323429845151,
            7.466,
            24.7866548210087,
            11.309,
            20.186,
            7.452,
            6.337,
            5.204,
            8.71,
            12.082695749305,
            13.114,
            6.937,
            17.8,
            15.152,
            40.721,
            9.68203933081633,
            10.5324743552693,
            36.368,
            0.304,
            21.981,
            14.37,
            17.413,
            20.569189855903,
            23.766,
            34.454,
            4.781,
            6.122,
            2.824,
            4.15,
            8.962,
            35.632,
            24.848,
            12.354030058777,
            19.213,
            12.354030058777,
            22.9067403245405,
            22.74,
            26.178,
            19.3,
            11.085,
            20.684,
            49.772,
            22.123,
            1.875,
            11.7224325482097,
            16.488693677509787,
            9.814,
            4.473,
            17.405,
            10.594,
            15.2565662020213,
            13.303,
            25.7752065490562,
            8.38,
            20.569189855903,
            12.354030058777,
            11.568,
            37.133,
            18.981,
            4.261,
            6.578,
            16.488693677509787,
            15.4838941907833,
            27.576,
            7.893,
            13.829,
            38.181,
            11.388,
            27.198,
            7.438,
            5.067,
            15.5815159940624,
            20.81,
            25.641,
            51.519,
            11.033,
            12.374
           ]
          }
         ],
         "name": "2022"
        }
       ],
       "layout": {
        "coloraxis": {
         "colorbar": {
          "title": {
           "text": "Cyber Threat Rate"
          }
         },
         "colorscale": [
          [
           0,
           "rgb(255,245,240)"
          ],
          [
           0.125,
           "rgb(254,224,210)"
          ],
          [
           0.25,
           "rgb(252,187,161)"
          ],
          [
           0.375,
           "rgb(252,146,114)"
          ],
          [
           0.5,
           "rgb(251,106,74)"
          ],
          [
           0.625,
           "rgb(239,59,44)"
          ],
          [
           0.75,
           "rgb(203,24,29)"
          ],
          [
           0.875,
           "rgb(165,15,21)"
          ],
          [
           1,
           "rgb(103,0,13)"
          ]
         ]
        },
        "geo": {
         "center": {},
         "coastlinecolor": "Black",
         "domain": {
          "x": [
           0,
           1
          ],
          "y": [
           0,
           1
          ]
         },
         "lakecolor": "LightBlue",
         "landcolor": "LightGray",
         "oceancolor": "LightBlue",
         "projection": {
          "type": "natural earth"
         },
         "showcoastlines": true,
         "showlakes": true,
         "showland": true,
         "showocean": true
        },
        "height": 450,
        "legend": {
         "tracegroupgap": 0
        },
        "sliders": [
         {
          "active": 0,
          "currentvalue": {
           "prefix": "Year="
          },
          "len": 0.9,
          "pad": {
           "b": 10,
           "t": 60
          },
          "steps": [
           {
            "args": [
             [
              "2015"
             ],
             {
              "frame": {
               "duration": 0,
               "redraw": true
              },
              "fromcurrent": true,
              "mode": "immediate",
              "transition": {
               "duration": 0,
               "easing": "linear"
              }
             }
            ],
            "label": "2015",
            "method": "animate"
           },
           {
            "args": [
             [
              "2016"
             ],
             {
              "frame": {
               "duration": 0,
               "redraw": true
              },
              "fromcurrent": true,
              "mode": "immediate",
              "transition": {
               "duration": 0,
               "easing": "linear"
              }
             }
            ],
            "label": "2016",
            "method": "animate"
           },
           {
            "args": [
             [
              "2017"
             ],
             {
              "frame": {
               "duration": 0,
               "redraw": true
              },
              "fromcurrent": true,
              "mode": "immediate",
              "transition": {
               "duration": 0,
               "easing": "linear"
              }
             }
            ],
            "label": "2017",
            "method": "animate"
           },
           {
            "args": [
             [
              "2018"
             ],
             {
              "frame": {
               "duration": 0,
               "redraw": true
              },
              "fromcurrent": true,
              "mode": "immediate",
              "transition": {
               "duration": 0,
               "easing": "linear"
              }
             }
            ],
            "label": "2018",
            "method": "animate"
           },
           {
            "args": [
             [
              "2019"
             ],
             {
              "frame": {
               "duration": 0,
               "redraw": true
              },
              "fromcurrent": true,
              "mode": "immediate",
              "transition": {
               "duration": 0,
               "easing": "linear"
              }
             }
            ],
            "label": "2019",
            "method": "animate"
           },
           {
            "args": [
             [
              "2020"
             ],
             {
              "frame": {
               "duration": 0,
               "redraw": true
              },
              "fromcurrent": true,
              "mode": "immediate",
              "transition": {
               "duration": 0,
               "easing": "linear"
              }
             }
            ],
            "label": "2020",
            "method": "animate"
           },
           {
            "args": [
             [
              "2021"
             ],
             {
              "frame": {
               "duration": 0,
               "redraw": true
              },
              "fromcurrent": true,
              "mode": "immediate",
              "transition": {
               "duration": 0,
               "easing": "linear"
              }
             }
            ],
            "label": "2021",
            "method": "animate"
           },
           {
            "args": [
             [
              "2022"
             ],
             {
              "frame": {
               "duration": 0,
               "redraw": true
              },
              "fromcurrent": true,
              "mode": "immediate",
              "transition": {
               "duration": 0,
               "easing": "linear"
              }
             }
            ],
            "label": "2022",
            "method": "animate"
           }
          ],
          "x": 0.1,
          "xanchor": "left",
          "y": 0,
          "yanchor": "top"
         }
        ],
        "template": {
         "data": {
          "bar": [
           {
            "error_x": {
             "color": "#2a3f5f"
            },
            "error_y": {
             "color": "#2a3f5f"
            },
            "marker": {
             "line": {
              "color": "#E5ECF6",
              "width": 0.5
             },
             "pattern": {
              "fillmode": "overlay",
              "size": 10,
              "solidity": 0.2
             }
            },
            "type": "bar"
           }
          ],
          "barpolar": [
           {
            "marker": {
             "line": {
              "color": "#E5ECF6",
              "width": 0.5
             },
             "pattern": {
              "fillmode": "overlay",
              "size": 10,
              "solidity": 0.2
             }
            },
            "type": "barpolar"
           }
          ],
          "carpet": [
           {
            "aaxis": {
             "endlinecolor": "#2a3f5f",
             "gridcolor": "white",
             "linecolor": "white",
             "minorgridcolor": "white",
             "startlinecolor": "#2a3f5f"
            },
            "baxis": {
             "endlinecolor": "#2a3f5f",
             "gridcolor": "white",
             "linecolor": "white",
             "minorgridcolor": "white",
             "startlinecolor": "#2a3f5f"
            },
            "type": "carpet"
           }
          ],
          "choropleth": [
           {
            "colorbar": {
             "outlinewidth": 0,
             "ticks": ""
            },
            "type": "choropleth"
           }
          ],
          "contour": [
           {
            "colorbar": {
             "outlinewidth": 0,
             "ticks": ""
            },
            "colorscale": [
             [
              0,
              "#0d0887"
             ],
             [
              0.1111111111111111,
              "#46039f"
             ],
             [
              0.2222222222222222,
              "#7201a8"
             ],
             [
              0.3333333333333333,
              "#9c179e"
             ],
             [
              0.4444444444444444,
              "#bd3786"
             ],
             [
              0.5555555555555556,
              "#d8576b"
             ],
             [
              0.6666666666666666,
              "#ed7953"
             ],
             [
              0.7777777777777778,
              "#fb9f3a"
             ],
             [
              0.8888888888888888,
              "#fdca26"
             ],
             [
              1,
              "#f0f921"
             ]
            ],
            "type": "contour"
           }
          ],
          "contourcarpet": [
           {
            "colorbar": {
             "outlinewidth": 0,
             "ticks": ""
            },
            "type": "contourcarpet"
           }
          ],
          "heatmap": [
           {
            "colorbar": {
             "outlinewidth": 0,
             "ticks": ""
            },
            "colorscale": [
             [
              0,
              "#0d0887"
             ],
             [
              0.1111111111111111,
              "#46039f"
             ],
             [
              0.2222222222222222,
              "#7201a8"
             ],
             [
              0.3333333333333333,
              "#9c179e"
             ],
             [
              0.4444444444444444,
              "#bd3786"
             ],
             [
              0.5555555555555556,
              "#d8576b"
             ],
             [
              0.6666666666666666,
              "#ed7953"
             ],
             [
              0.7777777777777778,
              "#fb9f3a"
             ],
             [
              0.8888888888888888,
              "#fdca26"
             ],
             [
              1,
              "#f0f921"
             ]
            ],
            "type": "heatmap"
           }
          ],
          "heatmapgl": [
           {
            "colorbar": {
             "outlinewidth": 0,
             "ticks": ""
            },
            "colorscale": [
             [
              0,
              "#0d0887"
             ],
             [
              0.1111111111111111,
              "#46039f"
             ],
             [
              0.2222222222222222,
              "#7201a8"
             ],
             [
              0.3333333333333333,
              "#9c179e"
             ],
             [
              0.4444444444444444,
              "#bd3786"
             ],
             [
              0.5555555555555556,
              "#d8576b"
             ],
             [
              0.6666666666666666,
              "#ed7953"
             ],
             [
              0.7777777777777778,
              "#fb9f3a"
             ],
             [
              0.8888888888888888,
              "#fdca26"
             ],
             [
              1,
              "#f0f921"
             ]
            ],
            "type": "heatmapgl"
           }
          ],
          "histogram": [
           {
            "marker": {
             "pattern": {
              "fillmode": "overlay",
              "size": 10,
              "solidity": 0.2
             }
            },
            "type": "histogram"
           }
          ],
          "histogram2d": [
           {
            "colorbar": {
             "outlinewidth": 0,
             "ticks": ""
            },
            "colorscale": [
             [
              0,
              "#0d0887"
             ],
             [
              0.1111111111111111,
              "#46039f"
             ],
             [
              0.2222222222222222,
              "#7201a8"
             ],
             [
              0.3333333333333333,
              "#9c179e"
             ],
             [
              0.4444444444444444,
              "#bd3786"
             ],
             [
              0.5555555555555556,
              "#d8576b"
             ],
             [
              0.6666666666666666,
              "#ed7953"
             ],
             [
              0.7777777777777778,
              "#fb9f3a"
             ],
             [
              0.8888888888888888,
              "#fdca26"
             ],
             [
              1,
              "#f0f921"
             ]
            ],
            "type": "histogram2d"
           }
          ],
          "histogram2dcontour": [
           {
            "colorbar": {
             "outlinewidth": 0,
             "ticks": ""
            },
            "colorscale": [
             [
              0,
              "#0d0887"
             ],
             [
              0.1111111111111111,
              "#46039f"
             ],
             [
              0.2222222222222222,
              "#7201a8"
             ],
             [
              0.3333333333333333,
              "#9c179e"
             ],
             [
              0.4444444444444444,
              "#bd3786"
             ],
             [
              0.5555555555555556,
              "#d8576b"
             ],
             [
              0.6666666666666666,
              "#ed7953"
             ],
             [
              0.7777777777777778,
              "#fb9f3a"
             ],
             [
              0.8888888888888888,
              "#fdca26"
             ],
             [
              1,
              "#f0f921"
             ]
            ],
            "type": "histogram2dcontour"
           }
          ],
          "mesh3d": [
           {
            "colorbar": {
             "outlinewidth": 0,
             "ticks": ""
            },
            "type": "mesh3d"
           }
          ],
          "parcoords": [
           {
            "line": {
             "colorbar": {
              "outlinewidth": 0,
              "ticks": ""
             }
            },
            "type": "parcoords"
           }
          ],
          "pie": [
           {
            "automargin": true,
            "type": "pie"
           }
          ],
          "scatter": [
           {
            "fillpattern": {
             "fillmode": "overlay",
             "size": 10,
             "solidity": 0.2
            },
            "type": "scatter"
           }
          ],
          "scatter3d": [
           {
            "line": {
             "colorbar": {
              "outlinewidth": 0,
              "ticks": ""
             }
            },
            "marker": {
             "colorbar": {
              "outlinewidth": 0,
              "ticks": ""
             }
            },
            "type": "scatter3d"
           }
          ],
          "scattercarpet": [
           {
            "marker": {
             "colorbar": {
              "outlinewidth": 0,
              "ticks": ""
             }
            },
            "type": "scattercarpet"
           }
          ],
          "scattergeo": [
           {
            "marker": {
             "colorbar": {
              "outlinewidth": 0,
              "ticks": ""
             }
            },
            "type": "scattergeo"
           }
          ],
          "scattergl": [
           {
            "marker": {
             "colorbar": {
              "outlinewidth": 0,
              "ticks": ""
             }
            },
            "type": "scattergl"
           }
          ],
          "scattermapbox": [
           {
            "marker": {
             "colorbar": {
              "outlinewidth": 0,
              "ticks": ""
             }
            },
            "type": "scattermapbox"
           }
          ],
          "scatterpolar": [
           {
            "marker": {
             "colorbar": {
              "outlinewidth": 0,
              "ticks": ""
             }
            },
            "type": "scatterpolar"
           }
          ],
          "scatterpolargl": [
           {
            "marker": {
             "colorbar": {
              "outlinewidth": 0,
              "ticks": ""
             }
            },
            "type": "scatterpolargl"
           }
          ],
          "scatterternary": [
           {
            "marker": {
             "colorbar": {
              "outlinewidth": 0,
              "ticks": ""
             }
            },
            "type": "scatterternary"
           }
          ],
          "surface": [
           {
            "colorbar": {
             "outlinewidth": 0,
             "ticks": ""
            },
            "colorscale": [
             [
              0,
              "#0d0887"
             ],
             [
              0.1111111111111111,
              "#46039f"
             ],
             [
              0.2222222222222222,
              "#7201a8"
             ],
             [
              0.3333333333333333,
              "#9c179e"
             ],
             [
              0.4444444444444444,
              "#bd3786"
             ],
             [
              0.5555555555555556,
              "#d8576b"
             ],
             [
              0.6666666666666666,
              "#ed7953"
             ],
             [
              0.7777777777777778,
              "#fb9f3a"
             ],
             [
              0.8888888888888888,
              "#fdca26"
             ],
             [
              1,
              "#f0f921"
             ]
            ],
            "type": "surface"
           }
          ],
          "table": [
           {
            "cells": {
             "fill": {
              "color": "#EBF0F8"
             },
             "line": {
              "color": "white"
             }
            },
            "header": {
             "fill": {
              "color": "#C8D4E3"
             },
             "line": {
              "color": "white"
             }
            },
            "type": "table"
           }
          ]
         },
         "layout": {
          "annotationdefaults": {
           "arrowcolor": "#2a3f5f",
           "arrowhead": 0,
           "arrowwidth": 1
          },
          "autotypenumbers": "strict",
          "coloraxis": {
           "colorbar": {
            "outlinewidth": 0,
            "ticks": ""
           }
          },
          "colorscale": {
           "diverging": [
            [
             0,
             "#8e0152"
            ],
            [
             0.1,
             "#c51b7d"
            ],
            [
             0.2,
             "#de77ae"
            ],
            [
             0.3,
             "#f1b6da"
            ],
            [
             0.4,
             "#fde0ef"
            ],
            [
             0.5,
             "#f7f7f7"
            ],
            [
             0.6,
             "#e6f5d0"
            ],
            [
             0.7,
             "#b8e186"
            ],
            [
             0.8,
             "#7fbc41"
            ],
            [
             0.9,
             "#4d9221"
            ],
            [
             1,
             "#276419"
            ]
           ],
           "sequential": [
            [
             0,
             "#0d0887"
            ],
            [
             0.1111111111111111,
             "#46039f"
            ],
            [
             0.2222222222222222,
             "#7201a8"
            ],
            [
             0.3333333333333333,
             "#9c179e"
            ],
            [
             0.4444444444444444,
             "#bd3786"
            ],
            [
             0.5555555555555556,
             "#d8576b"
            ],
            [
             0.6666666666666666,
             "#ed7953"
            ],
            [
             0.7777777777777778,
             "#fb9f3a"
            ],
            [
             0.8888888888888888,
             "#fdca26"
            ],
            [
             1,
             "#f0f921"
            ]
           ],
           "sequentialminus": [
            [
             0,
             "#0d0887"
            ],
            [
             0.1111111111111111,
             "#46039f"
            ],
            [
             0.2222222222222222,
             "#7201a8"
            ],
            [
             0.3333333333333333,
             "#9c179e"
            ],
            [
             0.4444444444444444,
             "#bd3786"
            ],
            [
             0.5555555555555556,
             "#d8576b"
            ],
            [
             0.6666666666666666,
             "#ed7953"
            ],
            [
             0.7777777777777778,
             "#fb9f3a"
            ],
            [
             0.8888888888888888,
             "#fdca26"
            ],
            [
             1,
             "#f0f921"
            ]
           ]
          },
          "colorway": [
           "#636efa",
           "#EF553B",
           "#00cc96",
           "#ab63fa",
           "#FFA15A",
           "#19d3f3",
           "#FF6692",
           "#B6E880",
           "#FF97FF",
           "#FECB52"
          ],
          "font": {
           "color": "#2a3f5f"
          },
          "geo": {
           "bgcolor": "white",
           "lakecolor": "white",
           "landcolor": "#E5ECF6",
           "showlakes": true,
           "showland": true,
           "subunitcolor": "white"
          },
          "hoverlabel": {
           "align": "left"
          },
          "hovermode": "closest",
          "mapbox": {
           "style": "light"
          },
          "paper_bgcolor": "white",
          "plot_bgcolor": "#E5ECF6",
          "polar": {
           "angularaxis": {
            "gridcolor": "white",
            "linecolor": "white",
            "ticks": ""
           },
           "bgcolor": "#E5ECF6",
           "radialaxis": {
            "gridcolor": "white",
            "linecolor": "white",
            "ticks": ""
           }
          },
          "scene": {
           "xaxis": {
            "backgroundcolor": "#E5ECF6",
            "gridcolor": "white",
            "gridwidth": 2,
            "linecolor": "white",
            "showbackground": true,
            "ticks": "",
            "zerolinecolor": "white"
           },
           "yaxis": {
            "backgroundcolor": "#E5ECF6",
            "gridcolor": "white",
            "gridwidth": 2,
            "linecolor": "white",
            "showbackground": true,
            "ticks": "",
            "zerolinecolor": "white"
           },
           "zaxis": {
            "backgroundcolor": "#E5ECF6",
            "gridcolor": "white",
            "gridwidth": 2,
            "linecolor": "white",
            "showbackground": true,
            "ticks": "",
            "zerolinecolor": "white"
           }
          },
          "shapedefaults": {
           "line": {
            "color": "#2a3f5f"
           }
          },
          "ternary": {
           "aaxis": {
            "gridcolor": "white",
            "linecolor": "white",
            "ticks": ""
           },
           "baxis": {
            "gridcolor": "white",
            "linecolor": "white",
            "ticks": ""
           },
           "bgcolor": "#E5ECF6",
           "caxis": {
            "gridcolor": "white",
            "linecolor": "white",
            "ticks": ""
           }
          },
          "title": {
           "x": 0.05
          },
          "xaxis": {
           "automargin": true,
           "gridcolor": "white",
           "linecolor": "white",
           "ticks": "",
           "title": {
            "standoff": 15
           },
           "zerolinecolor": "white",
           "zerolinewidth": 2
          },
          "yaxis": {
           "automargin": true,
           "gridcolor": "white",
           "linecolor": "white",
           "ticks": "",
           "title": {
            "standoff": 15
           },
           "zerolinecolor": "white",
           "zerolinewidth": 2
          }
         }
        },
        "title": {
         "font": {
          "family": "Arial",
          "size": 24
         },
         "text": "Cyber Threat Rate Over Time [2015-2022]"
        },
        "updatemenus": [
         {
          "buttons": [
           {
            "args": [
             null,
             {
              "frame": {
               "duration": 500,
               "redraw": true
              },
              "fromcurrent": true,
              "mode": "immediate",
              "transition": {
               "duration": 500,
               "easing": "linear"
              }
             }
            ],
            "label": "&#9654;",
            "method": "animate"
           },
           {
            "args": [
             [
              null
             ],
             {
              "frame": {
               "duration": 0,
               "redraw": true
              },
              "fromcurrent": true,
              "mode": "immediate",
              "transition": {
               "duration": 0,
               "easing": "linear"
              }
             }
            ],
            "label": "&#9724;",
            "method": "animate"
           }
          ],
          "direction": "left",
          "pad": {
           "r": 10,
           "t": 70
          },
          "showactive": false,
          "type": "buttons",
          "x": 0.1,
          "xanchor": "right",
          "y": 0,
          "yanchor": "top"
         }
        ],
        "width": 1250
       }
      }
     },
     "metadata": {},
     "output_type": "display_data"
    }
   ],
   "source": [
    "# Define the file path for the dataset\n",
    "file_path = 'Cyber_Threat_Rate.csv'\n",
    "\n",
    "# Read the data from the CSV file\n",
    "data = pd.read_csv(file_path)\n",
    "\n",
    "# Transform the DataFrame to long format\n",
    "data_long = pd.melt(data, id_vars=['Country Code', 'Country Name_x', 'Continent_x'],\n",
    "                    var_name='Year', value_name='Cyber Threat Rate')\n",
    "\n",
    "# Ensure 'Year' is a string\n",
    "data_long['Year'] = data_long['Year'].astype(str)\n",
    "\n",
    "# Filter the data to include only from 2015 onwards\n",
    "data_long_filtered = data_long[data_long['Year'].astype(int) >= 2015]\n",
    "\n",
    "# Plotting the animated choropleth map for Cyber Threats (2015 onwards)\n",
    "fig1 = px.choropleth(\n",
    "    data_long_filtered,\n",
    "    locations='Country Code',\n",
    "    color='Cyber Threat Rate',  # Using 'Cyber Threat Rate' as the color\n",
    "    hover_name='Country Name_x',\n",
    "    animation_frame='Year',\n",
    "    color_continuous_scale='Reds',  # Changing the scale from white to red\n",
    "    title='Cyber Threat Rate Over Time [2015-2022]',\n",
    "    projection='natural earth'\n",
    ")\n",
    "\n",
    "# Customize layout and increase size of the map\n",
    "fig1.update_layout(\n",
    "    geo=dict(\n",
    "        showcoastlines=True,\n",
    "        coastlinecolor=\"Black\",\n",
    "        showland=True,\n",
    "        landcolor=\"LightGray\",\n",
    "        showocean=True,\n",
    "        oceancolor=\"LightBlue\",\n",
    "        showlakes=True,\n",
    "        lakecolor=\"LightBlue\"\n",
    "    ),\n",
    "    coloraxis_colorbar_title='Cyber Threat Rate',  # Adjusting the color bar title\n",
    "    title_font_size=24,\n",
    "    title_font_family='Arial',\n",
    "    width=1250,  # Maintain the map width\n",
    "    height=450   # Maintain the map height\n",
    ")\n",
    "\n",
    "# Show the plot\n",
    "fig1.show()\n"
   ]
  },
  {
   "cell_type": "code",
   "execution_count": 6,
   "metadata": {},
   "outputs": [
    {
     "data": {
      "image/png": "[encoded data removed]",
      "text/plain": [
       "<Figure size 1000x1000 with 2 Axes>"
      ]
     },
     "metadata": {},
     "output_type": "display_data"
    }
   ],
   "source": [
    "# Load data into pandas dataframe\n",
    "phishing_df = pd.read_csv('phishing_incidents.csv')\n",
    "\n",
    "# Identify the index of the category with the highest incidents\n",
    "max_index = phishing_df['Incidents Count'].idxmax()\n",
    "\n",
    "# Get key properties for colours and labels\n",
    "max_value_full_ring = max(phishing_df['Incidents Count'])\n",
    "\n",
    "# Prepare color list and labels\n",
    "ring_colours = ['#2f4b7c' if i != max_index else '#ff7c43' for i in range(len(phishing_df))]  # Highlight max index\n",
    "ring_labels = [f'{category} ({count})' for category, count in zip(phishing_df['Category'], phishing_df['Incidents Count'])]\n",
    "\n",
    "# Data length\n",
    "data_len = len(phishing_df)\n",
    "\n",
    "# Begin creating the figure\n",
    "fig = plt.figure(figsize=(10, 10), linewidth=10, edgecolor='#393d5c', facecolor='#25253c')\n",
    "rect = [0.1, 0.1, 0.8, 0.8]\n",
    "\n",
    "# Add axis for radial backgrounds\n",
    "ax_polar_bg = fig.add_axes(rect, polar=True, frameon=False)\n",
    "ax_polar_bg.set_theta_zero_location('N')\n",
    "ax_polar_bg.set_theta_direction(1)\n",
    "\n",
    "# Loop through each entry in the dataframe and plot a grey ring for the background\n",
    "for i in range(data_len):\n",
    "    ax_polar_bg.barh(i, max_value_full_ring * 1.5 * np.pi / max_value_full_ring, color='grey', alpha=0.1)\n",
    "\n",
    "# Hide all axis items\n",
    "ax_polar_bg.axis('off')\n",
    "\n",
    "# Add axis for radial chart\n",
    "ax_polar = fig.add_axes(rect, polar=True, frameon=False)\n",
    "ax_polar.set_theta_zero_location('N')\n",
    "ax_polar.set_theta_direction(1)\n",
    "\n",
    "# Set the angular ticks to match the number of categories\n",
    "angles = np.linspace(0, 2 * np.pi, data_len, endpoint=False).tolist()\n",
    "ax_polar.set_xticks(angles)  # Set the angle locations\n",
    "ax_polar.set_xticklabels(ring_labels, fontsize=12, fontweight='bold', color='white')  # Set the labels\n",
    "\n",
    "# Loop through each entry in the dataframe and create a coloured ring for each entry\n",
    "for i in range(data_len):\n",
    "    ax_polar.barh(i, phishing_df['Incidents Count'][i] * 1.5 * np.pi / max_value_full_ring, color=ring_colours[i])\n",
    "\n",
    "# Hide all grid elements\n",
    "ax_polar.grid(False)\n",
    "ax_polar.tick_params(axis='both', left=False, bottom=False, labelbottom=False, labelleft=True)\n",
    "\n",
    "# Set title\n",
    "plt.title(\"Proportional Distribution of Cybercrime Incidents\", color='white')\n",
    "\n",
    "# Show the plot\n",
    "plt.show()\n"
   ]
  },
  {
   "cell_type": "code",
   "execution_count": 7,
   "metadata": {},
   "outputs": [
    {
     "data": {
      "application/vnd.plotly.v1+json": {
       "config": {
        "plotlyServerURL": "https://plot.ly"
       },
       "data": [
        {
         "alignmentgroup": "True",
         "hovertemplate": "Continent_x=Africa<br>Year=2015<br>Country=%{x}<br>Cyber Threat Rate=%{y}<extra></extra>",
         "ids": [
          "Djibouti",
          "South Africa"
         ],
         "legendgroup": "Africa",
         "marker": {
          "color": "#636efa",
          "pattern": {
           "shape": ""
          }
         },
         "name": "Africa",
         "offsetgroup": "Africa",
         "orientation": "v",
         "showlegend": true,
         "textposition": "auto",
         "type": "bar",
         "x": [
          "Djibouti",
          "South Africa"
         ],
         "xaxis": "x",
         "y": [
          72.208,
          41.999
         ],
         "yaxis": "y"
        },
        {
         "alignmentgroup": "True",
         "hovertemplate": "Continent_x=Asia<br>Year=2015<br>Country=%{x}<br>Cyber Threat Rate=%{y}<extra></extra>",
         "ids": [
          "Georgia"
         ],
         "legendgroup": "Asia",
         "marker": {
          "color": "#EF553B",
          "pattern": {
           "shape": ""
          }
         },
         "name": "Asia",
         "offsetgroup": "Asia",
         "orientation": "v",
         "showlegend": true,
         "textposition": "auto",
         "type": "bar",
         "x": [
          "Georgia"
         ],
         "xaxis": "x",
         "y": [
          36.424
         ],
         "yaxis": "y"
        },
        {
         "alignmentgroup": "True",
         "hovertemplate": "Continent_x=Europe<br>Year=2015<br>Country=%{x}<br>Cyber Threat Rate=%{y}<extra></extra>",
         "ids": [
          "Bosnia and Herzegovina"
         ],
         "legendgroup": "Europe",
         "marker": {
          "color": "#00cc96",
          "pattern": {
           "shape": ""
          }
         },
         "name": "Europe",
         "offsetgroup": "Europe",
         "orientation": "v",
         "showlegend": true,
         "textposition": "auto",
         "type": "bar",
         "x": [
          "Bosnia and Herzegovina"
         ],
         "xaxis": "x",
         "y": [
          63.15
         ],
         "yaxis": "y"
        },
        {
         "alignmentgroup": "True",
         "hovertemplate": "Continent_x=Global<br>Year=2015<br>Country=%{x}<br>Cyber Threat Rate=%{y}<extra></extra>",
         "ids": [
          "Other small states"
         ],
         "legendgroup": "Global",
         "marker": {
          "color": "#ab63fa",
          "pattern": {
           "shape": ""
          }
         },
         "name": "Global",
         "offsetgroup": "Global",
         "orientation": "v",
         "showlegend": true,
         "textposition": "auto",
         "type": "bar",
         "x": [
          "Other small states"
         ],
         "xaxis": "x",
         "y": [
          24.2976155108436
         ],
         "yaxis": "y"
        },
        {
         "alignmentgroup": "True",
         "hovertemplate": "Continent_x=Middle East<br>Year=2015<br>Country=%{x}<br>Cyber Threat Rate=%{y}<extra></extra>",
         "ids": [
          "West Bank and Gaza"
         ],
         "legendgroup": "Middle East",
         "marker": {
          "color": "#FFA15A",
          "pattern": {
           "shape": ""
          }
         },
         "name": "Middle East",
         "offsetgroup": "Middle East",
         "orientation": "v",
         "showlegend": true,
         "textposition": "auto",
         "type": "bar",
         "x": [
          "West Bank and Gaza"
         ],
         "xaxis": "x",
         "y": [
          37.115
         ],
         "yaxis": "y"
        },
        {
         "alignmentgroup": "True",
         "hovertemplate": "Continent_x=North America<br>Year=2015<br>Country=%{x}<br>Cyber Threat Rate=%{y}<extra></extra>",
         "ids": [
          "St. Lucia"
         ],
         "legendgroup": "North America",
         "marker": {
          "color": "#19d3f3",
          "pattern": {
           "shape": ""
          }
         },
         "name": "North America",
         "offsetgroup": "North America",
         "orientation": "v",
         "showlegend": true,
         "textposition": "auto",
         "type": "bar",
         "x": [
          "St. Lucia"
         ],
         "xaxis": "x",
         "y": [
          46.621
         ],
         "yaxis": "y"
        },
        {
         "alignmentgroup": "True",
         "hovertemplate": "Continent_x=Oceania<br>Year=2015<br>Country=%{x}<br>Cyber Threat Rate=%{y}<extra></extra>",
         "ids": [
          "New Caledonia"
         ],
         "legendgroup": "Oceania",
         "marker": {
          "color": "#FF6692",
          "pattern": {
           "shape": ""
          }
         },
         "name": "Oceania",
         "offsetgroup": "Oceania",
         "orientation": "v",
         "showlegend": true,
         "textposition": "auto",
         "type": "bar",
         "x": [
          "New Caledonia"
         ],
         "xaxis": "x",
         "y": [
          37.203
         ],
         "yaxis": "y"
        },
        {
         "alignmentgroup": "True",
         "hovertemplate": "Continent_x=South America<br>Year=2015<br>Country=%{x}<br>Cyber Threat Rate=%{y}<extra></extra>",
         "ids": [
          "Guyana"
         ],
         "legendgroup": "South America",
         "marker": {
          "color": "#B6E880",
          "pattern": {
           "shape": ""
          }
         },
         "name": "South America",
         "offsetgroup": "South America",
         "orientation": "v",
         "showlegend": true,
         "textposition": "auto",
         "type": "bar",
         "x": [
          "Guyana"
         ],
         "xaxis": "x",
         "y": [
          24.804
         ],
         "yaxis": "y"
        }
       ],
       "frames": [
        {
         "data": [
          {
           "alignmentgroup": "True",
           "hovertemplate": "Continent_x=Africa<br>Year=2015<br>Country=%{x}<br>Cyber Threat Rate=%{y}<extra></extra>",
           "ids": [
            "Djibouti",
            "South Africa"
           ],
           "legendgroup": "Africa",
           "marker": {
            "color": "#636efa",
            "pattern": {
             "shape": ""
            }
           },
           "name": "Africa",
           "offsetgroup": "Africa",
           "orientation": "v",
           "showlegend": true,
           "textposition": "auto",
           "type": "bar",
           "x": [
            "Djibouti",
            "South Africa"
           ],
           "xaxis": "x",
           "y": [
            72.208,
            41.999
           ],
           "yaxis": "y"
          },
          {
           "alignmentgroup": "True",
           "hovertemplate": "Continent_x=Asia<br>Year=2015<br>Country=%{x}<br>Cyber Threat Rate=%{y}<extra></extra>",
           "ids": [
            "Georgia"
           ],
           "legendgroup": "Asia",
           "marker": {
            "color": "#EF553B",
            "pattern": {
             "shape": ""
            }
           },
           "name": "Asia",
           "offsetgroup": "Asia",
           "orientation": "v",
           "showlegend": true,
           "textposition": "auto",
           "type": "bar",
           "x": [
            "Georgia"
           ],
           "xaxis": "x",
           "y": [
            36.424
           ],
           "yaxis": "y"
          },
          {
           "alignmentgroup": "True",
           "hovertemplate": "Continent_x=Europe<br>Year=2015<br>Country=%{x}<br>Cyber Threat Rate=%{y}<extra></extra>",
           "ids": [
            "Bosnia and Herzegovina"
           ],
           "legendgroup": "Europe",
           "marker": {
            "color": "#00cc96",
            "pattern": {
             "shape": ""
            }
           },
           "name": "Europe",
           "offsetgroup": "Europe",
           "orientation": "v",
           "showlegend": true,
           "textposition": "auto",
           "type": "bar",
           "x": [
            "Bosnia and Herzegovina"
           ],
           "xaxis": "x",
           "y": [
            63.15
           ],
           "yaxis": "y"
          },
          {
           "alignmentgroup": "True",
           "hovertemplate": "Continent_x=Global<br>Year=2015<br>Country=%{x}<br>Cyber Threat Rate=%{y}<extra></extra>",
           "ids": [
            "Other small states"
           ],
           "legendgroup": "Global",
           "marker": {
            "color": "#ab63fa",
            "pattern": {
             "shape": ""
            }
           },
           "name": "Global",
           "offsetgroup": "Global",
           "orientation": "v",
           "showlegend": true,
           "textposition": "auto",
           "type": "bar",
           "x": [
            "Other small states"
           ],
           "xaxis": "x",
           "y": [
            24.2976155108436
           ],
           "yaxis": "y"
          },
          {
           "alignmentgroup": "True",
           "hovertemplate": "Continent_x=Middle East<br>Year=2015<br>Country=%{x}<br>Cyber Threat Rate=%{y}<extra></extra>",
           "ids": [
            "West Bank and Gaza"
           ],
           "legendgroup": "Middle East",
           "marker": {
            "color": "#FFA15A",
            "pattern": {
             "shape": ""
            }
           },
           "name": "Middle East",
           "offsetgroup": "Middle East",
           "orientation": "v",
           "showlegend": true,
           "textposition": "auto",
           "type": "bar",
           "x": [
            "West Bank and Gaza"
           ],
           "xaxis": "x",
           "y": [
            37.115
           ],
           "yaxis": "y"
          },
          {
           "alignmentgroup": "True",
           "hovertemplate": "Continent_x=North America<br>Year=2015<br>Country=%{x}<br>Cyber Threat Rate=%{y}<extra></extra>",
           "ids": [
            "St. Lucia"
           ],
           "legendgroup": "North America",
           "marker": {
            "color": "#19d3f3",
            "pattern": {
             "shape": ""
            }
           },
           "name": "North America",
           "offsetgroup": "North America",
           "orientation": "v",
           "showlegend": true,
           "textposition": "auto",
           "type": "bar",
           "x": [
            "St. Lucia"
           ],
           "xaxis": "x",
           "y": [
            46.621
           ],
           "yaxis": "y"
          },
          {
           "alignmentgroup": "True",
           "hovertemplate": "Continent_x=Oceania<br>Year=2015<br>Country=%{x}<br>Cyber Threat Rate=%{y}<extra></extra>",
           "ids": [
            "New Caledonia"
           ],
           "legendgroup": "Oceania",
           "marker": {
            "color": "#FF6692",
            "pattern": {
             "shape": ""
            }
           },
           "name": "Oceania",
           "offsetgroup": "Oceania",
           "orientation": "v",
           "showlegend": true,
           "textposition": "auto",
           "type": "bar",
           "x": [
            "New Caledonia"
           ],
           "xaxis": "x",
           "y": [
            37.203
           ],
           "yaxis": "y"
          },
          {
           "alignmentgroup": "True",
           "hovertemplate": "Continent_x=South America<br>Year=2015<br>Country=%{x}<br>Cyber Threat Rate=%{y}<extra></extra>",
           "ids": [
            "Guyana"
           ],
           "legendgroup": "South America",
           "marker": {
            "color": "#B6E880",
            "pattern": {
             "shape": ""
            }
           },
           "name": "South America",
           "offsetgroup": "South America",
           "orientation": "v",
           "showlegend": true,
           "textposition": "auto",
           "type": "bar",
           "x": [
            "Guyana"
           ],
           "xaxis": "x",
           "y": [
            24.804
           ],
           "yaxis": "y"
          }
         ],
         "name": "2015"
        },
        {
         "data": [
          {
           "alignmentgroup": "True",
           "hovertemplate": "Continent_x=Africa<br>Year=2016<br>Country=%{x}<br>Cyber Threat Rate=%{y}<extra></extra>",
           "ids": [
            "Djibouti",
            "South Africa"
           ],
           "legendgroup": "Africa",
           "marker": {
            "color": "#636efa",
            "pattern": {
             "shape": ""
            }
           },
           "name": "Africa",
           "offsetgroup": "Africa",
           "orientation": "v",
           "showlegend": true,
           "textposition": "auto",
           "type": "bar",
           "x": [
            "Djibouti",
            "South Africa"
           ],
           "xaxis": "x",
           "y": [
            73.052,
            43.936
           ],
           "yaxis": "y"
          },
          {
           "alignmentgroup": "True",
           "hovertemplate": "Continent_x=Asia<br>Year=2016<br>Country=%{x}<br>Cyber Threat Rate=%{y}<extra></extra>",
           "ids": [
            "Georgia"
           ],
           "legendgroup": "Asia",
           "marker": {
            "color": "#EF553B",
            "pattern": {
             "shape": ""
            }
           },
           "name": "Asia",
           "offsetgroup": "Asia",
           "orientation": "v",
           "showlegend": true,
           "textposition": "auto",
           "type": "bar",
           "x": [
            "Georgia"
           ],
           "xaxis": "x",
           "y": [
            35.667
           ],
           "yaxis": "y"
          },
          {
           "alignmentgroup": "True",
           "hovertemplate": "Continent_x=Europe<br>Year=2016<br>Country=%{x}<br>Cyber Threat Rate=%{y}<extra></extra>",
           "ids": [
            "Bosnia and Herzegovina"
           ],
           "legendgroup": "Europe",
           "marker": {
            "color": "#00cc96",
            "pattern": {
             "shape": ""
            }
           },
           "name": "Europe",
           "offsetgroup": "Europe",
           "orientation": "v",
           "showlegend": true,
           "textposition": "auto",
           "type": "bar",
           "x": [
            "Bosnia and Herzegovina"
           ],
           "xaxis": "x",
           "y": [
            55.099
           ],
           "yaxis": "y"
          },
          {
           "alignmentgroup": "True",
           "hovertemplate": "Continent_x=Global<br>Year=2016<br>Country=%{x}<br>Cyber Threat Rate=%{y}<extra></extra>",
           "ids": [
            "Other small states"
           ],
           "legendgroup": "Global",
           "marker": {
            "color": "#ab63fa",
            "pattern": {
             "shape": ""
            }
           },
           "name": "Global",
           "offsetgroup": "Global",
           "orientation": "v",
           "showlegend": true,
           "textposition": "auto",
           "type": "bar",
           "x": [
            "Other small states"
           ],
           "xaxis": "x",
           "y": [
            24.0996641248677
           ],
           "yaxis": "y"
          },
          {
           "alignmentgroup": "True",
           "hovertemplate": "Continent_x=Middle East<br>Year=2016<br>Country=%{x}<br>Cyber Threat Rate=%{y}<extra></extra>",
           "ids": [
            "West Bank and Gaza"
           ],
           "legendgroup": "Middle East",
           "marker": {
            "color": "#FFA15A",
            "pattern": {
             "shape": ""
            }
           },
           "name": "Middle East",
           "offsetgroup": "Middle East",
           "orientation": "v",
           "showlegend": true,
           "textposition": "auto",
           "type": "bar",
           "x": [
            "West Bank and Gaza"
           ],
           "xaxis": "x",
           "y": [
            38.391
           ],
           "yaxis": "y"
          },
          {
           "alignmentgroup": "True",
           "hovertemplate": "Continent_x=North America<br>Year=2016<br>Country=%{x}<br>Cyber Threat Rate=%{y}<extra></extra>",
           "ids": [
            "St. Lucia"
           ],
           "legendgroup": "North America",
           "marker": {
            "color": "#19d3f3",
            "pattern": {
             "shape": ""
            }
           },
           "name": "North America",
           "offsetgroup": "North America",
           "orientation": "v",
           "showlegend": true,
           "textposition": "auto",
           "type": "bar",
           "x": [
            "St. Lucia"
           ],
           "xaxis": "x",
           "y": [
            45.541
           ],
           "yaxis": "y"
          },
          {
           "alignmentgroup": "True",
           "hovertemplate": "Continent_x=Oceania<br>Year=2016<br>Country=%{x}<br>Cyber Threat Rate=%{y}<extra></extra>",
           "ids": [
            "New Caledonia"
           ],
           "legendgroup": "Oceania",
           "marker": {
            "color": "#FF6692",
            "pattern": {
             "shape": ""
            }
           },
           "name": "Oceania",
           "offsetgroup": "Oceania",
           "orientation": "v",
           "showlegend": true,
           "textposition": "auto",
           "type": "bar",
           "x": [
            "New Caledonia"
           ],
           "xaxis": "x",
           "y": [
            36.15
           ],
           "yaxis": "y"
          },
          {
           "alignmentgroup": "True",
           "hovertemplate": "Continent_x=South America<br>Year=2016<br>Country=%{x}<br>Cyber Threat Rate=%{y}<extra></extra>",
           "ids": [
            "Brazil"
           ],
           "legendgroup": "South America",
           "marker": {
            "color": "#B6E880",
            "pattern": {
             "shape": ""
            }
           },
           "name": "South America",
           "offsetgroup": "South America",
           "orientation": "v",
           "showlegend": true,
           "textposition": "auto",
           "type": "bar",
           "x": [
            "Brazil"
           ],
           "xaxis": "x",
           "y": [
            26.697
           ],
           "yaxis": "y"
          }
         ],
         "name": "2016"
        },
        {
         "data": [
          {
           "alignmentgroup": "True",
           "hovertemplate": "Continent_x=Africa<br>Year=2017<br>Country=%{x}<br>Cyber Threat Rate=%{y}<extra></extra>",
           "ids": [
            "Djibouti",
            "South Africa"
           ],
           "legendgroup": "Africa",
           "marker": {
            "color": "#636efa",
            "pattern": {
             "shape": ""
            }
           },
           "name": "Africa",
           "offsetgroup": "Africa",
           "orientation": "v",
           "showlegend": true,
           "textposition": "auto",
           "type": "bar",
           "x": [
            "Djibouti",
            "South Africa"
           ],
           "xaxis": "x",
           "y": [
            74.036,
            42.811
           ],
           "yaxis": "y"
          },
          {
           "alignmentgroup": "True",
           "hovertemplate": "Continent_x=Asia<br>Year=2017<br>Country=%{x}<br>Cyber Threat Rate=%{y}<extra></extra>",
           "ids": [
            "Jordan"
           ],
           "legendgroup": "Asia",
           "marker": {
            "color": "#EF553B",
            "pattern": {
             "shape": ""
            }
           },
           "name": "Asia",
           "offsetgroup": "Asia",
           "orientation": "v",
           "showlegend": true,
           "textposition": "auto",
           "type": "bar",
           "x": [
            "Jordan"
           ],
           "xaxis": "x",
           "y": [
            35.391
           ],
           "yaxis": "y"
          },
          {
           "alignmentgroup": "True",
           "hovertemplate": "Continent_x=Europe<br>Year=2017<br>Country=%{x}<br>Cyber Threat Rate=%{y}<extra></extra>",
           "ids": [
            "North Macedonia"
           ],
           "legendgroup": "Europe",
           "marker": {
            "color": "#00cc96",
            "pattern": {
             "shape": ""
            }
           },
           "name": "Europe",
           "offsetgroup": "Europe",
           "orientation": "v",
           "showlegend": true,
           "textposition": "auto",
           "type": "bar",
           "x": [
            "North Macedonia"
           ],
           "xaxis": "x",
           "y": [
            47.26
           ],
           "yaxis": "y"
          },
          {
           "alignmentgroup": "True",
           "hovertemplate": "Continent_x=Global<br>Year=2017<br>Country=%{x}<br>Cyber Threat Rate=%{y}<extra></extra>",
           "ids": [
            "Other small states"
           ],
           "legendgroup": "Global",
           "marker": {
            "color": "#ab63fa",
            "pattern": {
             "shape": ""
            }
           },
           "name": "Global",
           "offsetgroup": "Global",
           "orientation": "v",
           "showlegend": true,
           "textposition": "auto",
           "type": "bar",
           "x": [
            "Other small states"
           ],
           "xaxis": "x",
           "y": [
            23.6519808069456
           ],
           "yaxis": "y"
          },
          {
           "alignmentgroup": "True",
           "hovertemplate": "Continent_x=Middle East<br>Year=2017<br>Country=%{x}<br>Cyber Threat Rate=%{y}<extra></extra>",
           "ids": [
            "West Bank and Gaza"
           ],
           "legendgroup": "Middle East",
           "marker": {
            "color": "#FFA15A",
            "pattern": {
             "shape": ""
            }
           },
           "name": "Middle East",
           "offsetgroup": "Middle East",
           "orientation": "v",
           "showlegend": true,
           "textposition": "auto",
           "type": "bar",
           "x": [
            "West Bank and Gaza"
           ],
           "xaxis": "x",
           "y": [
            41.709
           ],
           "yaxis": "y"
          },
          {
           "alignmentgroup": "True",
           "hovertemplate": "Continent_x=North America<br>Year=2017<br>Country=%{x}<br>Cyber Threat Rate=%{y}<extra></extra>",
           "ids": [
            "St. Lucia"
           ],
           "legendgroup": "North America",
           "marker": {
            "color": "#19d3f3",
            "pattern": {
             "shape": ""
            }
           },
           "name": "North America",
           "offsetgroup": "North America",
           "orientation": "v",
           "showlegend": true,
           "textposition": "auto",
           "type": "bar",
           "x": [
            "St. Lucia"
           ],
           "xaxis": "x",
           "y": [
            44.659
           ],
           "yaxis": "y"
          },
          {
           "alignmentgroup": "True",
           "hovertemplate": "Continent_x=Oceania<br>Year=2017<br>Country=%{x}<br>Cyber Threat Rate=%{y}<extra></extra>",
           "ids": [
            "New Caledonia"
           ],
           "legendgroup": "Oceania",
           "marker": {
            "color": "#FF6692",
            "pattern": {
             "shape": ""
            }
           },
           "name": "Oceania",
           "offsetgroup": "Oceania",
           "orientation": "v",
           "showlegend": true,
           "textposition": "auto",
           "type": "bar",
           "x": [
            "New Caledonia"
           ],
           "xaxis": "x",
           "y": [
            34.64
           ],
           "yaxis": "y"
          },
          {
           "alignmentgroup": "True",
           "hovertemplate": "Continent_x=South America<br>Year=2017<br>Country=%{x}<br>Cyber Threat Rate=%{y}<extra></extra>",
           "ids": [
            "Brazil"
           ],
           "legendgroup": "South America",
           "marker": {
            "color": "#B6E880",
            "pattern": {
             "shape": ""
            }
           },
           "name": "South America",
           "offsetgroup": "South America",
           "orientation": "v",
           "showlegend": true,
           "textposition": "auto",
           "type": "bar",
           "x": [
            "Brazil"
           ],
           "xaxis": "x",
           "y": [
            28.661
           ],
           "yaxis": "y"
          }
         ],
         "name": "2017"
        },
        {
         "data": [
          {
           "alignmentgroup": "True",
           "hovertemplate": "Continent_x=Africa<br>Year=2018<br>Country=%{x}<br>Cyber Threat Rate=%{y}<extra></extra>",
           "ids": [
            "Djibouti",
            "South Africa"
           ],
           "legendgroup": "Africa",
           "marker": {
            "color": "#636efa",
            "pattern": {
             "shape": ""
            }
           },
           "name": "Africa",
           "offsetgroup": "Africa",
           "orientation": "v",
           "showlegend": true,
           "textposition": "auto",
           "type": "bar",
           "x": [
            "Djibouti",
            "South Africa"
           ],
           "xaxis": "x",
           "y": [
            73.893,
            43.761
           ],
           "yaxis": "y"
          },
          {
           "alignmentgroup": "True",
           "hovertemplate": "Continent_x=Asia<br>Year=2018<br>Country=%{x}<br>Cyber Threat Rate=%{y}<extra></extra>",
           "ids": [
            "Jordan"
           ],
           "legendgroup": "Asia",
           "marker": {
            "color": "#EF553B",
            "pattern": {
             "shape": ""
            }
           },
           "name": "Asia",
           "offsetgroup": "Asia",
           "orientation": "v",
           "showlegend": true,
           "textposition": "auto",
           "type": "bar",
           "x": [
            "Jordan"
           ],
           "xaxis": "x",
           "y": [
            38.88
           ],
           "yaxis": "y"
          },
          {
           "alignmentgroup": "True",
           "hovertemplate": "Continent_x=Europe<br>Year=2018<br>Country=%{x}<br>Cyber Threat Rate=%{y}<extra></extra>",
           "ids": [
            "North Macedonia"
           ],
           "legendgroup": "Europe",
           "marker": {
            "color": "#00cc96",
            "pattern": {
             "shape": ""
            }
           },
           "name": "Europe",
           "offsetgroup": "Europe",
           "orientation": "v",
           "showlegend": true,
           "textposition": "auto",
           "type": "bar",
           "x": [
            "North Macedonia"
           ],
           "xaxis": "x",
           "y": [
            46.409
           ],
           "yaxis": "y"
          },
          {
           "alignmentgroup": "True",
           "hovertemplate": "Continent_x=Global<br>Year=2018<br>Country=%{x}<br>Cyber Threat Rate=%{y}<extra></extra>",
           "ids": [
            "Other small states"
           ],
           "legendgroup": "Global",
           "marker": {
            "color": "#ab63fa",
            "pattern": {
             "shape": ""
            }
           },
           "name": "Global",
           "offsetgroup": "Global",
           "orientation": "v",
           "showlegend": true,
           "textposition": "auto",
           "type": "bar",
           "x": [
            "Other small states"
           ],
           "xaxis": "x",
           "y": [
            23.0208001309497
           ],
           "yaxis": "y"
          },
          {
           "alignmentgroup": "True",
           "hovertemplate": "Continent_x=Middle East<br>Year=2018<br>Country=%{x}<br>Cyber Threat Rate=%{y}<extra></extra>",
           "ids": [
            "West Bank and Gaza"
           ],
           "legendgroup": "Middle East",
           "marker": {
            "color": "#FFA15A",
            "pattern": {
             "shape": ""
            }
           },
           "name": "Middle East",
           "offsetgroup": "Middle East",
           "orientation": "v",
           "showlegend": true,
           "textposition": "auto",
           "type": "bar",
           "x": [
            "West Bank and Gaza"
           ],
           "xaxis": "x",
           "y": [
            42.06
           ],
           "yaxis": "y"
          },
          {
           "alignmentgroup": "True",
           "hovertemplate": "Continent_x=North America<br>Year=2018<br>Country=%{x}<br>Cyber Threat Rate=%{y}<extra></extra>",
           "ids": [
            "St. Lucia"
           ],
           "legendgroup": "North America",
           "marker": {
            "color": "#19d3f3",
            "pattern": {
             "shape": ""
            }
           },
           "name": "North America",
           "offsetgroup": "North America",
           "orientation": "v",
           "showlegend": true,
           "textposition": "auto",
           "type": "bar",
           "x": [
            "St. Lucia"
           ],
           "xaxis": "x",
           "y": [
            41.623
           ],
           "yaxis": "y"
          },
          {
           "alignmentgroup": "True",
           "hovertemplate": "Continent_x=Oceania<br>Year=2018<br>Country=%{x}<br>Cyber Threat Rate=%{y}<extra></extra>",
           "ids": [
            "French Polynesia"
           ],
           "legendgroup": "Oceania",
           "marker": {
            "color": "#FF6692",
            "pattern": {
             "shape": ""
            }
           },
           "name": "Oceania",
           "offsetgroup": "Oceania",
           "orientation": "v",
           "showlegend": true,
           "textposition": "auto",
           "type": "bar",
           "x": [
            "French Polynesia"
           ],
           "xaxis": "x",
           "y": [
            34.33
           ],
           "yaxis": "y"
          },
          {
           "alignmentgroup": "True",
           "hovertemplate": "Continent_x=South America<br>Year=2018<br>Country=%{x}<br>Cyber Threat Rate=%{y}<extra></extra>",
           "ids": [
            "Brazil"
           ],
           "legendgroup": "South America",
           "marker": {
            "color": "#B6E880",
            "pattern": {
             "shape": ""
            }
           },
           "name": "South America",
           "offsetgroup": "South America",
           "orientation": "v",
           "showlegend": true,
           "textposition": "auto",
           "type": "bar",
           "x": [
            "Brazil"
           ],
           "xaxis": "x",
           "y": [
            28.028
           ],
           "yaxis": "y"
          }
         ],
         "name": "2018"
        },
        {
         "data": [
          {
           "alignmentgroup": "True",
           "hovertemplate": "Continent_x=Africa<br>Year=2019<br>Country=%{x}<br>Cyber Threat Rate=%{y}<extra></extra>",
           "ids": [
            "Djibouti",
            "South Africa"
           ],
           "legendgroup": "Africa",
           "marker": {
            "color": "#636efa",
            "pattern": {
             "shape": ""
            }
           },
           "name": "Africa",
           "offsetgroup": "Africa",
           "orientation": "v",
           "showlegend": true,
           "textposition": "auto",
           "type": "bar",
           "x": [
            "Djibouti",
            "South Africa"
           ],
           "xaxis": "x",
           "y": [
            73.91,
            47.406
           ],
           "yaxis": "y"
          },
          {
           "alignmentgroup": "True",
           "hovertemplate": "Continent_x=Asia<br>Year=2019<br>Country=%{x}<br>Cyber Threat Rate=%{y}<extra></extra>",
           "ids": [
            "Jordan"
           ],
           "legendgroup": "Asia",
           "marker": {
            "color": "#EF553B",
            "pattern": {
             "shape": ""
            }
           },
           "name": "Asia",
           "offsetgroup": "Asia",
           "orientation": "v",
           "showlegend": true,
           "textposition": "auto",
           "type": "bar",
           "x": [
            "Jordan"
           ],
           "xaxis": "x",
           "y": [
            37.122
           ],
           "yaxis": "y"
          },
          {
           "alignmentgroup": "True",
           "hovertemplate": "Continent_x=Europe<br>Year=2019<br>Country=%{x}<br>Cyber Threat Rate=%{y}<extra></extra>",
           "ids": [
            "North Macedonia"
           ],
           "legendgroup": "Europe",
           "marker": {
            "color": "#00cc96",
            "pattern": {
             "shape": ""
            }
           },
           "name": "Europe",
           "offsetgroup": "Europe",
           "orientation": "v",
           "showlegend": true,
           "textposition": "auto",
           "type": "bar",
           "x": [
            "North Macedonia"
           ],
           "xaxis": "x",
           "y": [
            35.481
           ],
           "yaxis": "y"
          },
          {
           "alignmentgroup": "True",
           "hovertemplate": "Continent_x=Global<br>Year=2019<br>Country=%{x}<br>Cyber Threat Rate=%{y}<extra></extra>",
           "ids": [
            "Other small states"
           ],
           "legendgroup": "Global",
           "marker": {
            "color": "#ab63fa",
            "pattern": {
             "shape": ""
            }
           },
           "name": "Global",
           "offsetgroup": "Global",
           "orientation": "v",
           "showlegend": true,
           "textposition": "auto",
           "type": "bar",
           "x": [
            "Other small states"
           ],
           "xaxis": "x",
           "y": [
            22.6288757012329
           ],
           "yaxis": "y"
          },
          {
           "alignmentgroup": "True",
           "hovertemplate": "Continent_x=Middle East<br>Year=2019<br>Country=%{x}<br>Cyber Threat Rate=%{y}<extra></extra>",
           "ids": [
            "West Bank and Gaza"
           ],
           "legendgroup": "Middle East",
           "marker": {
            "color": "#FFA15A",
            "pattern": {
             "shape": ""
            }
           },
           "name": "Middle East",
           "offsetgroup": "Middle East",
           "orientation": "v",
           "showlegend": true,
           "textposition": "auto",
           "type": "bar",
           "x": [
            "West Bank and Gaza"
           ],
           "xaxis": "x",
           "y": [
            39.983
           ],
           "yaxis": "y"
          },
          {
           "alignmentgroup": "True",
           "hovertemplate": "Continent_x=North America<br>Year=2019<br>Country=%{x}<br>Cyber Threat Rate=%{y}<extra></extra>",
           "ids": [
            "St. Vincent and the Grenadines"
           ],
           "legendgroup": "North America",
           "marker": {
            "color": "#19d3f3",
            "pattern": {
             "shape": ""
            }
           },
           "name": "North America",
           "offsetgroup": "North America",
           "orientation": "v",
           "showlegend": true,
           "textposition": "auto",
           "type": "bar",
           "x": [
            "St. Vincent and the Grenadines"
           ],
           "xaxis": "x",
           "y": [
            38.203
           ],
           "yaxis": "y"
          },
          {
           "alignmentgroup": "True",
           "hovertemplate": "Continent_x=Oceania<br>Year=2019<br>Country=%{x}<br>Cyber Threat Rate=%{y}<extra></extra>",
           "ids": [
            "French Polynesia"
           ],
           "legendgroup": "Oceania",
           "marker": {
            "color": "#FF6692",
            "pattern": {
             "shape": ""
            }
           },
           "name": "Oceania",
           "offsetgroup": "Oceania",
           "orientation": "v",
           "showlegend": true,
           "textposition": "auto",
           "type": "bar",
           "x": [
            "French Polynesia"
           ],
           "xaxis": "x",
           "y": [
            34.457
           ],
           "yaxis": "y"
          },
          {
           "alignmentgroup": "True",
           "hovertemplate": "Continent_x=South America<br>Year=2019<br>Country=%{x}<br>Cyber Threat Rate=%{y}<extra></extra>",
           "ids": [
            "Uruguay"
           ],
           "legendgroup": "South America",
           "marker": {
            "color": "#B6E880",
            "pattern": {
             "shape": ""
            }
           },
           "name": "South America",
           "offsetgroup": "South America",
           "orientation": "v",
           "showlegend": true,
           "textposition": "auto",
           "type": "bar",
           "x": [
            "Uruguay"
           ],
           "xaxis": "x",
           "y": [
            28.142
           ],
           "yaxis": "y"
          }
         ],
         "name": "2019"
        },
        {
         "data": [
          {
           "alignmentgroup": "True",
           "hovertemplate": "Continent_x=Africa<br>Year=2020<br>Country=%{x}<br>Cyber Threat Rate=%{y}<extra></extra>",
           "ids": [
            "Djibouti",
            "South Africa"
           ],
           "legendgroup": "Africa",
           "marker": {
            "color": "#636efa",
            "pattern": {
             "shape": ""
            }
           },
           "name": "Africa",
           "offsetgroup": "Africa",
           "orientation": "v",
           "showlegend": true,
           "textposition": "auto",
           "type": "bar",
           "x": [
            "Djibouti",
            "South Africa"
           ],
           "xaxis": "x",
           "y": [
            78.778,
            43.499
           ],
           "yaxis": "y"
          },
          {
           "alignmentgroup": "True",
           "hovertemplate": "Continent_x=Asia<br>Year=2020<br>Country=%{x}<br>Cyber Threat Rate=%{y}<extra></extra>",
           "ids": [
            "Jordan"
           ],
           "legendgroup": "Asia",
           "marker": {
            "color": "#EF553B",
            "pattern": {
             "shape": ""
            }
           },
           "name": "Asia",
           "offsetgroup": "Asia",
           "orientation": "v",
           "showlegend": true,
           "textposition": "auto",
           "type": "bar",
           "x": [
            "Jordan"
           ],
           "xaxis": "x",
           "y": [
            42.349
           ],
           "yaxis": "y"
          },
          {
           "alignmentgroup": "True",
           "hovertemplate": "Continent_x=Europe<br>Year=2020<br>Country=%{x}<br>Cyber Threat Rate=%{y}<extra></extra>",
           "ids": [
            "Spain"
           ],
           "legendgroup": "Europe",
           "marker": {
            "color": "#00cc96",
            "pattern": {
             "shape": ""
            }
           },
           "name": "Europe",
           "offsetgroup": "Europe",
           "orientation": "v",
           "showlegend": true,
           "textposition": "auto",
           "type": "bar",
           "x": [
            "Spain"
           ],
           "xaxis": "x",
           "y": [
            38.28
           ],
           "yaxis": "y"
          },
          {
           "alignmentgroup": "True",
           "hovertemplate": "Continent_x=Global<br>Year=2020<br>Country=%{x}<br>Cyber Threat Rate=%{y}<extra></extra>",
           "ids": [
            "Other small states"
           ],
           "legendgroup": "Global",
           "marker": {
            "color": "#ab63fa",
            "pattern": {
             "shape": ""
            }
           },
           "name": "Global",
           "offsetgroup": "Global",
           "orientation": "v",
           "showlegend": true,
           "textposition": "auto",
           "type": "bar",
           "x": [
            "Other small states"
           ],
           "xaxis": "x",
           "y": [
            25.9604395554776
           ],
           "yaxis": "y"
          },
          {
           "alignmentgroup": "True",
           "hovertemplate": "Continent_x=Middle East<br>Year=2020<br>Country=%{x}<br>Cyber Threat Rate=%{y}<extra></extra>",
           "ids": [
            "West Bank and Gaza"
           ],
           "legendgroup": "Middle East",
           "marker": {
            "color": "#FFA15A",
            "pattern": {
             "shape": ""
            }
           },
           "name": "Middle East",
           "offsetgroup": "Middle East",
           "orientation": "v",
           "showlegend": true,
           "textposition": "auto",
           "type": "bar",
           "x": [
            "West Bank and Gaza"
           ],
           "xaxis": "x",
           "y": [
            41.868
           ],
           "yaxis": "y"
          },
          {
           "alignmentgroup": "True",
           "hovertemplate": "Continent_x=North America<br>Year=2020<br>Country=%{x}<br>Cyber Threat Rate=%{y}<extra></extra>",
           "ids": [
            "St. Lucia"
           ],
           "legendgroup": "North America",
           "marker": {
            "color": "#19d3f3",
            "pattern": {
             "shape": ""
            }
           },
           "name": "North America",
           "offsetgroup": "North America",
           "orientation": "v",
           "showlegend": true,
           "textposition": "auto",
           "type": "bar",
           "x": [
            "St. Lucia"
           ],
           "xaxis": "x",
           "y": [
            43.885
           ],
           "yaxis": "y"
          },
          {
           "alignmentgroup": "True",
           "hovertemplate": "Continent_x=Oceania<br>Year=2020<br>Country=%{x}<br>Cyber Threat Rate=%{y}<extra></extra>",
           "ids": [
            "New Caledonia"
           ],
           "legendgroup": "Oceania",
           "marker": {
            "color": "#FF6692",
            "pattern": {
             "shape": ""
            }
           },
           "name": "Oceania",
           "offsetgroup": "Oceania",
           "orientation": "v",
           "showlegend": true,
           "textposition": "auto",
           "type": "bar",
           "x": [
            "New Caledonia"
           ],
           "xaxis": "x",
           "y": [
            46.144
           ],
           "yaxis": "y"
          },
          {
           "alignmentgroup": "True",
           "hovertemplate": "Continent_x=South America<br>Year=2020<br>Country=%{x}<br>Cyber Threat Rate=%{y}<extra></extra>",
           "ids": [
            "Uruguay"
           ],
           "legendgroup": "South America",
           "marker": {
            "color": "#B6E880",
            "pattern": {
             "shape": ""
            }
           },
           "name": "South America",
           "offsetgroup": "South America",
           "orientation": "v",
           "showlegend": true,
           "textposition": "auto",
           "type": "bar",
           "x": [
            "Uruguay"
           ],
           "xaxis": "x",
           "y": [
            33.928
           ],
           "yaxis": "y"
          }
         ],
         "name": "2020"
        },
        {
         "data": [
          {
           "alignmentgroup": "True",
           "hovertemplate": "Continent_x=Africa<br>Year=2021<br>Country=%{x}<br>Cyber Threat Rate=%{y}<extra></extra>",
           "ids": [
            "Djibouti",
            "South Africa"
           ],
           "legendgroup": "Africa",
           "marker": {
            "color": "#636efa",
            "pattern": {
             "shape": ""
            }
           },
           "name": "Africa",
           "offsetgroup": "Africa",
           "orientation": "v",
           "showlegend": true,
           "textposition": "auto",
           "type": "bar",
           "x": [
            "Djibouti",
            "South Africa"
           ],
           "xaxis": "x",
           "y": [
            77.034,
            49.864
           ],
           "yaxis": "y"
          },
          {
           "alignmentgroup": "True",
           "hovertemplate": "Continent_x=Asia<br>Year=2021<br>Country=%{x}<br>Cyber Threat Rate=%{y}<extra></extra>",
           "ids": [
            "Jordan"
           ],
           "legendgroup": "Asia",
           "marker": {
            "color": "#EF553B",
            "pattern": {
             "shape": ""
            }
           },
           "name": "Asia",
           "offsetgroup": "Asia",
           "orientation": "v",
           "showlegend": true,
           "textposition": "auto",
           "type": "bar",
           "x": [
            "Jordan"
           ],
           "xaxis": "x",
           "y": [
            40.28
           ],
           "yaxis": "y"
          },
          {
           "alignmentgroup": "True",
           "hovertemplate": "Continent_x=Europe<br>Year=2021<br>Country=%{x}<br>Cyber Threat Rate=%{y}<extra></extra>",
           "ids": [
            "North Macedonia"
           ],
           "legendgroup": "Europe",
           "marker": {
            "color": "#00cc96",
            "pattern": {
             "shape": ""
            }
           },
           "name": "Europe",
           "offsetgroup": "Europe",
           "orientation": "v",
           "showlegend": true,
           "textposition": "auto",
           "type": "bar",
           "x": [
            "North Macedonia"
           ],
           "xaxis": "x",
           "y": [
            36.147
           ],
           "yaxis": "y"
          },
          {
           "alignmentgroup": "True",
           "hovertemplate": "Continent_x=Global<br>Year=2021<br>Country=%{x}<br>Cyber Threat Rate=%{y}<extra></extra>",
           "ids": [
            "Other small states"
           ],
           "legendgroup": "Global",
           "marker": {
            "color": "#ab63fa",
            "pattern": {
             "shape": ""
            }
           },
           "name": "Global",
           "offsetgroup": "Global",
           "orientation": "v",
           "showlegend": true,
           "textposition": "auto",
           "type": "bar",
           "x": [
            "Other small states"
           ],
           "xaxis": "x",
           "y": [
            25.031147722925
           ],
           "yaxis": "y"
          },
          {
           "alignmentgroup": "True",
           "hovertemplate": "Continent_x=Middle East<br>Year=2021<br>Country=%{x}<br>Cyber Threat Rate=%{y}<extra></extra>",
           "ids": [
            "West Bank and Gaza"
           ],
           "legendgroup": "Middle East",
           "marker": {
            "color": "#FFA15A",
            "pattern": {
             "shape": ""
            }
           },
           "name": "Middle East",
           "offsetgroup": "Middle East",
           "orientation": "v",
           "showlegend": true,
           "textposition": "auto",
           "type": "bar",
           "x": [
            "West Bank and Gaza"
           ],
           "xaxis": "x",
           "y": [
            41.446
           ],
           "yaxis": "y"
          },
          {
           "alignmentgroup": "True",
           "hovertemplate": "Continent_x=North America<br>Year=2021<br>Country=%{x}<br>Cyber Threat Rate=%{y}<extra></extra>",
           "ids": [
            "St. Lucia"
           ],
           "legendgroup": "North America",
           "marker": {
            "color": "#19d3f3",
            "pattern": {
             "shape": ""
            }
           },
           "name": "North America",
           "offsetgroup": "North America",
           "orientation": "v",
           "showlegend": true,
           "textposition": "auto",
           "type": "bar",
           "x": [
            "St. Lucia"
           ],
           "xaxis": "x",
           "y": [
            43.569
           ],
           "yaxis": "y"
          },
          {
           "alignmentgroup": "True",
           "hovertemplate": "Continent_x=Oceania<br>Year=2021<br>Country=%{x}<br>Cyber Threat Rate=%{y}<extra></extra>",
           "ids": [
            "New Caledonia"
           ],
           "legendgroup": "Oceania",
           "marker": {
            "color": "#FF6692",
            "pattern": {
             "shape": ""
            }
           },
           "name": "Oceania",
           "offsetgroup": "Oceania",
           "orientation": "v",
           "showlegend": true,
           "textposition": "auto",
           "type": "bar",
           "x": [
            "New Caledonia"
           ],
           "xaxis": "x",
           "y": [
            38.191
           ],
           "yaxis": "y"
          },
          {
           "alignmentgroup": "True",
           "hovertemplate": "Continent_x=South America<br>Year=2021<br>Country=%{x}<br>Cyber Threat Rate=%{y}<extra></extra>",
           "ids": [
            "Uruguay"
           ],
           "legendgroup": "South America",
           "marker": {
            "color": "#B6E880",
            "pattern": {
             "shape": ""
            }
           },
           "name": "South America",
           "offsetgroup": "South America",
           "orientation": "v",
           "showlegend": true,
           "textposition": "auto",
           "type": "bar",
           "x": [
            "Uruguay"
           ],
           "xaxis": "x",
           "y": [
            31.674
           ],
           "yaxis": "y"
          }
         ],
         "name": "2021"
        },
        {
         "data": [
          {
           "alignmentgroup": "True",
           "hovertemplate": "Continent_x=Africa<br>Year=2022<br>Country=%{x}<br>Cyber Threat Rate=%{y}<extra></extra>",
           "ids": [
            "Djibouti",
            "South Africa"
           ],
           "legendgroup": "Africa",
           "marker": {
            "color": "#636efa",
            "pattern": {
             "shape": ""
            }
           },
           "name": "Africa",
           "offsetgroup": "Africa",
           "orientation": "v",
           "showlegend": true,
           "textposition": "auto",
           "type": "bar",
           "x": [
            "Djibouti",
            "South Africa"
           ],
           "xaxis": "x",
           "y": [
            77.194,
            51.519
           ],
           "yaxis": "y"
          },
          {
           "alignmentgroup": "True",
           "hovertemplate": "Continent_x=Asia<br>Year=2022<br>Country=%{x}<br>Cyber Threat Rate=%{y}<extra></extra>",
           "ids": [
            "Jordan"
           ],
           "legendgroup": "Asia",
           "marker": {
            "color": "#EF553B",
            "pattern": {
             "shape": ""
            }
           },
           "name": "Asia",
           "offsetgroup": "Asia",
           "orientation": "v",
           "showlegend": true,
           "textposition": "auto",
           "type": "bar",
           "x": [
            "Jordan"
           ],
           "xaxis": "x",
           "y": [
            39.424
           ],
           "yaxis": "y"
          },
          {
           "alignmentgroup": "True",
           "hovertemplate": "Continent_x=Europe<br>Year=2022<br>Country=%{x}<br>Cyber Threat Rate=%{y}<extra></extra>",
           "ids": [
            "North Macedonia"
           ],
           "legendgroup": "Europe",
           "marker": {
            "color": "#00cc96",
            "pattern": {
             "shape": ""
            }
           },
           "name": "Europe",
           "offsetgroup": "Europe",
           "orientation": "v",
           "showlegend": true,
           "textposition": "auto",
           "type": "bar",
           "x": [
            "North Macedonia"
           ],
           "xaxis": "x",
           "y": [
            34.905
           ],
           "yaxis": "y"
          },
          {
           "alignmentgroup": "True",
           "hovertemplate": "Continent_x=Global<br>Year=2022<br>Country=%{x}<br>Cyber Threat Rate=%{y}<extra></extra>",
           "ids": [
            "Other small states"
           ],
           "legendgroup": "Global",
           "marker": {
            "color": "#ab63fa",
            "pattern": {
             "shape": ""
            }
           },
           "name": "Global",
           "offsetgroup": "Global",
           "orientation": "v",
           "showlegend": true,
           "textposition": "auto",
           "type": "bar",
           "x": [
            "Other small states"
           ],
           "xaxis": "x",
           "y": [
            24.7866548210087
           ],
           "yaxis": "y"
          },
          {
           "alignmentgroup": "True",
           "hovertemplate": "Continent_x=Middle East<br>Year=2022<br>Country=%{x}<br>Cyber Threat Rate=%{y}<extra></extra>",
           "ids": [
            "West Bank and Gaza"
           ],
           "legendgroup": "Middle East",
           "marker": {
            "color": "#FFA15A",
            "pattern": {
             "shape": ""
            }
           },
           "name": "Middle East",
           "offsetgroup": "Middle East",
           "orientation": "v",
           "showlegend": true,
           "textposition": "auto",
           "type": "bar",
           "x": [
            "West Bank and Gaza"
           ],
           "xaxis": "x",
           "y": [
            40.721
           ],
           "yaxis": "y"
          },
          {
           "alignmentgroup": "True",
           "hovertemplate": "Continent_x=North America<br>Year=2022<br>Country=%{x}<br>Cyber Threat Rate=%{y}<extra></extra>",
           "ids": [
            "St. Lucia"
           ],
           "legendgroup": "North America",
           "marker": {
            "color": "#19d3f3",
            "pattern": {
             "shape": ""
            }
           },
           "name": "North America",
           "offsetgroup": "North America",
           "orientation": "v",
           "showlegend": true,
           "textposition": "auto",
           "type": "bar",
           "x": [
            "St. Lucia"
           ],
           "xaxis": "x",
           "y": [
            40.02
           ],
           "yaxis": "y"
          },
          {
           "alignmentgroup": "True",
           "hovertemplate": "Continent_x=Oceania<br>Year=2022<br>Country=%{x}<br>Cyber Threat Rate=%{y}<extra></extra>",
           "ids": [
            "New Caledonia"
           ],
           "legendgroup": "Oceania",
           "marker": {
            "color": "#FF6692",
            "pattern": {
             "shape": ""
            }
           },
           "name": "Oceania",
           "offsetgroup": "Oceania",
           "orientation": "v",
           "showlegend": true,
           "textposition": "auto",
           "type": "bar",
           "x": [
            "New Caledonia"
           ],
           "xaxis": "x",
           "y": [
            38.023
           ],
           "yaxis": "y"
          },
          {
           "alignmentgroup": "True",
           "hovertemplate": "Continent_x=South America<br>Year=2022<br>Country=%{x}<br>Cyber Threat Rate=%{y}<extra></extra>",
           "ids": [
            "Uruguay"
           ],
           "legendgroup": "South America",
           "marker": {
            "color": "#B6E880",
            "pattern": {
             "shape": ""
            }
           },
           "name": "South America",
           "offsetgroup": "South America",
           "orientation": "v",
           "showlegend": true,
           "textposition": "auto",
           "type": "bar",
           "x": [
            "Uruguay"
           ],
           "xaxis": "x",
           "y": [
            27.576
           ],
           "yaxis": "y"
          }
         ],
         "name": "2022"
        }
       ],
       "layout": {
        "barmode": "relative",
        "height": 550,
        "legend": {
         "title": {
          "text": "Continent_x"
         },
         "tracegroupgap": 0
        },
        "showlegend": true,
        "sliders": [
         {
          "active": 0,
          "currentvalue": {
           "prefix": "Year="
          },
          "len": 0.9,
          "pad": {
           "b": 10,
           "t": 60
          },
          "steps": [
           {
            "args": [
             [
              "2015"
             ],
             {
              "frame": {
               "duration": 0,
               "redraw": true
              },
              "fromcurrent": true,
              "mode": "immediate",
              "transition": {
               "duration": 0,
               "easing": "linear"
              }
             }
            ],
            "label": "2015",
            "method": "animate"
           },
           {
            "args": [
             [
              "2016"
             ],
             {
              "frame": {
               "duration": 0,
               "redraw": true
              },
              "fromcurrent": true,
              "mode": "immediate",
              "transition": {
               "duration": 0,
               "easing": "linear"
              }
             }
            ],
            "label": "2016",
            "method": "animate"
           },
           {
            "args": [
             [
              "2017"
             ],
             {
              "frame": {
               "duration": 0,
               "redraw": true
              },
              "fromcurrent": true,
              "mode": "immediate",
              "transition": {
               "duration": 0,
               "easing": "linear"
              }
             }
            ],
            "label": "2017",
            "method": "animate"
           },
           {
            "args": [
             [
              "2018"
             ],
             {
              "frame": {
               "duration": 0,
               "redraw": true
              },
              "fromcurrent": true,
              "mode": "immediate",
              "transition": {
               "duration": 0,
               "easing": "linear"
              }
             }
            ],
            "label": "2018",
            "method": "animate"
           },
           {
            "args": [
             [
              "2019"
             ],
             {
              "frame": {
               "duration": 0,
               "redraw": true
              },
              "fromcurrent": true,
              "mode": "immediate",
              "transition": {
               "duration": 0,
               "easing": "linear"
              }
             }
            ],
            "label": "2019",
            "method": "animate"
           },
           {
            "args": [
             [
              "2020"
             ],
             {
              "frame": {
               "duration": 0,
               "redraw": true
              },
              "fromcurrent": true,
              "mode": "immediate",
              "transition": {
               "duration": 0,
               "easing": "linear"
              }
             }
            ],
            "label": "2020",
            "method": "animate"
           },
           {
            "args": [
             [
              "2021"
             ],
             {
              "frame": {
               "duration": 0,
               "redraw": true
              },
              "fromcurrent": true,
              "mode": "immediate",
              "transition": {
               "duration": 0,
               "easing": "linear"
              }
             }
            ],
            "label": "2021",
            "method": "animate"
           },
           {
            "args": [
             [
              "2022"
             ],
             {
              "frame": {
               "duration": 0,
               "redraw": true
              },
              "fromcurrent": true,
              "mode": "immediate",
              "transition": {
               "duration": 0,
               "easing": "linear"
              }
             }
            ],
            "label": "2022",
            "method": "animate"
           }
          ],
          "x": 0.1,
          "xanchor": "left",
          "y": 0,
          "yanchor": "top"
         }
        ],
        "template": {
         "data": {
          "bar": [
           {
            "error_x": {
             "color": "#2a3f5f"
            },
            "error_y": {
             "color": "#2a3f5f"
            },
            "marker": {
             "line": {
              "color": "#E5ECF6",
              "width": 0.5
             },
             "pattern": {
              "fillmode": "overlay",
              "size": 10,
              "solidity": 0.2
             }
            },
            "type": "bar"
           }
          ],
          "barpolar": [
           {
            "marker": {
             "line": {
              "color": "#E5ECF6",
              "width": 0.5
             },
             "pattern": {
              "fillmode": "overlay",
              "size": 10,
              "solidity": 0.2
             }
            },
            "type": "barpolar"
           }
          ],
          "carpet": [
           {
            "aaxis": {
             "endlinecolor": "#2a3f5f",
             "gridcolor": "white",
             "linecolor": "white",
             "minorgridcolor": "white",
             "startlinecolor": "#2a3f5f"
            },
            "baxis": {
             "endlinecolor": "#2a3f5f",
             "gridcolor": "white",
             "linecolor": "white",
             "minorgridcolor": "white",
             "startlinecolor": "#2a3f5f"
            },
            "type": "carpet"
           }
          ],
          "choropleth": [
           {
            "colorbar": {
             "outlinewidth": 0,
             "ticks": ""
            },
            "type": "choropleth"
           }
          ],
          "contour": [
           {
            "colorbar": {
             "outlinewidth": 0,
             "ticks": ""
            },
            "colorscale": [
             [
              0,
              "#0d0887"
             ],
             [
              0.1111111111111111,
              "#46039f"
             ],
             [
              0.2222222222222222,
              "#7201a8"
             ],
             [
              0.3333333333333333,
              "#9c179e"
             ],
             [
              0.4444444444444444,
              "#bd3786"
             ],
             [
              0.5555555555555556,
              "#d8576b"
             ],
             [
              0.6666666666666666,
              "#ed7953"
             ],
             [
              0.7777777777777778,
              "#fb9f3a"
             ],
             [
              0.8888888888888888,
              "#fdca26"
             ],
             [
              1,
              "#f0f921"
             ]
            ],
            "type": "contour"
           }
          ],
          "contourcarpet": [
           {
            "colorbar": {
             "outlinewidth": 0,
             "ticks": ""
            },
            "type": "contourcarpet"
           }
          ],
          "heatmap": [
           {
            "colorbar": {
             "outlinewidth": 0,
             "ticks": ""
            },
            "colorscale": [
             [
              0,
              "#0d0887"
             ],
             [
              0.1111111111111111,
              "#46039f"
             ],
             [
              0.2222222222222222,
              "#7201a8"
             ],
             [
              0.3333333333333333,
              "#9c179e"
             ],
             [
              0.4444444444444444,
              "#bd3786"
             ],
             [
              0.5555555555555556,
              "#d8576b"
             ],
             [
              0.6666666666666666,
              "#ed7953"
             ],
             [
              0.7777777777777778,
              "#fb9f3a"
             ],
             [
              0.8888888888888888,
              "#fdca26"
             ],
             [
              1,
              "#f0f921"
             ]
            ],
            "type": "heatmap"
           }
          ],
          "heatmapgl": [
           {
            "colorbar": {
             "outlinewidth": 0,
             "ticks": ""
            },
            "colorscale": [
             [
              0,
              "#0d0887"
             ],
             [
              0.1111111111111111,
              "#46039f"
             ],
             [
              0.2222222222222222,
              "#7201a8"
             ],
             [
              0.3333333333333333,
              "#9c179e"
             ],
             [
              0.4444444444444444,
              "#bd3786"
             ],
             [
              0.5555555555555556,
              "#d8576b"
             ],
             [
              0.6666666666666666,
              "#ed7953"
             ],
             [
              0.7777777777777778,
              "#fb9f3a"
             ],
             [
              0.8888888888888888,
              "#fdca26"
             ],
             [
              1,
              "#f0f921"
             ]
            ],
            "type": "heatmapgl"
           }
          ],
          "histogram": [
           {
            "marker": {
             "pattern": {
              "fillmode": "overlay",
              "size": 10,
              "solidity": 0.2
             }
            },
            "type": "histogram"
           }
          ],
          "histogram2d": [
           {
            "colorbar": {
             "outlinewidth": 0,
             "ticks": ""
            },
            "colorscale": [
             [
              0,
              "#0d0887"
             ],
             [
              0.1111111111111111,
              "#46039f"
             ],
             [
              0.2222222222222222,
              "#7201a8"
             ],
             [
              0.3333333333333333,
              "#9c179e"
             ],
             [
              0.4444444444444444,
              "#bd3786"
             ],
             [
              0.5555555555555556,
              "#d8576b"
             ],
             [
              0.6666666666666666,
              "#ed7953"
             ],
             [
              0.7777777777777778,
              "#fb9f3a"
             ],
             [
              0.8888888888888888,
              "#fdca26"
             ],
             [
              1,
              "#f0f921"
             ]
            ],
            "type": "histogram2d"
           }
          ],
          "histogram2dcontour": [
           {
            "colorbar": {
             "outlinewidth": 0,
             "ticks": ""
            },
            "colorscale": [
             [
              0,
              "#0d0887"
             ],
             [
              0.1111111111111111,
              "#46039f"
             ],
             [
              0.2222222222222222,
              "#7201a8"
             ],
             [
              0.3333333333333333,
              "#9c179e"
             ],
             [
              0.4444444444444444,
              "#bd3786"
             ],
             [
              0.5555555555555556,
              "#d8576b"
             ],
             [
              0.6666666666666666,
              "#ed7953"
             ],
             [
              0.7777777777777778,
              "#fb9f3a"
             ],
             [
              0.8888888888888888,
              "#fdca26"
             ],
             [
              1,
              "#f0f921"
             ]
            ],
            "type": "histogram2dcontour"
           }
          ],
          "mesh3d": [
           {
            "colorbar": {
             "outlinewidth": 0,
             "ticks": ""
            },
            "type": "mesh3d"
           }
          ],
          "parcoords": [
           {
            "line": {
             "colorbar": {
              "outlinewidth": 0,
              "ticks": ""
             }
            },
            "type": "parcoords"
           }
          ],
          "pie": [
           {
            "automargin": true,
            "type": "pie"
           }
          ],
          "scatter": [
           {
            "fillpattern": {
             "fillmode": "overlay",
             "size": 10,
             "solidity": 0.2
            },
            "type": "scatter"
           }
          ],
          "scatter3d": [
           {
            "line": {
             "colorbar": {
              "outlinewidth": 0,
              "ticks": ""
             }
            },
            "marker": {
             "colorbar": {
              "outlinewidth": 0,
              "ticks": ""
             }
            },
            "type": "scatter3d"
           }
          ],
          "scattercarpet": [
           {
            "marker": {
             "colorbar": {
              "outlinewidth": 0,
              "ticks": ""
             }
            },
            "type": "scattercarpet"
           }
          ],
          "scattergeo": [
           {
            "marker": {
             "colorbar": {
              "outlinewidth": 0,
              "ticks": ""
             }
            },
            "type": "scattergeo"
           }
          ],
          "scattergl": [
           {
            "marker": {
             "colorbar": {
              "outlinewidth": 0,
              "ticks": ""
             }
            },
            "type": "scattergl"
           }
          ],
          "scattermapbox": [
           {
            "marker": {
             "colorbar": {
              "outlinewidth": 0,
              "ticks": ""
             }
            },
            "type": "scattermapbox"
           }
          ],
          "scatterpolar": [
           {
            "marker": {
             "colorbar": {
              "outlinewidth": 0,
              "ticks": ""
             }
            },
            "type": "scatterpolar"
           }
          ],
          "scatterpolargl": [
           {
            "marker": {
             "colorbar": {
              "outlinewidth": 0,
              "ticks": ""
             }
            },
            "type": "scatterpolargl"
           }
          ],
          "scatterternary": [
           {
            "marker": {
             "colorbar": {
              "outlinewidth": 0,
              "ticks": ""
             }
            },
            "type": "scatterternary"
           }
          ],
          "surface": [
           {
            "colorbar": {
             "outlinewidth": 0,
             "ticks": ""
            },
            "colorscale": [
             [
              0,
              "#0d0887"
             ],
             [
              0.1111111111111111,
              "#46039f"
             ],
             [
              0.2222222222222222,
              "#7201a8"
             ],
             [
              0.3333333333333333,
              "#9c179e"
             ],
             [
              0.4444444444444444,
              "#bd3786"
             ],
             [
              0.5555555555555556,
              "#d8576b"
             ],
             [
              0.6666666666666666,
              "#ed7953"
             ],
             [
              0.7777777777777778,
              "#fb9f3a"
             ],
             [
              0.8888888888888888,
              "#fdca26"
             ],
             [
              1,
              "#f0f921"
             ]
            ],
            "type": "surface"
           }
          ],
          "table": [
           {
            "cells": {
             "fill": {
              "color": "#EBF0F8"
             },
             "line": {
              "color": "white"
             }
            },
            "header": {
             "fill": {
              "color": "#C8D4E3"
             },
             "line": {
              "color": "white"
             }
            },
            "type": "table"
           }
          ]
         },
         "layout": {
          "annotationdefaults": {
           "arrowcolor": "#2a3f5f",
           "arrowhead": 0,
           "arrowwidth": 1
          },
          "autotypenumbers": "strict",
          "coloraxis": {
           "colorbar": {
            "outlinewidth": 0,
            "ticks": ""
           }
          },
          "colorscale": {
           "diverging": [
            [
             0,
             "#8e0152"
            ],
            [
             0.1,
             "#c51b7d"
            ],
            [
             0.2,
             "#de77ae"
            ],
            [
             0.3,
             "#f1b6da"
            ],
            [
             0.4,
             "#fde0ef"
            ],
            [
             0.5,
             "#f7f7f7"
            ],
            [
             0.6,
             "#e6f5d0"
            ],
            [
             0.7,
             "#b8e186"
            ],
            [
             0.8,
             "#7fbc41"
            ],
            [
             0.9,
             "#4d9221"
            ],
            [
             1,
             "#276419"
            ]
           ],
           "sequential": [
            [
             0,
             "#0d0887"
            ],
            [
             0.1111111111111111,
             "#46039f"
            ],
            [
             0.2222222222222222,
             "#7201a8"
            ],
            [
             0.3333333333333333,
             "#9c179e"
            ],
            [
             0.4444444444444444,
             "#bd3786"
            ],
            [
             0.5555555555555556,
             "#d8576b"
            ],
            [
             0.6666666666666666,
             "#ed7953"
            ],
            [
             0.7777777777777778,
             "#fb9f3a"
            ],
            [
             0.8888888888888888,
             "#fdca26"
            ],
            [
             1,
             "#f0f921"
            ]
           ],
           "sequentialminus": [
            [
             0,
             "#0d0887"
            ],
            [
             0.1111111111111111,
             "#46039f"
            ],
            [
             0.2222222222222222,
             "#7201a8"
            ],
            [
             0.3333333333333333,
             "#9c179e"
            ],
            [
             0.4444444444444444,
             "#bd3786"
            ],
            [
             0.5555555555555556,
             "#d8576b"
            ],
            [
             0.6666666666666666,
             "#ed7953"
            ],
            [
             0.7777777777777778,
             "#fb9f3a"
            ],
            [
             0.8888888888888888,
             "#fdca26"
            ],
            [
             1,
             "#f0f921"
            ]
           ]
          },
          "colorway": [
           "#636efa",
           "#EF553B",
           "#00cc96",
           "#ab63fa",
           "#FFA15A",
           "#19d3f3",
           "#FF6692",
           "#B6E880",
           "#FF97FF",
           "#FECB52"
          ],
          "font": {
           "color": "#2a3f5f"
          },
          "geo": {
           "bgcolor": "white",
           "lakecolor": "white",
           "landcolor": "#E5ECF6",
           "showlakes": true,
           "showland": true,
           "subunitcolor": "white"
          },
          "hoverlabel": {
           "align": "left"
          },
          "hovermode": "closest",
          "mapbox": {
           "style": "light"
          },
          "paper_bgcolor": "white",
          "plot_bgcolor": "#E5ECF6",
          "polar": {
           "angularaxis": {
            "gridcolor": "white",
            "linecolor": "white",
            "ticks": ""
           },
           "bgcolor": "#E5ECF6",
           "radialaxis": {
            "gridcolor": "white",
            "linecolor": "white",
            "ticks": ""
           }
          },
          "scene": {
           "xaxis": {
            "backgroundcolor": "#E5ECF6",
            "gridcolor": "white",
            "gridwidth": 2,
            "linecolor": "white",
            "showbackground": true,
            "ticks": "",
            "zerolinecolor": "white"
           },
           "yaxis": {
            "backgroundcolor": "#E5ECF6",
            "gridcolor": "white",
            "gridwidth": 2,
            "linecolor": "white",
            "showbackground": true,
            "ticks": "",
            "zerolinecolor": "white"
           },
           "zaxis": {
            "backgroundcolor": "#E5ECF6",
            "gridcolor": "white",
            "gridwidth": 2,
            "linecolor": "white",
            "showbackground": true,
            "ticks": "",
            "zerolinecolor": "white"
           }
          },
          "shapedefaults": {
           "line": {
            "color": "#2a3f5f"
           }
          },
          "ternary": {
           "aaxis": {
            "gridcolor": "white",
            "linecolor": "white",
            "ticks": ""
           },
           "baxis": {
            "gridcolor": "white",
            "linecolor": "white",
            "ticks": ""
           },
           "bgcolor": "#E5ECF6",
           "caxis": {
            "gridcolor": "white",
            "linecolor": "white",
            "ticks": ""
           }
          },
          "title": {
           "x": 0.05
          },
          "xaxis": {
           "automargin": true,
           "gridcolor": "white",
           "linecolor": "white",
           "ticks": "",
           "title": {
            "standoff": 15
           },
           "zerolinecolor": "white",
           "zerolinewidth": 2
          },
          "yaxis": {
           "automargin": true,
           "gridcolor": "white",
           "linecolor": "white",
           "ticks": "",
           "title": {
            "standoff": 15
           },
           "zerolinecolor": "white",
           "zerolinewidth": 2
          }
         }
        },
        "title": {
         "font": {
          "family": "Arial",
          "size": 24
         },
         "text": "Highest Cyber Threat Rate Country by Continent (2015-2022)"
        },
        "updatemenus": [
         {
          "buttons": [
           {
            "args": [
             null,
             {
              "frame": {
               "duration": 500,
               "redraw": true
              },
              "fromcurrent": true,
              "mode": "immediate",
              "transition": {
               "duration": 500,
               "easing": "linear"
              }
             }
            ],
            "label": "&#9654;",
            "method": "animate"
           },
           {
            "args": [
             [
              null
             ],
             {
              "frame": {
               "duration": 0,
               "redraw": true
              },
              "fromcurrent": true,
              "mode": "immediate",
              "transition": {
               "duration": 0,
               "easing": "linear"
              }
             }
            ],
            "label": "&#9724;",
            "method": "animate"
           }
          ],
          "direction": "left",
          "pad": {
           "r": 10,
           "t": 70
          },
          "showactive": false,
          "type": "buttons",
          "x": 0.1,
          "xanchor": "right",
          "y": 0,
          "yanchor": "top"
         }
        ],
        "width": 1250,
        "xaxis": {
         "anchor": "y",
         "domain": [
          0,
          1
         ],
         "title": {
          "text": "Country"
         }
        },
        "yaxis": {
         "anchor": "x",
         "domain": [
          0,
          1
         ],
         "title": {
          "text": "Cyber Threat Rate"
         }
        }
       }
      }
     },
     "metadata": {},
     "output_type": "display_data"
    }
   ],
   "source": [
    "# Define the file path for the dataset\n",
    "file_path = 'Cyber_Threat_Rate.csv'\n",
    "\n",
    "# Read the data from the CSV file\n",
    "data = pd.read_csv(file_path)\n",
    "\n",
    "# Transform the DataFrame to long format\n",
    "data_long = pd.melt(data, id_vars=['Country Code', 'Country Name_x', 'Continent_x'],\n",
    "                    var_name='Year', value_name='Cyber Threat Rate')\n",
    "\n",
    "# Ensure 'Year' is a string\n",
    "data_long['Year'] = data_long['Year'].astype(str)\n",
    "\n",
    "# Filter the data to include only from 2015 to 2022\n",
    "data_long_filtered = data_long[(data_long['Year'].astype(int) >= 2015) & (data_long['Year'].astype(int) <= 2022)]\n",
    "\n",
    "# Function to get the highest Cyber Threat Rate per continent per year, including South Africa\n",
    "def get_highest_country_per_continent(df):\n",
    "    # Get the highest country from each continent\n",
    "    highest_countries = df.loc[df.groupby(['Year', 'Continent_x'])['Cyber Threat Rate'].idxmax()]\n",
    "\n",
    "    # Ensure South Africa is included in the results\n",
    "    sa_data = df[df['Country Name_x'] == 'South Africa']\n",
    "    sa_data = sa_data[sa_data['Year'].isin(highest_countries['Year'])]\n",
    "    \n",
    "    # Combine the two datasets\n",
    "    combined_data = pd.concat([highest_countries, sa_data]).drop_duplicates()\n",
    "    return combined_data\n",
    "\n",
    "# Get the highest country from each continent per year, including South Africa\n",
    "highest_countries = get_highest_country_per_continent(data_long_filtered)\n",
    "\n",
    "# Create the animated bar plot\n",
    "fig2 = px.bar(\n",
    "    highest_countries,\n",
    "    x='Country Name_x',  # X-axis represents the countries\n",
    "    y='Cyber Threat Rate',  # Y-axis represents cyber threat rates\n",
    "    color='Continent_x',  # Different colors for different continents\n",
    "    animation_frame='Year',  # Animation over the years\n",
    "    animation_group='Country Name_x',  # Group animation by country\n",
    "    title='Highest Cyber Threat Rate Country by Continent (2015-2022)',\n",
    "    labels={'Country Name_x': 'Country', 'Cyber Threat Rate': 'Cyber Threat Rate'},\n",
    ")\n",
    "\n",
    "# Customize layout with specified height and width\n",
    "fig2.update_layout(\n",
    "    xaxis_title='Country',\n",
    "    yaxis_title='Cyber Threat Rate',\n",
    "    title_font_size=24,\n",
    "    title_font_family='Arial',\n",
    "    showlegend=True,  # Show legend to differentiate continents\n",
    "    width=1250,  # Set the width of the plot\n",
    "    height=550   # Set the height of the plot\n",
    ")\n",
    "\n",
    "# Show the plot\n",
    "fig2.show()\n"
   ]
  },
  {
   "cell_type": "code",
   "execution_count": 8,
   "metadata": {},
   "outputs": [
    {
     "data": {
      "application/vnd.plotly.v1+json": {
       "config": {
        "plotlyServerURL": "https://plot.ly"
       },
       "data": [
        {
         "marker": {
          "color": "orange"
         },
         "name": "Total Loss ($)",
         "type": "bar",
         "x": [
          "Investment fraud",
          "Tech support scam",
          "Confidence or romance fraud",
          "Online payment fraud",
          "Credit card fraud",
          "Government impersonation",
          "Identity theft",
          "Spoofing",
          "Lottery scam",
          "SIM swapping",
          "Extortion",
          "Phishing",
          "Ransomware attack",
          "Denial of service attack",
          "Online harassment",
          "Malware attack"
         ],
         "y": [
          3300000000,
          806600000,
          735900000,
          386100000,
          264100000.00000003,
          240600000,
          189200000,
          107900000,
          83600000,
          72700000,
          54300000,
          52100000,
          34400000,
          17100000,
          10600000,
          9300000
         ],
         "yaxis": "y"
        },
        {
         "marker": {
          "color": "blue"
         },
         "name": "Number of Victims",
         "type": "bar",
         "x": [
          "Investment fraud",
          "Tech support scam",
          "Confidence or romance fraud",
          "Online payment fraud",
          "Credit card fraud",
          "Government impersonation",
          "Identity theft",
          "Spoofing",
          "Lottery scam",
          "SIM swapping",
          "Extortion",
          "Phishing",
          "Ransomware attack",
          "Denial of service attack",
          "Online harassment",
          "Malware attack"
         ],
         "y": [
          30500,
          32500,
          19000,
          62900,
          23000,
          11600,
          27900,
          20600,
          5700,
          2000,
          39400,
          300500,
          2400,
          568,
          14000,
          762
         ],
         "yaxis": "y2"
        }
       ],
       "layout": {
        "barmode": "stack",
        "height": 550,
        "template": {
         "data": {
          "bar": [
           {
            "error_x": {
             "color": "#2a3f5f"
            },
            "error_y": {
             "color": "#2a3f5f"
            },
            "marker": {
             "line": {
              "color": "#E5ECF6",
              "width": 0.5
             },
             "pattern": {
              "fillmode": "overlay",
              "size": 10,
              "solidity": 0.2
             }
            },
            "type": "bar"
           }
          ],
          "barpolar": [
           {
            "marker": {
             "line": {
              "color": "#E5ECF6",
              "width": 0.5
             },
             "pattern": {
              "fillmode": "overlay",
              "size": 10,
              "solidity": 0.2
             }
            },
            "type": "barpolar"
           }
          ],
          "carpet": [
           {
            "aaxis": {
             "endlinecolor": "#2a3f5f",
             "gridcolor": "white",
             "linecolor": "white",
             "minorgridcolor": "white",
             "startlinecolor": "#2a3f5f"
            },
            "baxis": {
             "endlinecolor": "#2a3f5f",
             "gridcolor": "white",
             "linecolor": "white",
             "minorgridcolor": "white",
             "startlinecolor": "#2a3f5f"
            },
            "type": "carpet"
           }
          ],
          "choropleth": [
           {
            "colorbar": {
             "outlinewidth": 0,
             "ticks": ""
            },
            "type": "choropleth"
           }
          ],
          "contour": [
           {
            "colorbar": {
             "outlinewidth": 0,
             "ticks": ""
            },
            "colorscale": [
             [
              0,
              "#0d0887"
             ],
             [
              0.1111111111111111,
              "#46039f"
             ],
             [
              0.2222222222222222,
              "#7201a8"
             ],
             [
              0.3333333333333333,
              "#9c179e"
             ],
             [
              0.4444444444444444,
              "#bd3786"
             ],
             [
              0.5555555555555556,
              "#d8576b"
             ],
             [
              0.6666666666666666,
              "#ed7953"
             ],
             [
              0.7777777777777778,
              "#fb9f3a"
             ],
             [
              0.8888888888888888,
              "#fdca26"
             ],
             [
              1,
              "#f0f921"
             ]
            ],
            "type": "contour"
           }
          ],
          "contourcarpet": [
           {
            "colorbar": {
             "outlinewidth": 0,
             "ticks": ""
            },
            "type": "contourcarpet"
           }
          ],
          "heatmap": [
           {
            "colorbar": {
             "outlinewidth": 0,
             "ticks": ""
            },
            "colorscale": [
             [
              0,
              "#0d0887"
             ],
             [
              0.1111111111111111,
              "#46039f"
             ],
             [
              0.2222222222222222,
              "#7201a8"
             ],
             [
              0.3333333333333333,
              "#9c179e"
             ],
             [
              0.4444444444444444,
              "#bd3786"
             ],
             [
              0.5555555555555556,
              "#d8576b"
             ],
             [
              0.6666666666666666,
              "#ed7953"
             ],
             [
              0.7777777777777778,
              "#fb9f3a"
             ],
             [
              0.8888888888888888,
              "#fdca26"
             ],
             [
              1,
              "#f0f921"
             ]
            ],
            "type": "heatmap"
           }
          ],
          "heatmapgl": [
           {
            "colorbar": {
             "outlinewidth": 0,
             "ticks": ""
            },
            "colorscale": [
             [
              0,
              "#0d0887"
             ],
             [
              0.1111111111111111,
              "#46039f"
             ],
             [
              0.2222222222222222,
              "#7201a8"
             ],
             [
              0.3333333333333333,
              "#9c179e"
             ],
             [
              0.4444444444444444,
              "#bd3786"
             ],
             [
              0.5555555555555556,
              "#d8576b"
             ],
             [
              0.6666666666666666,
              "#ed7953"
             ],
             [
              0.7777777777777778,
              "#fb9f3a"
             ],
             [
              0.8888888888888888,
              "#fdca26"
             ],
             [
              1,
              "#f0f921"
             ]
            ],
            "type": "heatmapgl"
           }
          ],
          "histogram": [
           {
            "marker": {
             "pattern": {
              "fillmode": "overlay",
              "size": 10,
              "solidity": 0.2
             }
            },
            "type": "histogram"
           }
          ],
          "histogram2d": [
           {
            "colorbar": {
             "outlinewidth": 0,
             "ticks": ""
            },
            "colorscale": [
             [
              0,
              "#0d0887"
             ],
             [
              0.1111111111111111,
              "#46039f"
             ],
             [
              0.2222222222222222,
              "#7201a8"
             ],
             [
              0.3333333333333333,
              "#9c179e"
             ],
             [
              0.4444444444444444,
              "#bd3786"
             ],
             [
              0.5555555555555556,
              "#d8576b"
             ],
             [
              0.6666666666666666,
              "#ed7953"
             ],
             [
              0.7777777777777778,
              "#fb9f3a"
             ],
             [
              0.8888888888888888,
              "#fdca26"
             ],
             [
              1,
              "#f0f921"
             ]
            ],
            "type": "histogram2d"
           }
          ],
          "histogram2dcontour": [
           {
            "colorbar": {
             "outlinewidth": 0,
             "ticks": ""
            },
            "colorscale": [
             [
              0,
              "#0d0887"
             ],
             [
              0.1111111111111111,
              "#46039f"
             ],
             [
              0.2222222222222222,
              "#7201a8"
             ],
             [
              0.3333333333333333,
              "#9c179e"
             ],
             [
              0.4444444444444444,
              "#bd3786"
             ],
             [
              0.5555555555555556,
              "#d8576b"
             ],
             [
              0.6666666666666666,
              "#ed7953"
             ],
             [
              0.7777777777777778,
              "#fb9f3a"
             ],
             [
              0.8888888888888888,
              "#fdca26"
             ],
             [
              1,
              "#f0f921"
             ]
            ],
            "type": "histogram2dcontour"
           }
          ],
          "mesh3d": [
           {
            "colorbar": {
             "outlinewidth": 0,
             "ticks": ""
            },
            "type": "mesh3d"
           }
          ],
          "parcoords": [
           {
            "line": {
             "colorbar": {
              "outlinewidth": 0,
              "ticks": ""
             }
            },
            "type": "parcoords"
           }
          ],
          "pie": [
           {
            "automargin": true,
            "type": "pie"
           }
          ],
          "scatter": [
           {
            "fillpattern": {
             "fillmode": "overlay",
             "size": 10,
             "solidity": 0.2
            },
            "type": "scatter"
           }
          ],
          "scatter3d": [
           {
            "line": {
             "colorbar": {
              "outlinewidth": 0,
              "ticks": ""
             }
            },
            "marker": {
             "colorbar": {
              "outlinewidth": 0,
              "ticks": ""
             }
            },
            "type": "scatter3d"
           }
          ],
          "scattercarpet": [
           {
            "marker": {
             "colorbar": {
              "outlinewidth": 0,
              "ticks": ""
             }
            },
            "type": "scattercarpet"
           }
          ],
          "scattergeo": [
           {
            "marker": {
             "colorbar": {
              "outlinewidth": 0,
              "ticks": ""
             }
            },
            "type": "scattergeo"
           }
          ],
          "scattergl": [
           {
            "marker": {
             "colorbar": {
              "outlinewidth": 0,
              "ticks": ""
             }
            },
            "type": "scattergl"
           }
          ],
          "scattermapbox": [
           {
            "marker": {
             "colorbar": {
              "outlinewidth": 0,
              "ticks": ""
             }
            },
            "type": "scattermapbox"
           }
          ],
          "scatterpolar": [
           {
            "marker": {
             "colorbar": {
              "outlinewidth": 0,
              "ticks": ""
             }
            },
            "type": "scatterpolar"
           }
          ],
          "scatterpolargl": [
           {
            "marker": {
             "colorbar": {
              "outlinewidth": 0,
              "ticks": ""
             }
            },
            "type": "scatterpolargl"
           }
          ],
          "scatterternary": [
           {
            "marker": {
             "colorbar": {
              "outlinewidth": 0,
              "ticks": ""
             }
            },
            "type": "scatterternary"
           }
          ],
          "surface": [
           {
            "colorbar": {
             "outlinewidth": 0,
             "ticks": ""
            },
            "colorscale": [
             [
              0,
              "#0d0887"
             ],
             [
              0.1111111111111111,
              "#46039f"
             ],
             [
              0.2222222222222222,
              "#7201a8"
             ],
             [
              0.3333333333333333,
              "#9c179e"
             ],
             [
              0.4444444444444444,
              "#bd3786"
             ],
             [
              0.5555555555555556,
              "#d8576b"
             ],
             [
              0.6666666666666666,
              "#ed7953"
             ],
             [
              0.7777777777777778,
              "#fb9f3a"
             ],
             [
              0.8888888888888888,
              "#fdca26"
             ],
             [
              1,
              "#f0f921"
             ]
            ],
            "type": "surface"
           }
          ],
          "table": [
           {
            "cells": {
             "fill": {
              "color": "#EBF0F8"
             },
             "line": {
              "color": "white"
             }
            },
            "header": {
             "fill": {
              "color": "#C8D4E3"
             },
             "line": {
              "color": "white"
             }
            },
            "type": "table"
           }
          ]
         },
         "layout": {
          "annotationdefaults": {
           "arrowcolor": "#2a3f5f",
           "arrowhead": 0,
           "arrowwidth": 1
          },
          "autotypenumbers": "strict",
          "coloraxis": {
           "colorbar": {
            "outlinewidth": 0,
            "ticks": ""
           }
          },
          "colorscale": {
           "diverging": [
            [
             0,
             "#8e0152"
            ],
            [
             0.1,
             "#c51b7d"
            ],
            [
             0.2,
             "#de77ae"
            ],
            [
             0.3,
             "#f1b6da"
            ],
            [
             0.4,
             "#fde0ef"
            ],
            [
             0.5,
             "#f7f7f7"
            ],
            [
             0.6,
             "#e6f5d0"
            ],
            [
             0.7,
             "#b8e186"
            ],
            [
             0.8,
             "#7fbc41"
            ],
            [
             0.9,
             "#4d9221"
            ],
            [
             1,
             "#276419"
            ]
           ],
           "sequential": [
            [
             0,
             "#0d0887"
            ],
            [
             0.1111111111111111,
             "#46039f"
            ],
            [
             0.2222222222222222,
             "#7201a8"
            ],
            [
             0.3333333333333333,
             "#9c179e"
            ],
            [
             0.4444444444444444,
             "#bd3786"
            ],
            [
             0.5555555555555556,
             "#d8576b"
            ],
            [
             0.6666666666666666,
             "#ed7953"
            ],
            [
             0.7777777777777778,
             "#fb9f3a"
            ],
            [
             0.8888888888888888,
             "#fdca26"
            ],
            [
             1,
             "#f0f921"
            ]
           ],
           "sequentialminus": [
            [
             0,
             "#0d0887"
            ],
            [
             0.1111111111111111,
             "#46039f"
            ],
            [
             0.2222222222222222,
             "#7201a8"
            ],
            [
             0.3333333333333333,
             "#9c179e"
            ],
            [
             0.4444444444444444,
             "#bd3786"
            ],
            [
             0.5555555555555556,
             "#d8576b"
            ],
            [
             0.6666666666666666,
             "#ed7953"
            ],
            [
             0.7777777777777778,
             "#fb9f3a"
            ],
            [
             0.8888888888888888,
             "#fdca26"
            ],
            [
             1,
             "#f0f921"
            ]
           ]
          },
          "colorway": [
           "#636efa",
           "#EF553B",
           "#00cc96",
           "#ab63fa",
           "#FFA15A",
           "#19d3f3",
           "#FF6692",
           "#B6E880",
           "#FF97FF",
           "#FECB52"
          ],
          "font": {
           "color": "#2a3f5f"
          },
          "geo": {
           "bgcolor": "white",
           "lakecolor": "white",
           "landcolor": "#E5ECF6",
           "showlakes": true,
           "showland": true,
           "subunitcolor": "white"
          },
          "hoverlabel": {
           "align": "left"
          },
          "hovermode": "closest",
          "mapbox": {
           "style": "light"
          },
          "paper_bgcolor": "white",
          "plot_bgcolor": "#E5ECF6",
          "polar": {
           "angularaxis": {
            "gridcolor": "white",
            "linecolor": "white",
            "ticks": ""
           },
           "bgcolor": "#E5ECF6",
           "radialaxis": {
            "gridcolor": "white",
            "linecolor": "white",
            "ticks": ""
           }
          },
          "scene": {
           "xaxis": {
            "backgroundcolor": "#E5ECF6",
            "gridcolor": "white",
            "gridwidth": 2,
            "linecolor": "white",
            "showbackground": true,
            "ticks": "",
            "zerolinecolor": "white"
           },
           "yaxis": {
            "backgroundcolor": "#E5ECF6",
            "gridcolor": "white",
            "gridwidth": 2,
            "linecolor": "white",
            "showbackground": true,
            "ticks": "",
            "zerolinecolor": "white"
           },
           "zaxis": {
            "backgroundcolor": "#E5ECF6",
            "gridcolor": "white",
            "gridwidth": 2,
            "linecolor": "white",
            "showbackground": true,
            "ticks": "",
            "zerolinecolor": "white"
           }
          },
          "shapedefaults": {
           "line": {
            "color": "#2a3f5f"
           }
          },
          "ternary": {
           "aaxis": {
            "gridcolor": "white",
            "linecolor": "white",
            "ticks": ""
           },
           "baxis": {
            "gridcolor": "white",
            "linecolor": "white",
            "ticks": ""
           },
           "bgcolor": "#E5ECF6",
           "caxis": {
            "gridcolor": "white",
            "linecolor": "white",
            "ticks": ""
           }
          },
          "title": {
           "x": 0.05
          },
          "xaxis": {
           "automargin": true,
           "gridcolor": "white",
           "linecolor": "white",
           "ticks": "",
           "title": {
            "standoff": 15
           },
           "zerolinecolor": "white",
           "zerolinewidth": 2
          },
          "yaxis": {
           "automargin": true,
           "gridcolor": "white",
           "linecolor": "white",
           "ticks": "",
           "title": {
            "standoff": 15
           },
           "zerolinecolor": "white",
           "zerolinewidth": 2
          }
         }
        },
        "title": {
         "text": "Cyber Crime Impact 2023: Total Loss vs. Number of Victims"
        },
        "width": 1250,
        "xaxis": {
         "title": {
          "text": "Cyber Crime Type"
         }
        },
        "yaxis": {
         "tickfont": {
          "color": "orange"
         },
         "title": {
          "font": {
           "color": "orange"
          },
          "text": "Total Loss ($)"
         }
        },
        "yaxis2": {
         "overlaying": "y",
         "side": "right",
         "tickfont": {
          "color": "blue"
         },
         "title": {
          "font": {
           "color": "blue"
          },
          "text": "Number of Victims"
         }
        }
       }
      }
     },
     "metadata": {},
     "output_type": "display_data"
    }
   ],
   "source": [
    "import pandas as pd\n",
    "import plotly.graph_objects as go\n",
    "\n",
    "# Load the data from the CSV file\n",
    "df = pd.read_csv('cybercrime_impact.csv')\n",
    "\n",
    "# Convert Loss to numerical values for plotting (in dollars)\n",
    "def convert_loss_to_numeric(loss_str):\n",
    "    if 'B' in loss_str:\n",
    "        return float(loss_str.replace('B', '').replace(',', '').strip()) * 1e9  # Convert to dollars\n",
    "    elif 'M' in loss_str:\n",
    "        return float(loss_str.replace('M', '').replace(',', '').strip()) * 1e6  # Convert to dollars\n",
    "    else:\n",
    "        return float(loss_str.replace(',', '').strip())\n",
    "\n",
    "# Apply the conversion to the Loss column\n",
    "df['Loss (Dollars)'] = df['Loss'].apply(convert_loss_to_numeric)\n",
    "\n",
    "# Create the figure\n",
    "fig4 = go.Figure()\n",
    "\n",
    "# Add the 'Loss' data to the figure\n",
    "fig4.add_trace(go.Bar(\n",
    "    x=df['Cyber crime type'],\n",
    "    y=df['Loss (Dollars)'],\n",
    "    name='Total Loss ($)',\n",
    "    marker_color='orange',\n",
    "    yaxis='y1'\n",
    "))\n",
    "\n",
    "# Add the 'Victims' data to the figure\n",
    "fig4.add_trace(go.Bar(\n",
    "    x=df['Cyber crime type'],\n",
    "    y=df['Victims'],\n",
    "    name='Number of Victims',\n",
    "    marker_color='blue',\n",
    "    yaxis='y2'\n",
    "))\n",
    "\n",
    "# Create axes\n",
    "fig4.update_layout(\n",
    "    title='Cyber Crime Impact 2023: Total Loss vs. Number of Victims',\n",
    "    xaxis_title='Cyber Crime Type',\n",
    "    yaxis_title='Total Loss ($)',\n",
    "    yaxis=dict(\n",
    "        title='Total Loss ($)',\n",
    "        titlefont=dict(color='orange'),\n",
    "        tickfont=dict(color='orange'),\n",
    "    ),\n",
    "    yaxis2=dict(\n",
    "        title='Number of Victims',\n",
    "        titlefont=dict(color='blue'),\n",
    "        tickfont=dict(color='blue'),\n",
    "        overlaying='y',\n",
    "        side='right'\n",
    "    ),\n",
    "    barmode='stack',  # Set the bar mode to stack\n",
    "    width=1250,  # Set the width of the plot\n",
    "    height=550,  # Set the height of the plot\n",
    ")\n",
    "\n",
    "# Show the figure\n",
    "fig4.show()\n"
   ]
  },
  {
   "cell_type": "code",
   "execution_count": 9,
   "metadata": {},
   "outputs": [
    {
     "data": {
      "application/vnd.plotly.v1+json": {
       "config": {
        "plotlyServerURL": "https://plot.ly"
       },
       "data": [
        {
         "branchvalues": "total",
         "customdata": [
          [
           40
          ],
          [
           38
          ],
          [
           36
          ],
          [
           34
          ],
          [
           50
          ],
          [
           60
          ],
          [
           55
          ],
          [
           50
          ],
          [
           52
          ],
          [
           50
          ],
          [
           52
          ],
          [
           50
          ],
          [
           48
          ],
          [
           60
          ],
          [
           70
          ],
          [
           68
          ],
          [
           65
          ],
          [
           67
          ],
          [
           60
          ],
          [
           58
          ],
          [
           56
          ],
          [
           54
          ],
          [
           68
          ],
          [
           80
          ],
          [
           75
          ],
          [
           72
          ],
          [
           73
          ],
          [
           55
          ],
          [
           53
          ],
          [
           52
          ],
          [
           50
          ],
          [
           65
          ],
          [
           75
          ],
          [
           70
          ],
          [
           68
          ],
          [
           69
          ],
          [
           48
          ],
          [
           46
          ],
          [
           45
          ],
          [
           44
          ],
          [
           58
          ],
          [
           68
          ],
          [
           60
          ],
          [
           58
          ],
          [
           61
          ],
          [
           10
          ],
          [
           12
          ],
          [
           15
          ],
          [
           17
          ],
          [
           25
          ],
          [
           30
          ],
          [
           28
          ],
          [
           25
          ],
          [
           27
          ],
          [
           49.92015209125475
          ],
          [
           48.575289575289574
          ],
          [
           46.79527559055118
          ],
          [
           44.94331983805668
          ],
          [
           58.0920245398773
          ],
          [
           68.0130548302872
          ],
          [
           63.36516853932584
          ],
          [
           60.71597633136095
          ],
          [
           62.27220630372493
          ]
         ],
         "domain": {
          "x": [
           0,
           1
          ],
          "y": [
           0,
           1
          ]
         },
         "hovertemplate": "labels=%{label}<br>Victims Count_sum=%{value}<br>parent=%{parent}<br>id=%{id}<br>Victims Count=%{color}<extra></extra>",
         "ids": [
          "2015/20-29",
          "2016/20-29",
          "2017/20-29",
          "2018/20-29",
          "2019/20-29",
          "2020/20-29",
          "2021/20-29",
          "2022/20-29",
          "2023/20-29",
          "2015/30-39",
          "2016/30-39",
          "2017/30-39",
          "2018/30-39",
          "2019/30-39",
          "2020/30-39",
          "2021/30-39",
          "2022/30-39",
          "2023/30-39",
          "2015/40-49",
          "2016/40-49",
          "2017/40-49",
          "2018/40-49",
          "2019/40-49",
          "2020/40-49",
          "2021/40-49",
          "2022/40-49",
          "2023/40-49",
          "2015/50-59",
          "2016/50-59",
          "2017/50-59",
          "2018/50-59",
          "2019/50-59",
          "2020/50-59",
          "2021/50-59",
          "2022/50-59",
          "2023/50-59",
          "2015/Over 60",
          "2016/Over 60",
          "2017/Over 60",
          "2018/Over 60",
          "2019/Over 60",
          "2020/Over 60",
          "2021/Over 60",
          "2022/Over 60",
          "2023/Over 60",
          "2015/Under 20",
          "2016/Under 20",
          "2017/Under 20",
          "2018/Under 20",
          "2019/Under 20",
          "2020/Under 20",
          "2021/Under 20",
          "2022/Under 20",
          "2023/Under 20",
          "2015",
          "2016",
          "2017",
          "2018",
          "2019",
          "2020",
          "2021",
          "2022",
          "2023"
         ],
         "labels": [
          "20-29",
          "20-29",
          "20-29",
          "20-29",
          "20-29",
          "20-29",
          "20-29",
          "20-29",
          "20-29",
          "30-39",
          "30-39",
          "30-39",
          "30-39",
          "30-39",
          "30-39",
          "30-39",
          "30-39",
          "30-39",
          "40-49",
          "40-49",
          "40-49",
          "40-49",
          "40-49",
          "40-49",
          "40-49",
          "40-49",
          "40-49",
          "50-59",
          "50-59",
          "50-59",
          "50-59",
          "50-59",
          "50-59",
          "50-59",
          "50-59",
          "50-59",
          "Over 60",
          "Over 60",
          "Over 60",
          "Over 60",
          "Over 60",
          "Over 60",
          "Over 60",
          "Over 60",
          "Over 60",
          "Under 20",
          "Under 20",
          "Under 20",
          "Under 20",
          "Under 20",
          "Under 20",
          "Under 20",
          "Under 20",
          "Under 20",
          "2015",
          "2016",
          "2017",
          "2018",
          "2019",
          "2020",
          "2021",
          "2022",
          "2023"
         ],
         "marker": {
          "coloraxis": "coloraxis",
          "colors": [
           40,
           38,
           36,
           34,
           50,
           60,
           55,
           50,
           52,
           50,
           52,
           50,
           48,
           60,
           70,
           68,
           65,
           67,
           60,
           58,
           56,
           54,
           68,
           80,
           75,
           72,
           73,
           55,
           53,
           52,
           50,
           65,
           75,
           70,
           68,
           69,
           48,
           46,
           45,
           44,
           58,
           68,
           60,
           58,
           61,
           10,
           12,
           15,
           17,
           25,
           30,
           28,
           25,
           27,
           49.92015209125475,
           48.575289575289574,
           46.79527559055118,
           44.94331983805668,
           58.0920245398773,
           68.0130548302872,
           63.36516853932584,
           60.71597633136095,
           62.27220630372493
          ]
         },
         "name": "",
         "parents": [
          "2015",
          "2016",
          "2017",
          "2018",
          "2019",
          "2020",
          "2021",
          "2022",
          "2023",
          "2015",
          "2016",
          "2017",
          "2018",
          "2019",
          "2020",
          "2021",
          "2022",
          "2023",
          "2015",
          "2016",
          "2017",
          "2018",
          "2019",
          "2020",
          "2021",
          "2022",
          "2023",
          "2015",
          "2016",
          "2017",
          "2018",
          "2019",
          "2020",
          "2021",
          "2022",
          "2023",
          "2015",
          "2016",
          "2017",
          "2018",
          "2019",
          "2020",
          "2021",
          "2022",
          "2023",
          "2015",
          "2016",
          "2017",
          "2018",
          "2019",
          "2020",
          "2021",
          "2022",
          "2023",
          "",
          "",
          "",
          "",
          "",
          "",
          "",
          "",
          ""
         ],
         "type": "sunburst",
         "values": [
          40,
          38,
          36,
          34,
          50,
          60,
          55,
          50,
          52,
          50,
          52,
          50,
          48,
          60,
          70,
          68,
          65,
          67,
          60,
          58,
          56,
          54,
          68,
          80,
          75,
          72,
          73,
          55,
          53,
          52,
          50,
          65,
          75,
          70,
          68,
          69,
          48,
          46,
          45,
          44,
          58,
          68,
          60,
          58,
          61,
          10,
          12,
          15,
          17,
          25,
          30,
          28,
          25,
          27,
          263,
          259,
          254,
          247,
          326,
          383,
          356,
          338,
          349
         ]
        }
       ],
       "layout": {
        "coloraxis": {
         "colorbar": {
          "title": {
           "text": "Victims Count"
          }
         },
         "colorscale": [
          [
           0,
           "rgb(255,255,229)"
          ],
          [
           0.125,
           "rgb(255,247,188)"
          ],
          [
           0.25,
           "rgb(254,227,145)"
          ],
          [
           0.375,
           "rgb(254,196,79)"
          ],
          [
           0.5,
           "rgb(254,153,41)"
          ],
          [
           0.625,
           "rgb(236,112,20)"
          ],
          [
           0.75,
           "rgb(204,76,2)"
          ],
          [
           0.875,
           "rgb(153,52,4)"
          ],
          [
           1,
           "rgb(102,37,6)"
          ]
         ]
        },
        "height": 500,
        "legend": {
         "tracegroupgap": 0
        },
        "template": {
         "data": {
          "bar": [
           {
            "error_x": {
             "color": "#f2f5fa"
            },
            "error_y": {
             "color": "#f2f5fa"
            },
            "marker": {
             "line": {
              "color": "rgb(17,17,17)",
              "width": 0.5
             },
             "pattern": {
              "fillmode": "overlay",
              "size": 10,
              "solidity": 0.2
             }
            },
            "type": "bar"
           }
          ],
          "barpolar": [
           {
            "marker": {
             "line": {
              "color": "rgb(17,17,17)",
              "width": 0.5
             },
             "pattern": {
              "fillmode": "overlay",
              "size": 10,
              "solidity": 0.2
             }
            },
            "type": "barpolar"
           }
          ],
          "carpet": [
           {
            "aaxis": {
             "endlinecolor": "#A2B1C6",
             "gridcolor": "#506784",
             "linecolor": "#506784",
             "minorgridcolor": "#506784",
             "startlinecolor": "#A2B1C6"
            },
            "baxis": {
             "endlinecolor": "#A2B1C6",
             "gridcolor": "#506784",
             "linecolor": "#506784",
             "minorgridcolor": "#506784",
             "startlinecolor": "#A2B1C6"
            },
            "type": "carpet"
           }
          ],
          "choropleth": [
           {
            "colorbar": {
             "outlinewidth": 0,
             "ticks": ""
            },
            "type": "choropleth"
           }
          ],
          "contour": [
           {
            "colorbar": {
             "outlinewidth": 0,
             "ticks": ""
            },
            "colorscale": [
             [
              0,
              "#0d0887"
             ],
             [
              0.1111111111111111,
              "#46039f"
             ],
             [
              0.2222222222222222,
              "#7201a8"
             ],
             [
              0.3333333333333333,
              "#9c179e"
             ],
             [
              0.4444444444444444,
              "#bd3786"
             ],
             [
              0.5555555555555556,
              "#d8576b"
             ],
             [
              0.6666666666666666,
              "#ed7953"
             ],
             [
              0.7777777777777778,
              "#fb9f3a"
             ],
             [
              0.8888888888888888,
              "#fdca26"
             ],
             [
              1,
              "#f0f921"
             ]
            ],
            "type": "contour"
           }
          ],
          "contourcarpet": [
           {
            "colorbar": {
             "outlinewidth": 0,
             "ticks": ""
            },
            "type": "contourcarpet"
           }
          ],
          "heatmap": [
           {
            "colorbar": {
             "outlinewidth": 0,
             "ticks": ""
            },
            "colorscale": [
             [
              0,
              "#0d0887"
             ],
             [
              0.1111111111111111,
              "#46039f"
             ],
             [
              0.2222222222222222,
              "#7201a8"
             ],
             [
              0.3333333333333333,
              "#9c179e"
             ],
             [
              0.4444444444444444,
              "#bd3786"
             ],
             [
              0.5555555555555556,
              "#d8576b"
             ],
             [
              0.6666666666666666,
              "#ed7953"
             ],
             [
              0.7777777777777778,
              "#fb9f3a"
             ],
             [
              0.8888888888888888,
              "#fdca26"
             ],
             [
              1,
              "#f0f921"
             ]
            ],
            "type": "heatmap"
           }
          ],
          "heatmapgl": [
           {
            "colorbar": {
             "outlinewidth": 0,
             "ticks": ""
            },
            "colorscale": [
             [
              0,
              "#0d0887"
             ],
             [
              0.1111111111111111,
              "#46039f"
             ],
             [
              0.2222222222222222,
              "#7201a8"
             ],
             [
              0.3333333333333333,
              "#9c179e"
             ],
             [
              0.4444444444444444,
              "#bd3786"
             ],
             [
              0.5555555555555556,
              "#d8576b"
             ],
             [
              0.6666666666666666,
              "#ed7953"
             ],
             [
              0.7777777777777778,
              "#fb9f3a"
             ],
             [
              0.8888888888888888,
              "#fdca26"
             ],
             [
              1,
              "#f0f921"
             ]
            ],
            "type": "heatmapgl"
           }
          ],
          "histogram": [
           {
            "marker": {
             "pattern": {
              "fillmode": "overlay",
              "size": 10,
              "solidity": 0.2
             }
            },
            "type": "histogram"
           }
          ],
          "histogram2d": [
           {
            "colorbar": {
             "outlinewidth": 0,
             "ticks": ""
            },
            "colorscale": [
             [
              0,
              "#0d0887"
             ],
             [
              0.1111111111111111,
              "#46039f"
             ],
             [
              0.2222222222222222,
              "#7201a8"
             ],
             [
              0.3333333333333333,
              "#9c179e"
             ],
             [
              0.4444444444444444,
              "#bd3786"
             ],
             [
              0.5555555555555556,
              "#d8576b"
             ],
             [
              0.6666666666666666,
              "#ed7953"
             ],
             [
              0.7777777777777778,
              "#fb9f3a"
             ],
             [
              0.8888888888888888,
              "#fdca26"
             ],
             [
              1,
              "#f0f921"
             ]
            ],
            "type": "histogram2d"
           }
          ],
          "histogram2dcontour": [
           {
            "colorbar": {
             "outlinewidth": 0,
             "ticks": ""
            },
            "colorscale": [
             [
              0,
              "#0d0887"
             ],
             [
              0.1111111111111111,
              "#46039f"
             ],
             [
              0.2222222222222222,
              "#7201a8"
             ],
             [
              0.3333333333333333,
              "#9c179e"
             ],
             [
              0.4444444444444444,
              "#bd3786"
             ],
             [
              0.5555555555555556,
              "#d8576b"
             ],
             [
              0.6666666666666666,
              "#ed7953"
             ],
             [
              0.7777777777777778,
              "#fb9f3a"
             ],
             [
              0.8888888888888888,
              "#fdca26"
             ],
             [
              1,
              "#f0f921"
             ]
            ],
            "type": "histogram2dcontour"
           }
          ],
          "mesh3d": [
           {
            "colorbar": {
             "outlinewidth": 0,
             "ticks": ""
            },
            "type": "mesh3d"
           }
          ],
          "parcoords": [
           {
            "line": {
             "colorbar": {
              "outlinewidth": 0,
              "ticks": ""
             }
            },
            "type": "parcoords"
           }
          ],
          "pie": [
           {
            "automargin": true,
            "type": "pie"
           }
          ],
          "scatter": [
           {
            "marker": {
             "line": {
              "color": "#283442"
             }
            },
            "type": "scatter"
           }
          ],
          "scatter3d": [
           {
            "line": {
             "colorbar": {
              "outlinewidth": 0,
              "ticks": ""
             }
            },
            "marker": {
             "colorbar": {
              "outlinewidth": 0,
              "ticks": ""
             }
            },
            "type": "scatter3d"
           }
          ],
          "scattercarpet": [
           {
            "marker": {
             "colorbar": {
              "outlinewidth": 0,
              "ticks": ""
             }
            },
            "type": "scattercarpet"
           }
          ],
          "scattergeo": [
           {
            "marker": {
             "colorbar": {
              "outlinewidth": 0,
              "ticks": ""
             }
            },
            "type": "scattergeo"
           }
          ],
          "scattergl": [
           {
            "marker": {
             "line": {
              "color": "#283442"
             }
            },
            "type": "scattergl"
           }
          ],
          "scattermapbox": [
           {
            "marker": {
             "colorbar": {
              "outlinewidth": 0,
              "ticks": ""
             }
            },
            "type": "scattermapbox"
           }
          ],
          "scatterpolar": [
           {
            "marker": {
             "colorbar": {
              "outlinewidth": 0,
              "ticks": ""
             }
            },
            "type": "scatterpolar"
           }
          ],
          "scatterpolargl": [
           {
            "marker": {
             "colorbar": {
              "outlinewidth": 0,
              "ticks": ""
             }
            },
            "type": "scatterpolargl"
           }
          ],
          "scatterternary": [
           {
            "marker": {
             "colorbar": {
              "outlinewidth": 0,
              "ticks": ""
             }
            },
            "type": "scatterternary"
           }
          ],
          "surface": [
           {
            "colorbar": {
             "outlinewidth": 0,
             "ticks": ""
            },
            "colorscale": [
             [
              0,
              "#0d0887"
             ],
             [
              0.1111111111111111,
              "#46039f"
             ],
             [
              0.2222222222222222,
              "#7201a8"
             ],
             [
              0.3333333333333333,
              "#9c179e"
             ],
             [
              0.4444444444444444,
              "#bd3786"
             ],
             [
              0.5555555555555556,
              "#d8576b"
             ],
             [
              0.6666666666666666,
              "#ed7953"
             ],
             [
              0.7777777777777778,
              "#fb9f3a"
             ],
             [
              0.8888888888888888,
              "#fdca26"
             ],
             [
              1,
              "#f0f921"
             ]
            ],
            "type": "surface"
           }
          ],
          "table": [
           {
            "cells": {
             "fill": {
              "color": "#506784"
             },
             "line": {
              "color": "rgb(17,17,17)"
             }
            },
            "header": {
             "fill": {
              "color": "#2a3f5f"
             },
             "line": {
              "color": "rgb(17,17,17)"
             }
            },
            "type": "table"
           }
          ]
         },
         "layout": {
          "annotationdefaults": {
           "arrowcolor": "#f2f5fa",
           "arrowhead": 0,
           "arrowwidth": 1
          },
          "autotypenumbers": "strict",
          "coloraxis": {
           "colorbar": {
            "outlinewidth": 0,
            "ticks": ""
           }
          },
          "colorscale": {
           "diverging": [
            [
             0,
             "#8e0152"
            ],
            [
             0.1,
             "#c51b7d"
            ],
            [
             0.2,
             "#de77ae"
            ],
            [
             0.3,
             "#f1b6da"
            ],
            [
             0.4,
             "#fde0ef"
            ],
            [
             0.5,
             "#f7f7f7"
            ],
            [
             0.6,
             "#e6f5d0"
            ],
            [
             0.7,
             "#b8e186"
            ],
            [
             0.8,
             "#7fbc41"
            ],
            [
             0.9,
             "#4d9221"
            ],
            [
             1,
             "#276419"
            ]
           ],
           "sequential": [
            [
             0,
             "#0d0887"
            ],
            [
             0.1111111111111111,
             "#46039f"
            ],
            [
             0.2222222222222222,
             "#7201a8"
            ],
            [
             0.3333333333333333,
             "#9c179e"
            ],
            [
             0.4444444444444444,
             "#bd3786"
            ],
            [
             0.5555555555555556,
             "#d8576b"
            ],
            [
             0.6666666666666666,
             "#ed7953"
            ],
            [
             0.7777777777777778,
             "#fb9f3a"
            ],
            [
             0.8888888888888888,
             "#fdca26"
            ],
            [
             1,
             "#f0f921"
            ]
           ],
           "sequentialminus": [
            [
             0,
             "#0d0887"
            ],
            [
             0.1111111111111111,
             "#46039f"
            ],
            [
             0.2222222222222222,
             "#7201a8"
            ],
            [
             0.3333333333333333,
             "#9c179e"
            ],
            [
             0.4444444444444444,
             "#bd3786"
            ],
            [
             0.5555555555555556,
             "#d8576b"
            ],
            [
             0.6666666666666666,
             "#ed7953"
            ],
            [
             0.7777777777777778,
             "#fb9f3a"
            ],
            [
             0.8888888888888888,
             "#fdca26"
            ],
            [
             1,
             "#f0f921"
            ]
           ]
          },
          "colorway": [
           "#636efa",
           "#EF553B",
           "#00cc96",
           "#ab63fa",
           "#FFA15A",
           "#19d3f3",
           "#FF6692",
           "#B6E880",
           "#FF97FF",
           "#FECB52"
          ],
          "font": {
           "color": "#f2f5fa"
          },
          "geo": {
           "bgcolor": "rgb(17,17,17)",
           "lakecolor": "rgb(17,17,17)",
           "landcolor": "rgb(17,17,17)",
           "showlakes": true,
           "showland": true,
           "subunitcolor": "#506784"
          },
          "hoverlabel": {
           "align": "left"
          },
          "hovermode": "closest",
          "mapbox": {
           "style": "dark"
          },
          "paper_bgcolor": "rgb(17,17,17)",
          "plot_bgcolor": "rgb(17,17,17)",
          "polar": {
           "angularaxis": {
            "gridcolor": "#506784",
            "linecolor": "#506784",
            "ticks": ""
           },
           "bgcolor": "rgb(17,17,17)",
           "radialaxis": {
            "gridcolor": "#506784",
            "linecolor": "#506784",
            "ticks": ""
           }
          },
          "scene": {
           "xaxis": {
            "backgroundcolor": "rgb(17,17,17)",
            "gridcolor": "#506784",
            "gridwidth": 2,
            "linecolor": "#506784",
            "showbackground": true,
            "ticks": "",
            "zerolinecolor": "#C8D4E3"
           },
           "yaxis": {
            "backgroundcolor": "rgb(17,17,17)",
            "gridcolor": "#506784",
            "gridwidth": 2,
            "linecolor": "#506784",
            "showbackground": true,
            "ticks": "",
            "zerolinecolor": "#C8D4E3"
           },
           "zaxis": {
            "backgroundcolor": "rgb(17,17,17)",
            "gridcolor": "#506784",
            "gridwidth": 2,
            "linecolor": "#506784",
            "showbackground": true,
            "ticks": "",
            "zerolinecolor": "#C8D4E3"
           }
          },
          "shapedefaults": {
           "line": {
            "color": "#f2f5fa"
           }
          },
          "sliderdefaults": {
           "bgcolor": "#C8D4E3",
           "bordercolor": "rgb(17,17,17)",
           "borderwidth": 1,
           "tickwidth": 0
          },
          "ternary": {
           "aaxis": {
            "gridcolor": "#506784",
            "linecolor": "#506784",
            "ticks": ""
           },
           "baxis": {
            "gridcolor": "#506784",
            "linecolor": "#506784",
            "ticks": ""
           },
           "bgcolor": "rgb(17,17,17)",
           "caxis": {
            "gridcolor": "#506784",
            "linecolor": "#506784",
            "ticks": ""
           }
          },
          "title": {
           "x": 0.05
          },
          "updatemenudefaults": {
           "bgcolor": "#506784",
           "borderwidth": 0
          },
          "xaxis": {
           "automargin": true,
           "gridcolor": "#283442",
           "linecolor": "#506784",
           "ticks": "",
           "title": {
            "standoff": 15
           },
           "zerolinecolor": "#283442",
           "zerolinewidth": 2
          },
          "yaxis": {
           "automargin": true,
           "gridcolor": "#283442",
           "linecolor": "#506784",
           "ticks": "",
           "title": {
            "standoff": 15
           },
           "zerolinecolor": "#283442",
           "zerolinewidth": 2
          }
         }
        },
        "title": {
         "text": "Cybercrime Victims by Year and Age Group (2015-2023)"
        },
        "width": 1250
       }
      }
     },
     "metadata": {},
     "output_type": "display_data"
    }
   ],
   "source": [
    "\n",
    "df = pd.read_csv('cybercrime_victims_by_year_age.csv')\n",
    "\n",
    "# Create the Sunburst Chart\n",
    "sunburst_fig = px.sunburst(df, \n",
    "                       path=['Year', 'Age Group'], \n",
    "                       values='Victims Count', \n",
    "                       title='Cybercrime Victims by Year and Age Group (2015-2023)',\n",
    "                       color='Victims Count',\n",
    "                       color_continuous_scale='YlOrBr',  # Change this to a different color scale\n",
    "                       branchvalues='total',\n",
    "                       template='plotly_dark')\n",
    "sunburst_fig.update_layout(\n",
    "   \n",
    "    width=1250,  # Set the width of the plot\n",
    "    height=500,  # Set the height of the plot\n",
    ")\n",
    "\n",
    "\n",
    "\n",
    "# Show the chart\n",
    "sunburst_fig.show()"
   ]
  },
  {
   "cell_type": "code",
   "execution_count": 10,
   "metadata": {},
   "outputs": [
    {
     "data": {
      "text/html": [
       "\n",
       "        <iframe\n",
       "            width=\"100%\"\n",
       "            height=\"650\"\n",
       "            src=\"http://127.0.0.1:8020/\"\n",
       "            frameborder=\"0\"\n",
       "            allowfullscreen\n",
       "            \n",
       "        ></iframe>\n",
       "        "
      ],
      "text/plain": [
       "<IPython.lib.display.IFrame at 0x2a93057be20>"
      ]
     },
     "metadata": {},
     "output_type": "display_data"
    }
   ],
   "source": [
    "# Create the app\n",
    "app = dash.Dash(__name__, external_stylesheets=[dbc.themes.SLATE], suppress_callback_exceptions=True)\n",
    "\n",
    "# Sidebar layout with full height and centered buttons\n",
    "sidebar = html.Div(\n",
    "    [\n",
    "        html.Hr(),\n",
    "        html.H6(\"Defending Your Data and Empowering Your Peace of Mind in a Connected World\", style={'color': 'white', 'text-align': 'center', 'margin-bottom': '10px'}),\n",
    "        dbc.Button(\"World Threats Analysis\", href=\"/visuals1\", id=\"visuals1-button\", color=\"primary\", className=\"mb-2\", style={'border-radius': '25px', 'width': '150px'}),\n",
    "        dbc.Button(\"Cyber_Threats Impact\", href=\"/visuals2\", id=\"visuals2-button\", color=\"secondary\", className=\"mb-2\", style={'border-radius': '25px', 'width': '150px'}),\n",
    "        html.H6(\"Fortifying Your Digital Frontier Against Evolving Threats\", style={'color': 'white', 'text-align': 'center', 'margin-bottom': '10px'}),\n",
    "        \n",
    "    ],\n",
    "    style={\n",
    "        'width': '15%',\n",
    "        'position': 'fixed', \n",
    "        'top': '0',  \n",
    "        'right': '0', \n",
    "        'height': '100%',  \n",
    "        'backgroundColor': '#343a40',\n",
    "        'padding': '10px',\n",
    "        'z-index': '10',  \n",
    "        'display': 'flex',\n",
    "        'flexDirection': 'column',\n",
    "        'justifyContent': 'center',\n",
    "        'alignItems': 'center'\n",
    "    }\n",
    ")\n",
    "\n",
    "# Title of the dashboard\n",
    "title = html.H1(\"The Cyber Sentinel: Safeguarding Your Digital World\", style={\n",
    "    'text-align': 'center', \n",
    "    'position': 'fixed', \n",
    "    'top': '10px', \n",
    "    'left': '50%', \n",
    "    'transform': 'translateX(-50%)', \n",
    "    'width': '100%', \n",
    "    'z-index': '999'\n",
    "})\n",
    "\n",
    "# Content layout with fixed height, adjusted for the sidebar\n",
    "content = html.Div(id=\"page-content\", style={\n",
    "    'margin-right': '15%',\n",
    "    'margin-left': '0',\n",
    "    'margin-top': '60px', \n",
    "    'height': 'calc(100vh - 100px)',  \n",
    "    'overflowY': 'auto',  \n",
    "    'padding': '10px',  \n",
    "    'z-index': '1',\n",
    "})\n",
    "\n",
    "# Define the first page visuals with proper spacing and centering\n",
    "first = dbc.Container([\n",
    "    dbc.Row(\n",
    "        dbc.Col(dcc.Graph(figure=fig1, style={'width': '100%', 'height': '400px'}), width=12),\n",
    "        justify=\"center\",  # Center the graph\n",
    "        style={'margin-bottom': '40px'}  # Space below fig1\n",
    "    ),\n",
    "    dbc.Row(\n",
    "        dbc.Col(html.Hr(style={'border': '1px solid #ccc', 'margin-bottom': '20px'})),  # Divider\n",
    "    ),\n",
    "    dbc.Row(\n",
    "        dbc.Col(dcc.Graph(figure=fig2, style={'width': '100%', 'height': '500px'}), width=12),\n",
    "        justify=\"center\",  # Center the graph\n",
    "        style={'margin-bottom': '40px'}  # Space below fig2\n",
    "    ),\n",
    "    dbc.Row(\n",
    "        dbc.Col(html.Hr(style={'border': '1px solid #ccc', 'margin-bottom': '20px'})),  # Divider\n",
    "    ),\n",
    "    dbc.Row(\n",
    "        dbc.Col(dcc.Graph(figure=fig3, style={'width': '100%', 'height': '450px'}), width=12),\n",
    "        justify=\"center\",  # Center the graph\n",
    "        style={'margin-bottom': '40px'}  # Space below fig3\n",
    "    ),\n",
    "], fluid=True)\n",
    "\n",
    "# Define the second page visuals with proper spacing and centering\n",
    "second = dbc.Container([\n",
    "    dbc.Row(\n",
    "        dbc.Col(dcc.Graph(figure=sunburst_fig, style={'width': '100%', 'height': '400px'}), width=12),\n",
    "        justify=\"center\",  # Center the graph\n",
    "        style={'margin-bottom': '40px'}  # Space below sunburst_fig\n",
    "    ),\n",
    "    dbc.Row(\n",
    "        dbc.Col(html.Hr(style={'border': '1px solid #ccc', 'margin-bottom': '20px'})),  # Divider\n",
    "    ),\n",
    "    dbc.Row(\n",
    "        dbc.Col(dcc.Graph(figure=fig5, style={'width': '100%', 'height': '450px'}), width=12),\n",
    "        justify=\"center\",  # Center the graph\n",
    "        style={'margin-bottom': '40px'}  # Space below fig5\n",
    "    ),\n",
    "    dbc.Row(\n",
    "        dbc.Col(html.Hr(style={'border': '1px solid #ccc', 'margin-bottom': '20px'})),  # Divider\n",
    "    ),\n",
    "    dbc.Row(\n",
    "        dbc.Col(dcc.Graph(figure=fig4, style={'width': '100%', 'height': '500px'}), width=12),\n",
    "        justify=\"center\",  # Center the graph\n",
    "        style={'margin-bottom': '40px'}  # Space below fig4\n",
    "    ),\n",
    "], fluid=True)\n",
    "\n",
    "# App layout\n",
    "app.layout = html.Div([\n",
    "    dcc.Location(id='url'),\n",
    "    sidebar,\n",
    "    title,\n",
    "    content\n",
    "])\n",
    "\n",
    "# Callback to control navigation\n",
    "@app.callback(Output(\"page-content\", \"children\"), [Input(\"url\", \"pathname\")])\n",
    "def display_page(pathname):\n",
    "    if pathname == \"/visuals1\" or pathname == \"/\":  \n",
    "        return first  # Load the first visual for Water Analysis\n",
    "    elif pathname == \"/visuals2\":\n",
    "        return second  # Load the first visual for Water Impact\n",
    "    else:\n",
    "        return first  # Default to the first visual\n",
    "\n",
    "# Run the app on a different port\n",
    "if __name__ == \"__main__\":  \n",
    "    app.run_server(debug=True, port=8020)\n"
   ]
  },
  {
   "cell_type": "code",
   "execution_count": null,
   "metadata": {},
   "outputs": [],
   "source": []
  },
  {
   "cell_type": "code",
   "execution_count": null,
   "metadata": {},
   "outputs": [],
   "source": []
  }
 ],
 "metadata": {
  "kernelspec": {
   "display_name": "base",
   "language": "python",
   "name": "python3"
  },
  "language_info": {
   "codemirror_mode": {
    "name": "ipython",
    "version": 3
   },
   "file_extension": ".py",
   "mimetype": "text/x-python",
   "name": "python",
   "nbconvert_exporter": "python",
   "pygments_lexer": "ipython3",
   "version": "3.10.9"
  }
 },
 "nbformat": 4,
 "nbformat_minor": 2
}
